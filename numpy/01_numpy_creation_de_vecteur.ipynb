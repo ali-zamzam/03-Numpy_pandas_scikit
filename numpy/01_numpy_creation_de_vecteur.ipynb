{
 "cells": [
  {
   "cell_type": "markdown",
   "metadata": {},
   "source": [
    "<h1>Numpy Manipulation des vecteur avec numpy<h1>"
   ]
  },
  {
   "cell_type": "markdown",
   "metadata": {},
   "source": [
    "<p>Numpy est un package pour Python spécialisé dans la manipulation des  tableaux (array), pour nous essentiellement les vecteurs et les matrices</p>\n",
    "\n",
    "<p>Les tableaux \" numpy \" ne gère que les objets de même type</p>\n",
    "\n",
    "<p>Le package propose un grand nombre de routines pour un accès rapide  aux données (ex. recherche, extraction), pour les manipulations diverses\n",
    "(ex. tri), pour les calculs (ex. calcul statistique)</p>\n",
    "\n",
    "<p>Les tableaux \" numpy \" sont plus performants (rapidité, gestion de la  volumétrie) que les collections usuelles de Python</p>\n",
    "\n",
    "<p>Les tableaux \" numpy \" sont sous-jacents à de nombreux packages dédiés au calcul scientifique sous Python.</p>\n",
    "\n",
    "<h4>Attention, un vecteur est en réalité une matrice à 1 seule dimension</h4>"
   ]
  },
  {
   "cell_type": "code",
   "execution_count": 144,
   "metadata": {},
   "outputs": [],
   "source": [
    "#np sera l’alias utilisé pour accéder aux  routines de la librairie numpy\n",
    "import numpy as np"
   ]
  },
  {
   "cell_type": "code",
   "execution_count": 145,
   "metadata": {
    "pycharm": {
     "name": "#%%\n"
    }
   },
   "outputs": [],
   "source": [
    "a =np.array([1.2,2.5,3.2,1.8])"
   ]
  },
  {
   "cell_type": "markdown",
   "metadata": {},
   "source": [
    "#type de la structure"
   ]
  },
  {
   "cell_type": "code",
   "execution_count": 146,
   "metadata": {
    "pycharm": {
     "name": "#%%\n"
    }
   },
   "outputs": [
    {
     "name": "stdout",
     "output_type": "stream",
     "text": [
      "<class 'numpy.ndarray'>\n"
     ]
    }
   ],
   "source": [
    "print(type(a)) #<class‘numpy.ndarray’>"
   ]
  },
  {
   "cell_type": "code",
   "execution_count": 147,
   "metadata": {
    "pycharm": {
     "name": "#%%\n"
    }
   },
   "outputs": [
    {
     "name": "stdout",
     "output_type": "stream",
     "text": [
      "float64\n"
     ]
    }
   ],
   "source": [
    "#type des données\n",
    "print(a.dtype)  #float64"
   ]
  },
  {
   "cell_type": "code",
   "execution_count": 148,
   "metadata": {
    "pycharm": {
     "name": "#%%\n"
    }
   },
   "outputs": [
    {
     "name": "stdout",
     "output_type": "stream",
     "text": [
      "1\n"
     ]
    }
   ],
   "source": [
    "#1 (on aura 2 si matrice,etc.)\n",
    "print(a.ndim)"
   ]
  },
  {
   "cell_type": "code",
   "execution_count": 149,
   "metadata": {
    "pycharm": {
     "name": "#%%\n"
    }
   },
   "outputs": [
    {
     "name": "stdout",
     "output_type": "stream",
     "text": [
      "(4,)\n"
     ]
    }
   ],
   "source": [
    "#nombre de lignes etcol\n",
    "print(a.shape) #(4,) on a tuple ! 4 cases sur la 1ère dim(n°0)"
   ]
  },
  {
   "cell_type": "code",
   "execution_count": 150,
   "metadata": {
    "pycharm": {
     "name": "#%%\n"
    }
   },
   "outputs": [
    {
     "name": "stdout",
     "output_type": "stream",
     "text": [
      "4\n"
     ]
    }
   ],
   "source": [
    "#nombre totale devaleurs\n",
    "print(a.size)  #4, nb.lignes x nb.colonnes simatrice\n"
   ]
  },
  {
   "cell_type": "markdown",
   "metadata": {},
   "source": [
    "Le typage des valeurs peut être implicite ou explicite"
   ]
  },
  {
   "cell_type": "code",
   "execution_count": 151,
   "metadata": {
    "pycharm": {
     "name": "#%%\n"
    }
   },
   "outputs": [
    {
     "name": "stdout",
     "output_type": "stream",
     "text": [
      "int64\n"
     ]
    }
   ],
   "source": [
    "#création et typage implicite\n",
    "a = np.array([1,2,4])\n",
    "print(a.dtype) #int32\n"
   ]
  },
  {
   "cell_type": "code",
   "execution_count": 152,
   "metadata": {
    "pycharm": {
     "name": "#%%\n"
    }
   },
   "outputs": [
    {
     "name": "stdout",
     "output_type": "stream",
     "text": [
      "float64\n",
      "[1. 2. 4.]\n"
     ]
    }
   ],
   "source": [
    "#création et typage explicite –préférable !\n",
    "a = np.array([1,2,4],dtype=float)\n",
    "print(a.dtype) #float64\n",
    "print(a) #[1. 2.4.]"
   ]
  },
  {
   "cell_type": "code",
   "execution_count": 153,
   "metadata": {
    "pycharm": {
     "name": "#%%\n"
    }
   },
   "outputs": [
    {
     "name": "stdout",
     "output_type": "stream",
     "text": [
      "[ True False  True  True]\n"
     ]
    }
   ],
   "source": [
    "#un vecteur de booléens est tout à fait possible\n",
    "b=  np.array([True,False,True,True],dtype=bool)\n",
    "print(b) #[TrueFalseTrueTrue]\n"
   ]
  },
  {
   "cell_type": "markdown",
   "metadata": {},
   "source": [
    "Création d’un array d’objets  complexes (autres que les  types de base) estpossible\n"
   ]
  },
  {
   "cell_type": "code",
   "execution_count": 154,
   "metadata": {
    "pycharm": {
     "name": "#%%\n"
    }
   },
   "outputs": [
    {
     "name": "stdout",
     "output_type": "stream",
     "text": [
      "object\n"
     ]
    }
   ],
   "source": [
    "# la donnée peut être un objet python\n",
    "a =np.array([{\"Toto\":(45,2000)},{\"Tata\":(34,1500)}])\n",
    "print(a.dtype) #object\n"
   ]
  },
  {
   "cell_type": "code",
   "execution_count": 217,
   "metadata": {
    "pycharm": {
     "name": "#%%\n"
    }
   },
   "outputs": [
    {
     "name": "stdout",
     "output_type": "stream",
     "text": [
      "[0 1 2 3 4 5 6 7 8 9]\n"
     ]
    }
   ],
   "source": [
    "#suite arithmétique de raison 1\n",
    "a =np.arange(start=0,stop=10)\n",
    "print(a) #[0 1 2 3 4 5 6 7 8 9], attention dernière valeur est exclue"
   ]
  },
  {
   "cell_type": "code",
   "execution_count": 215,
   "metadata": {},
   "outputs": [
    {
     "name": "stdout",
     "output_type": "stream",
     "text": [
      "[0 1 2 3 4 5 6 7 8 9]\n"
     ]
    }
   ],
   "source": [
    "a = np.arange(10)\n",
    "print(a)"
   ]
  },
  {
   "cell_type": "code",
   "execution_count": 156,
   "metadata": {
    "pycharm": {
     "name": "#%%\n"
    }
   },
   "outputs": [
    {
     "name": "stdout",
     "output_type": "stream",
     "text": [
      "[1. 1. 1. 1. 1.]\n"
     ]
    }
   ],
   "source": [
    "#vecteur de valeurs identiques 1 – 1 seule dim et 5 valeurs\n",
    "a = np.ones(shape=5)\n",
    "print(a) # [1. 1. 1. 1. 1.]\n"
   ]
  },
  {
   "cell_type": "code",
   "execution_count": 214,
   "metadata": {},
   "outputs": [
    {
     "name": "stdout",
     "output_type": "stream",
     "text": [
      "[[[1. 1. 1. 1. 1.]\n",
      "  [1. 1. 1. 1. 1.]\n",
      "  [1. 1. 1. 1. 1.]\n",
      "  [1. 1. 1. 1. 1.]]\n",
      "\n",
      " [[1. 1. 1. 1. 1.]\n",
      "  [1. 1. 1. 1. 1.]\n",
      "  [1. 1. 1. 1. 1.]\n",
      "  [1. 1. 1. 1. 1.]]\n",
      "\n",
      " [[1. 1. 1. 1. 1.]\n",
      "  [1. 1. 1. 1. 1.]\n",
      "  [1. 1. 1. 1. 1.]\n",
      "  [1. 1. 1. 1. 1.]]]\n"
     ]
    }
   ],
   "source": [
    "a = np.ones(shape=(3,4,5)) # 3 * ( 4 ligne  5 colone )\n",
    "print(a) #"
   ]
  },
  {
   "cell_type": "code",
   "execution_count": 219,
   "metadata": {},
   "outputs": [
    {
     "name": "stdout",
     "output_type": "stream",
     "text": [
      "[ 0  1  2  3  4  5  6  7  8  9 10 11 12 13 14 15 16 17 18 19 20 21 22 23\n",
      " 24 25 26 27 28 29 30 31 32 33 34 35 36 37 38 39 40 41 42 43 44 45 46 47\n",
      " 48 49 50 51 52 53 54 55 56 57 58 59]\n"
     ]
    }
   ],
   "source": [
    "# Pour changer les dimensions il existe la fonction numpy (reshape)\n",
    "\n",
    "d = np.arange(60)\n",
    "print(d)\n",
    "# d.reshape(3,4,5) "
   ]
  },
  {
   "cell_type": "code",
   "execution_count": 157,
   "metadata": {
    "pycharm": {
     "name": "#%%\n"
    }
   },
   "outputs": [
    {
     "name": "stdout",
     "output_type": "stream",
     "text": [
      "[3.2 3.2 3.2 3.2 3.2]\n"
     ]
    }
   ],
   "source": [
    "#plus généralement – répétition 5 fois (1 dimension) de la valeur 3.2\n",
    "\n",
    "a = np.full(shape=5,fill_value=3.2)\n",
    "print(a) #[3.2 3.2 3.2 3.2 3.2]\n"
   ]
  },
  {
   "cell_type": "markdown",
   "metadata": {},
   "source": [
    "Les données peuvent  être stockées dans un  fichier texte (loadtxt  pour charger, savetxt  poursauver)\n"
   ]
  },
  {
   "cell_type": "code",
   "execution_count": 158,
   "metadata": {
    "pycharm": {
     "name": "#%%\n"
    }
   },
   "outputs": [
    {
     "name": "stdout",
     "output_type": "stream",
     "text": [
      "[ 4.  5.  8. 16. 68. 14. 35.]\n"
     ]
    }
   ],
   "source": [
    "#charger à partir d'un fichier\n",
    "#typage explicitepossible\n",
    "\n",
    "a = np.loadtxt(\"vecteur.txt\",dtype=float)\n",
    "print(a) #[4. 5. 8. 16. 68. 14. 35.]\n"
   ]
  },
  {
   "cell_type": "markdown",
   "metadata": {},
   "source": [
    "Conversion d’une  collection (type standard  Python) en type array de numpy"
   ]
  },
  {
   "cell_type": "code",
   "execution_count": 159,
   "metadata": {
    "pycharm": {
     "name": "#%%\n"
    }
   },
   "outputs": [
    {
     "name": "stdout",
     "output_type": "stream",
     "text": [
      "<class 'list'>\n",
      "<class 'numpy.ndarray'>\n",
      "[1.2 3.1 4.5]\n"
     ]
    }
   ],
   "source": [
    "#liste de valeurs\n",
    "\n",
    "lst = [1.2,3.1,4.5]\n",
    "print(type(lst))  #<class‘list’>\n",
    "\n",
    "#conversion à partir d'une liste\n",
    "\n",
    "a = np.asarray(lst,dtype=float)\n",
    "\n",
    "print(type(a)) #<class ‘numpy.ndarray’>\n",
    "print(a) #[1.2 3.14.5]\n"
   ]
  },
  {
   "cell_type": "markdown",
   "metadata": {},
   "source": [
    "Rajouter une valeurendernière position"
   ]
  },
  {
   "cell_type": "code",
   "execution_count": 160,
   "metadata": {
    "pycharm": {
     "name": "#%%\n"
    }
   },
   "outputs": [
    {
     "name": "stdout",
     "output_type": "stream",
     "text": [
      "[ 1.2  2.5  3.2  1.8 10. ]\n"
     ]
    }
   ],
   "source": [
    "#vecteur de valeurs\n",
    "\n",
    "a =np.array([1.2,2.5,3.2,1.8])\n",
    "\n",
    "#ajouter une valeur ,  placée en dernière position\n",
    "\n",
    "a =np.append(a,10)\n",
    "print(a) #[1.2 2.5 3.2 1.810.]\n"
   ]
  },
  {
   "cell_type": "markdown",
   "metadata": {},
   "source": [
    "Suppression d’une valeur via son indice"
   ]
  },
  {
   "cell_type": "code",
   "execution_count": 161,
   "metadata": {
    "pycharm": {
     "name": "#%%\n"
    }
   },
   "outputs": [],
   "source": [
    "#suppression via indice\n",
    "\n",
    "b = np.delete(a,2) #une plage d’indices est aussi possible\n",
    "# print(b) #[1.2 2.5 1.810.]\n"
   ]
  },
  {
   "cell_type": "markdown",
   "metadata": {},
   "source": [
    "Redimensionnement  explicite\n"
   ]
  },
  {
   "cell_type": "code",
   "execution_count": 162,
   "metadata": {
    "pycharm": {
     "name": "#%%\n"
    }
   },
   "outputs": [
    {
     "name": "stdout",
     "output_type": "stream",
     "text": [
      "[1 2 3 0 0]\n"
     ]
    }
   ],
   "source": [
    "a =np.array([1,2,3])\n",
    "\n",
    "#redimensionnement\n",
    "\n",
    "a.resize(5)\n",
    "print(a) #[1 2 3 0 0], les nouvelles cases mises à0"
   ]
  },
  {
   "cell_type": "code",
   "execution_count": 163,
   "metadata": {
    "pycharm": {
     "name": "#%%\n"
    }
   },
   "outputs": [
    {
     "name": "stdout",
     "output_type": "stream",
     "text": [
      "[1 2 5 6 2 1 7 4]\n"
     ]
    }
   ],
   "source": [
    "#Concaténation de 2  vecteurs\n",
    "\n",
    "x =np.array([1,2,5,6])\n",
    "y =np.array([2,1,7,4])\n",
    "z =np.append(x,y)\n",
    "print(z) #[1 2 5 6 2 1 7 4]\n",
    "\n"
   ]
  },
  {
   "cell_type": "markdown",
   "metadata": {},
   "source": [
    "<h1>Accéder aux valeurs via des indices ou desconditions</h1>\n",
    "<h1>EXTRACTION DESVALEURS</h1>"
   ]
  },
  {
   "cell_type": "code",
   "execution_count": 164,
   "metadata": {
    "pycharm": {
     "name": "#%%\n"
    }
   },
   "outputs": [],
   "source": [
    "v =np.array([1.2,7.4,4.2,8.5,6.3])"
   ]
  },
  {
   "cell_type": "code",
   "execution_count": 165,
   "metadata": {
    "pycharm": {
     "name": "#%%\n"
    }
   },
   "outputs": [
    {
     "name": "stdout",
     "output_type": "stream",
     "text": [
      "[1.2 7.4 4.2 8.5 6.3]\n",
      "[1.2 7.4 4.2 8.5 6.3]\n"
     ]
    }
   ],
   "source": [
    "#toutes lesvaleurs\n",
    "\n",
    "print(v)\n",
    "# ou\n",
    "print(v[:]) # noter le rôle du : , il faut lire ici début à fin\n"
   ]
  },
  {
   "cell_type": "code",
   "execution_count": 166,
   "metadata": {
    "pycharm": {
     "name": "#%%\n"
    }
   },
   "outputs": [
    {
     "name": "stdout",
     "output_type": "stream",
     "text": [
      "1.2\n"
     ]
    }
   ],
   "source": [
    "#accès indicé - premièrevaleur\n",
    "\n",
    "print(v[0]) # 1.2 – Noter que le 1er indice est 0 (zéro)\n"
   ]
  },
  {
   "cell_type": "code",
   "execution_count": 167,
   "metadata": {
    "pycharm": {
     "name": "#%%\n"
    }
   },
   "outputs": [
    {
     "name": "stdout",
     "output_type": "stream",
     "text": [
      "6.3\n"
     ]
    }
   ],
   "source": [
    "#dernière valeur\n",
    "\n",
    "print(v[v.size-1]) #6.3, v.size est ok parce que v   est unvecteur\n"
   ]
  },
  {
   "cell_type": "code",
   "execution_count": 168,
   "metadata": {
    "pycharm": {
     "name": "#%%\n"
    }
   },
   "outputs": [
    {
     "name": "stdout",
     "output_type": "stream",
     "text": [
      "[7.4 4.2]\n"
     ]
    }
   ],
   "source": [
    "#plage d'indicescontigus\n",
    "\n",
    "print(v[1:3]) # [7.44.2]\n"
   ]
  },
  {
   "cell_type": "code",
   "execution_count": 169,
   "metadata": {
    "pycharm": {
     "name": "#%%\n"
    }
   },
   "outputs": [
    {
     "name": "stdout",
     "output_type": "stream",
     "text": [
      "[1.2 7.4 4.2]\n"
     ]
    }
   ],
   "source": [
    "#extrêmes, début à 3 (non-inclus)\n",
    "\n",
    "print(v[:3]) # [1.2 7.44.2]"
   ]
  },
  {
   "cell_type": "code",
   "execution_count": 170,
   "metadata": {
    "pycharm": {
     "name": "#%%\n"
    }
   },
   "outputs": [
    {
     "name": "stdout",
     "output_type": "stream",
     "text": [
      "[4.2 8.5 6.3]\n"
     ]
    }
   ],
   "source": [
    "#extrêmes, 2 à fin\n",
    "\n",
    "print(v[2:]) # [4.2 8.56.3]"
   ]
  },
  {
   "cell_type": "code",
   "execution_count": 171,
   "metadata": {
    "pycharm": {
     "name": "#%%\n"
    }
   },
   "outputs": [
    {
     "name": "stdout",
     "output_type": "stream",
     "text": [
      "6.3\n"
     ]
    }
   ],
   "source": [
    "#indice négatif\n",
    "\n",
    "print(v[-1]) # 6.3, dernierélément"
   ]
  },
  {
   "cell_type": "code",
   "execution_count": 172,
   "metadata": {
    "pycharm": {
     "name": "#%%\n"
    }
   },
   "outputs": [
    {
     "name": "stdout",
     "output_type": "stream",
     "text": [
      "[4.2 8.5 6.3]\n"
     ]
    }
   ],
   "source": [
    "#indices négatifs\n",
    "\n",
    "print(v[-3:]) # [4.2 8.5 6.3], 3 dernierséléments\n",
    "\n"
   ]
  },
  {
   "cell_type": "markdown",
   "metadata": {},
   "source": [
    "<h2>Accès indicé –Ecriture générique</h2>\n",
    "\n"
   ]
  },
  {
   "cell_type": "code",
   "execution_count": 173,
   "metadata": {
    "pycharm": {
     "name": "#%%\n"
    }
   },
   "outputs": [],
   "source": [
    "v =np.array([1.2,7.4,4.2,8.5,6.3])\n"
   ]
  },
  {
   "cell_type": "markdown",
   "metadata": {},
   "source": [
    "La notation générique des indices est :  <b>début:fin:pas</b>  fin est non inclus dans laliste\n"
   ]
  },
  {
   "cell_type": "code",
   "execution_count": 174,
   "metadata": {
    "pycharm": {
     "name": "#%%\n"
    }
   },
   "outputs": [
    {
     "name": "stdout",
     "output_type": "stream",
     "text": [
      "[7.4 4.2 8.5]\n"
     ]
    }
   ],
   "source": [
    "#valeur n°1 à n°3 avec un pas de 1\n",
    "\n",
    "print(v[1:4:1]) # [7.4, 4.2, 8.5]"
   ]
  },
  {
   "cell_type": "code",
   "execution_count": 175,
   "metadata": {
    "pycharm": {
     "name": "#%%\n"
    }
   },
   "outputs": [
    {
     "name": "stdout",
     "output_type": "stream",
     "text": [
      "[7.4 4.2 8.5]\n"
     ]
    }
   ],
   "source": [
    "#le pas de 1 est implicite\n",
    "\n",
    "print(v[1:4]) # [7.4, 4.2,8.5]\n"
   ]
  },
  {
   "cell_type": "code",
   "execution_count": 176,
   "metadata": {
    "pycharm": {
     "name": "#%%\n"
    }
   },
   "outputs": [
    {
     "name": "stdout",
     "output_type": "stream",
     "text": [
      "[1.2 4.2]\n"
     ]
    }
   ],
   "source": [
    "#n°0 à n°2 avec un pas de 2\n",
    "\n",
    "print(v[0:3:2]) # [1.2,4.2]\n"
   ]
  },
  {
   "cell_type": "code",
   "execution_count": 177,
   "metadata": {
    "pycharm": {
     "name": "#%%\n"
    }
   },
   "outputs": [
    {
     "name": "stdout",
     "output_type": "stream",
     "text": [
      "[8.5 4.2 7.4]\n"
     ]
    }
   ],
   "source": [
    "#le pas peut être négatif, n°3 à n°1 avec un pas de -1\n",
    "\n",
    "print (v[3:0:-1])  # [8.5, 4.2,7.4]\n"
   ]
  },
  {
   "cell_type": "code",
   "execution_count": 178,
   "metadata": {
    "pycharm": {
     "name": "#%%\n"
    }
   },
   "outputs": [
    {
     "name": "stdout",
     "output_type": "stream",
     "text": [
      "[6.3 8.5 4.2 7.4 1.2]\n"
     ]
    }
   ],
   "source": [
    "#on peut exploiter cette idée pour inverser un vecteur\n",
    "\n",
    "print(v[::-1]) # [6.3, 8.5, 4.2, 7.4, 1.2]\n"
   ]
  },
  {
   "cell_type": "markdown",
   "metadata": {
    "pycharm": {
     "name": "#%% md\n"
    }
   },
   "source": [
    "<h2>Accès par conditions –Indiçage booléen</h2>"
   ]
  },
  {
   "cell_type": "code",
   "execution_count": 179,
   "metadata": {
    "pycharm": {
     "name": "#%%\n"
    }
   },
   "outputs": [
    {
     "name": "stdout",
     "output_type": "stream",
     "text": [
      "[7.4 8.5]\n"
     ]
    }
   ],
   "source": [
    "#extraction avec un vecteur debooléens\n",
    "\n",
    "v =np.array([1.2,7.4,4.2,8.5,6.3])\n",
    "b = np.array([False,True,False,True,False],dtype=bool)\n",
    "print(v[b]) # [7.4 8.5]"
   ]
  },
  {
   "cell_type": "code",
   "execution_count": 180,
   "metadata": {
    "pycharm": {
     "name": "#%%\n"
    }
   },
   "outputs": [
    {
     "name": "stdout",
     "output_type": "stream",
     "text": [
      "[1.2]\n"
     ]
    }
   ],
   "source": [
    "#on peut utiliser une condition pour l'extraction\n",
    "\n",
    "print(v[v < 2]) # [1.2 4.26.3]\n"
   ]
  },
  {
   "cell_type": "code",
   "execution_count": 181,
   "metadata": {
    "pycharm": {
     "name": "#%%\n"
    }
   },
   "outputs": [
    {
     "name": "stdout",
     "output_type": "stream",
     "text": [
      "[ True False False False False]\n",
      "<class 'numpy.ndarray'>\n"
     ]
    }
   ],
   "source": [
    "#parce que la condition est un vecteur de booléen\n",
    "\n",
    "b = v < 2\n",
    "print(b) # [True False True FalseTrue]\n",
    "print(type(b)) # <class‘numpy.ndarray’>\n"
   ]
  },
  {
   "cell_type": "code",
   "execution_count": 182,
   "metadata": {
    "pycharm": {
     "name": "#%%\n"
    }
   },
   "outputs": [
    {
     "name": "stdout",
     "output_type": "stream",
     "text": [
      "['er' 'ki']\n"
     ]
    }
   ],
   "source": [
    "#on peut utiliser la fonction extract()\n",
    "#v =np.array([1.2,7.4,4.2,8.5,6.3])\n",
    "\n",
    "c = np.array([\"er\",\"et\",\"ki\",\"sdf\",\"ee\"])\n",
    "print(np.extract(v < 5, c)) # [1.2 4.26.3]\n"
   ]
  },
  {
   "cell_type": "markdown",
   "metadata": {},
   "source": [
    "<h2>Tri et recherche</h2>"
   ]
  },
  {
   "cell_type": "code",
   "execution_count": 183,
   "metadata": {
    "pycharm": {
     "name": "#%%\n"
    }
   },
   "outputs": [],
   "source": [
    "v =np.array([1.2,7.4,4.2,8.5,6.3])\n"
   ]
  },
  {
   "cell_type": "code",
   "execution_count": 184,
   "metadata": {
    "pycharm": {
     "name": "#%%\n"
    }
   },
   "outputs": [
    {
     "name": "stdout",
     "output_type": "stream",
     "text": [
      "8.5\n",
      "8.5\n"
     ]
    }
   ],
   "source": [
    "#recherche valeur max\n",
    "\n",
    "print(np.max(v)) # 8.5\n",
    "print(v.max())\n"
   ]
  },
  {
   "cell_type": "code",
   "execution_count": 185,
   "metadata": {
    "pycharm": {
     "name": "#%%\n"
    }
   },
   "outputs": [
    {
     "name": "stdout",
     "output_type": "stream",
     "text": [
      "3\n",
      "3\n"
     ]
    }
   ],
   "source": [
    "#recherche indice de valeur max\n",
    "\n",
    "print(np.argmax(v)) # 3\n",
    "print(v.argmax()) # 3\n",
    "\n"
   ]
  },
  {
   "cell_type": "code",
   "execution_count": 186,
   "metadata": {
    "pycharm": {
     "name": "#%%\n"
    }
   },
   "outputs": [
    {
     "name": "stdout",
     "output_type": "stream",
     "text": [
      "[1.2 4.2 6.3 7.4 8.5]\n"
     ]
    }
   ],
   "source": [
    "#tri des valeurs\n",
    "\n",
    "print(np.sort(v)) # [1.2 4.26.37.4 8.5]\n"
   ]
  },
  {
   "cell_type": "code",
   "execution_count": 187,
   "metadata": {
    "pycharm": {
     "name": "#%%\n"
    }
   },
   "outputs": [
    {
     "name": "stdout",
     "output_type": "stream",
     "text": [
      "[0 2 4 1 3]\n",
      "[0 2 4 1 3]\n"
     ]
    }
   ],
   "source": [
    "#récupération des indices triés\n",
    "\n",
    "print(np.argsort(v)) # [0  2  4 1 3]\n",
    "print(v.argsort()) # [0  2  4 1 3]"
   ]
  },
  {
   "cell_type": "code",
   "execution_count": 188,
   "metadata": {
    "pycharm": {
     "name": "#%%\n"
    }
   },
   "outputs": [
    {
     "name": "stdout",
     "output_type": "stream",
     "text": [
      "[1 2 3 5]\n"
     ]
    }
   ],
   "source": [
    "#valeurs distinctes\n",
    "\n",
    "a =np.array([1,2,2,1,1,2,3,3,5])\n",
    "print(np.unique(a)) # [1 2 3 5]\n",
    "\n",
    "\n"
   ]
  },
  {
   "cell_type": "markdown",
   "metadata": {},
   "source": [
    "<h1> CALCULS SUR LES VECTEURS </h1>\n",
    "<h2>Calculs (statistiques) récapitulatifs</h2>\n"
   ]
  },
  {
   "cell_type": "code",
   "execution_count": 189,
   "metadata": {
    "pycharm": {
     "name": "#%%\n"
    }
   },
   "outputs": [
    {
     "name": "stdout",
     "output_type": "stream",
     "text": [
      "5.5200000000000005\n",
      "5.5200000000000005\n"
     ]
    }
   ],
   "source": [
    "#moyenne\n",
    "\n",
    "print(np.mean(v)) # 5.52\n",
    "print(v.mean()) # 5.52\n"
   ]
  },
  {
   "cell_type": "code",
   "execution_count": 190,
   "metadata": {
    "pycharm": {
     "name": "#%%\n"
    }
   },
   "outputs": [
    {
     "name": "stdout",
     "output_type": "stream",
     "text": [
      "6.3\n"
     ]
    }
   ],
   "source": [
    "#médiane\n",
    "\n",
    "print(np.median(v)) # 6.3\n"
   ]
  },
  {
   "cell_type": "markdown",
   "metadata": {
    "pycharm": {
     "name": "#%% md\n"
    }
   },
   "source": [
    "la variance est une mesure de la dispersion des valeurs d'un échantillon ou d'une distribution de probabilité. Elle exprime la moyenne des carrés des écarts à la moyenne, aussi égale à la différence entre la moyenne des carrés des valeurs de la variable et le carré de la moyenne, selon le théorème de König-Huygens.\n",
    "\n",
    "#variance\n",
    "print(np.var(v)) # 6.6856\n",
    "print(v.var()) # 6.6856\n"
   ]
  },
  {
   "cell_type": "code",
   "execution_count": 191,
   "metadata": {
    "pycharm": {
     "name": "#%%\n"
    }
   },
   "outputs": [
    {
     "name": "stdout",
     "output_type": "stream",
     "text": [
      "6.3\n"
     ]
    }
   ],
   "source": [
    "#quantile\n",
    "\n",
    "print(np.percentile(v,50)) #6.3 (50% =médiane)\n"
   ]
  },
  {
   "cell_type": "code",
   "execution_count": 192,
   "metadata": {
    "pycharm": {
     "name": "#%%\n"
    }
   },
   "outputs": [
    {
     "name": "stdout",
     "output_type": "stream",
     "text": [
      "27.6\n",
      "27.6\n"
     ]
    }
   ],
   "source": [
    "#somme\n",
    "\n",
    "print(np.sum(v)) # 27.6\n",
    "print(v.sum()) # 27.6\n"
   ]
  },
  {
   "cell_type": "code",
   "execution_count": 193,
   "metadata": {
    "pycharm": {
     "name": "#%%\n"
    }
   },
   "outputs": [
    {
     "name": "stdout",
     "output_type": "stream",
     "text": [
      "[ 1.2  8.6 12.8 21.3 27.6]\n",
      "[ 1.2  8.6 12.8 21.3 27.6]\n"
     ]
    }
   ],
   "source": [
    "#somme cumulée\n",
    "\n",
    "print(np.cumsum(v)) # [1.2 8.6 12.8 21.327.6]\n",
    "print(v.cumsum()) # [1.2 8.6 12.8 21.327.6]\n"
   ]
  },
  {
   "cell_type": "markdown",
   "metadata": {},
   "source": [
    "<h2>Calculs entre vecteurs</h2>\n",
    "Principe :Les calculs se font élément par élément (elemenstwise) entre vecteurs « numpy » -\n",
    "On a le  même principe sous R."
   ]
  },
  {
   "cell_type": "code",
   "execution_count": 194,
   "metadata": {
    "pycharm": {
     "name": "#%%\n"
    }
   },
   "outputs": [],
   "source": [
    "#calculs entre vecteurs\n",
    "\n",
    "x = np.array([1.2,1.3,1.0])\n",
    "y = np.array([2.1,0.8,1.3])"
   ]
  },
  {
   "cell_type": "code",
   "execution_count": 195,
   "metadata": {
    "pycharm": {
     "name": "#%%\n"
    }
   },
   "outputs": [
    {
     "name": "stdout",
     "output_type": "stream",
     "text": [
      "[2.52 1.04 1.3 ]\n"
     ]
    }
   ],
   "source": [
    "#multiplication\n",
    "\n",
    "print(x*y) # [2.52 1.04 1.3]\n"
   ]
  },
  {
   "cell_type": "code",
   "execution_count": 196,
   "metadata": {
    "pycharm": {
     "name": "#%%\n"
    }
   },
   "outputs": [
    {
     "name": "stdout",
     "output_type": "stream",
     "text": [
      "[3.3 2.1 2.3]\n"
     ]
    }
   ],
   "source": [
    "#addition\n",
    "\n",
    "print(x+y) # [3.3 2.1 2.3]\n"
   ]
  },
  {
   "cell_type": "code",
   "execution_count": 197,
   "metadata": {
    "pycharm": {
     "name": "#%%\n"
    }
   },
   "outputs": [
    {
     "name": "stdout",
     "output_type": "stream",
     "text": [
      "[2.4 2.6 2. ]\n"
     ]
    }
   ],
   "source": [
    "#multiplication par un scalaire\n",
    "\n",
    "print(2*x) # [2.4 2.6 2. ]"
   ]
  },
  {
   "cell_type": "code",
   "execution_count": 198,
   "metadata": {
    "pycharm": {
     "name": "#%%\n"
    }
   },
   "outputs": [
    {
     "name": "stdout",
     "output_type": "stream",
     "text": [
      "[False  True False  True]\n"
     ]
    }
   ],
   "source": [
    "#comparaison de vecteurs\n",
    "\n",
    "x = np.array([1,2,5,6])\n",
    "y = np.array([2,1,7,4])\n",
    "b = x > y\n",
    "print(b) # [False True False True]"
   ]
  },
  {
   "cell_type": "code",
   "execution_count": 199,
   "metadata": {
    "pycharm": {
     "name": "#%%\n"
    }
   },
   "outputs": [],
   "source": [
    "#opérations logiques\n",
    "\n",
    "a = np.array([True,True,False,True],dtype=bool)\n",
    "b = np.array([True,False,True,False],dtype=bool)\n"
   ]
  },
  {
   "cell_type": "code",
   "execution_count": 200,
   "metadata": {
    "pycharm": {
     "name": "#%%\n"
    }
   },
   "outputs": [
    {
     "name": "stdout",
     "output_type": "stream",
     "text": [
      "[ True False False False]\n",
      "[False  True  True  True]\n"
     ]
    }
   ],
   "source": [
    "#ET logique\n",
    "\n",
    "print(np.logical_and(a,b)) # [True False FalseFalse]\n",
    "\n",
    "#OU exclusif logiquen\n",
    "\n",
    "print(np.logical_xor(a,b)) # [False True TrueTrue]\n"
   ]
  },
  {
   "cell_type": "markdown",
   "metadata": {
    "pycharm": {
     "name": "#%%\n"
    }
   },
   "source": [
    "<h2> Fonctions matricielles </2>\n"
   ]
  },
  {
   "cell_type": "code",
   "execution_count": 201,
   "metadata": {
    "pycharm": {
     "name": "#%%\n"
    }
   },
   "outputs": [],
   "source": [
    "x = np.array([1.2,1.3,1.0])\n",
    "y = np.array([2.1,0.8,1.3])"
   ]
  },
  {
   "cell_type": "code",
   "execution_count": 202,
   "metadata": {
    "pycharm": {
     "name": "#%%\n"
    }
   },
   "outputs": [
    {
     "name": "stdout",
     "output_type": "stream",
     "text": [
      "4.86\n"
     ]
    }
   ],
   "source": [
    "#produit scalaire\n",
    "\n",
    "z = np.vdot(x,y)\n",
    "print(z) # 4.86"
   ]
  },
  {
   "cell_type": "code",
   "execution_count": 203,
   "metadata": {
    "pycharm": {
     "name": "#%%\n"
    }
   },
   "outputs": [
    {
     "name": "stdout",
     "output_type": "stream",
     "text": [
      "4.86\n",
      "4.86\n"
     ]
    }
   ],
   "source": [
    "#ou l’équivalent calculé\n",
    "\n",
    "print(np.sum(x*y)) # 4.86\n",
    "print((x*y).sum()) # 4.86\n"
   ]
  },
  {
   "cell_type": "code",
   "execution_count": 204,
   "metadata": {
    "pycharm": {
     "name": "#%%\n"
    }
   },
   "outputs": [
    {
     "name": "stdout",
     "output_type": "stream",
     "text": [
      "2.0322401432901573\n"
     ]
    }
   ],
   "source": [
    "#norme d'un vecteur\n",
    "\n",
    "n = np.linalg.norm(x)\n",
    "print(n)# 2.03\n"
   ]
  },
  {
   "cell_type": "code",
   "execution_count": 205,
   "metadata": {
    "pycharm": {
     "name": "#%%\n"
    }
   },
   "outputs": [
    {
     "name": "stdout",
     "output_type": "stream",
     "text": [
      "2.0322401432901573\n"
     ]
    }
   ],
   "source": [
    "#ou l’équivalent calculé sqrt racine carrée\n",
    "\n",
    "import math\n",
    "print(math.sqrt(np.sum(x**2))) # 2.03"
   ]
  },
  {
   "cell_type": "markdown",
   "metadata": {},
   "source": [
    "<h2>Opérations ensemblistes</h2>\n",
    "Principe: Un vecteur de valeurs (sur tout entières) peut être considéré comme un ensemble de valeurs."
   ]
  },
  {
   "cell_type": "code",
   "execution_count": 206,
   "metadata": {
    "pycharm": {
     "name": "#%%\n"
    }
   },
   "outputs": [],
   "source": [
    "#opérations ensemblistes\n",
    "\n",
    "x = np.array([1,2,5,6])\n",
    "y = np.array([2,1,7,4])"
   ]
  },
  {
   "cell_type": "code",
   "execution_count": 207,
   "metadata": {
    "pycharm": {
     "name": "#%%\n"
    }
   },
   "outputs": [
    {
     "name": "stdout",
     "output_type": "stream",
     "text": [
      "[1 2]\n"
     ]
    }
   ],
   "source": [
    "#intersection\n",
    "\n",
    "print(np.intersect1d(x,y)) # [1 2]"
   ]
  },
  {
   "cell_type": "code",
   "execution_count": 208,
   "metadata": {
    "pycharm": {
     "name": "#%%\n"
    }
   },
   "outputs": [
    {
     "name": "stdout",
     "output_type": "stream",
     "text": [
      "[1 2 4 5 6 7]\n"
     ]
    }
   ],
   "source": [
    "#union – attention, ce n’est pas une concaténation\n",
    "\n",
    "print(np.union1d(x,y)) # [1 2 4 5 6 7]"
   ]
  },
  {
   "cell_type": "code",
   "execution_count": 209,
   "metadata": {
    "pycharm": {
     "name": "#%%\n"
    }
   },
   "outputs": [
    {
     "name": "stdout",
     "output_type": "stream",
     "text": [
      "[5 6]\n"
     ]
    }
   ],
   "source": [
    "#différence c.à-d. qui sont dans x et pas dans y\n",
    "\n",
    "print(np.setdiff1d(x,y)) # [56]"
   ]
  }
 ],
 "metadata": {
  "kernelspec": {
   "display_name": "Python 3",
   "language": "python",
   "name": "python3"
  },
  "language_info": {
   "codemirror_mode": {
    "name": "ipython",
    "version": 3
   },
   "file_extension": ".py",
   "mimetype": "text/x-python",
   "name": "python",
   "nbconvert_exporter": "python",
   "pygments_lexer": "ipython3",
   "version": "3.9.5"
  }
 },
 "nbformat": 4,
 "nbformat_minor": 1
}