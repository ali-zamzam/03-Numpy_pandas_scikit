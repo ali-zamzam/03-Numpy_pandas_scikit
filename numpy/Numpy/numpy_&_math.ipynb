{
 "cells": [
  {
   "cell_type": "markdown",
   "metadata": {
    "collapsed": true,
    "pycharm": {
     "name": "#%% md\n"
    }
   },
   "source": [
    "<h2>Les différents data types  disponibles</h2>\n",
    "\n",
    "Les éléments d’un tableaunumpyparticulier sont du même type, et on a vu les types suivants :int,floatetcomplex.En fait il y a d’autres types possibles et en voici la liste :\n",
    "\n",
    "\n",
    "Les objets de type hiérarchique génériques sont convertis en objets de type correspondants selon les associations:\n",
    "\n",
    "\n",
    "<a href=https://numpy.org/doc/stable/reference/arrays.dtypes.html>https://numpy.org/doc/stable/reference/arrays.dtypes.html</a>\n"
   ]
  },
  {
   "cell_type": "markdown",
   "metadata": {
    "pycharm": {
     "name": "#%% md\n"
    }
   },
   "source": [
    "<h2>Data Types in Python</h2>\n",
    "\n",
    "Par défaut Python ont ces types de données:\n",
    "\n",
    "    strings  - used to represent text data, the text is given under quote marks. eg. \"ABCD\"\n",
    "\n",
    "    integer  - used to represent integer numbers. eg. -1, -2, -3\n",
    "\n",
    "    float    - used to represent real numbers. eg. 1.2, 42.42\n",
    "\n",
    "    boolean  - used to represent True or False.\n",
    "\n",
    "    complex  - used to represent a number in complex plain. eg. 1.0 + 2.0j, 1.5 + 2.5j\n",
    "\n",
    "\n",
    "<h2>DData Types in NumPy</h2>\n",
    "\n",
    "NumPy a quelques types de données supplémentaires, et se réfère aux types de données avec un caractère, comme i pour les entiers, u pour les entiers non signés, etc. \n",
    "Voici une liste de tous les types de données dans NumPy et les caractères utilisés pour les représenter.\n",
    "\n",
    "    i - integer\n",
    "    b - boolean\n",
    "    u - unsigned integer\n",
    "    f - float\n",
    "    c - complex float\n",
    "    m - timedelta\n",
    "    M - datetime\n",
    "    O - object\n",
    "    S - string\n",
    "    U - unicode string\n",
    "    V - fixed chunk of memory for other type ( void )\n",
    "\n",
    "<a href=https://numpy.org/doc/stable/user/basics.types.html>https://numpy.org/doc/stable/user/basics.types.html</a>"
   ]
  },
  {
   "cell_type": "markdown",
   "metadata": {
    "pycharm": {
     "name": "#%% md\n"
    }
   },
   "source": [
    "<h2>Fonctions mathématiques avec NumPy</h2>\n",
    "\n",
    "<b>Fonctions trigonométriques</b>\n",
    "\n",
    "    numpy.sin(x)     -  sinus\n",
    "\n",
    "    numpy.cos(x)     -  cosinus\n",
    "\n",
    "    numpy.tan(x)     - tangente\n",
    "\n",
    "    numpy.arcsin(x)  - arcsinus\n",
    "\n",
    "    numpy.arccos(x)  - arccosinus\n",
    "\n",
    "    numpy.arctan(x)  - arctangente\n",
    "\n",
    "\n",
    "<b>Fonctions hyperboliques</b>\n",
    "\n",
    "    numpy.sinh(x)    - sinus hyperbolique\n",
    "\n",
    "    numpy.cosh(x)    - cosinus hyperbolique\n",
    "\n",
    "    numpy.tanh(x)    - tangente hyperbolique\n",
    "\n",
    "    numpy.arcsinh(x) - arcsinus hyperbolique\n",
    "\n",
    "    numpy.arccosh(x) - arccosinus hyperbolique\n",
    "\n",
    "    numpy.arctanh(x) - arctangente hyperbolique\n",
    "    \n",
    "<b>Fonctions diverses</b>\n",
    "\n",
    "    numpy.sqrt(x)    - racine carrée\n",
    "\n",
    "    numpy.exp(x)     - exponentielle\n",
    "\n",
    "    numpy.log(x)     - logarithme népérien\n",
    "\n",
    "    numpy.abs(x)     - valeur absolue\n",
    "\n",
    "    numpy.sign(x)    - signe\n",
    "\n",
    "<b>Fonctions utiles pour les nombres complexes</b>\n",
    "\n",
    "    numpy.real(x)    - partie réelle\n",
    "\n",
    "    numpy.imag(x)    - partie imaginaire\n",
    "\n",
    "    numpy.abs(x)     - module\n",
    "\n",
    "    numpy.angle(x)   - argument en radians\n",
    "\n",
    "    numpy.conj(x)    - complexe conjugué\n",
    "    "
   ]
  },
  {
   "cell_type": "code",
   "execution_count": 1,
   "metadata": {
    "pycharm": {
     "name": "#%%\n"
    }
   },
   "outputs": [],
   "source": [
    "#np sera l’alias utilisé pour accéder aux  routines de la librairie numpy\n",
    "import numpy as np"
   ]
  },
  {
   "cell_type": "code",
   "execution_count": 2,
   "metadata": {
    "pycharm": {
     "name": "#%%\n"
    }
   },
   "outputs": [
    {
     "data": {
      "text/plain": [
       "array(['123', 'abcbde', '12XY5'], dtype='<U6')"
      ]
     },
     "execution_count": 2,
     "metadata": {},
     "output_type": "execute_result"
    }
   ],
   "source": [
    "np.array((\"123\",'abcbde',\"12XY5\")) \n"
   ]
  },
  {
   "cell_type": "markdown",
   "metadata": {
    "pycharm": {
     "name": "#%% md\n"
    }
   },
   "source": [
    "numpy.linspace() (resp. numpy.logspace()): répartition uniforme (resp. logarithmique) d’un nombre fixe de points entre un start et un end (préférable à numpy.arange() sur des réels).\n"
   ]
  },
  {
   "cell_type": "code",
   "execution_count": 3,
   "metadata": {
    "pycharm": {
     "name": "#%%\n"
    }
   },
   "outputs": [
    {
     "name": "stdout",
     "output_type": "stream",
     "text": [
      "[0.         1.57079633 3.14159265 4.71238898 6.28318531]\n"
     ]
    }
   ],
   "source": [
    "v = np.linspace(0, 2*np.pi, 5, 5) # 5 nb entre 0 et 2π *inclus*, type réel par défaut\n",
    "print(v)"
   ]
  },
  {
   "cell_type": "markdown",
   "metadata": {
    "pycharm": {
     "name": "#%%\n"
    }
   },
   "source": [
    "numpy.meshgrid() est similaire à numpy.linspace() en 2D ou plus:"
   ]
  },
  {
   "cell_type": "code",
   "execution_count": 4,
   "metadata": {
    "pycharm": {
     "name": "#%%\n"
    }
   },
   "outputs": [
    {
     "name": "stdout",
     "output_type": "stream",
     "text": [
      "[0.  0.5 1.  1.5 2. ]\n"
     ]
    }
   ],
   "source": [
    "# 5 points entre 0 et 2 en \"x\", et 3 entre 0 et 1 en \"y\"\n",
    "x = np.linspace(0, 2, 5)\n",
    "print(x)"
   ]
  },
  {
   "cell_type": "code",
   "execution_count": 5,
   "metadata": {
    "pycharm": {
     "name": "#%%\n"
    }
   },
   "outputs": [
    {
     "name": "stdout",
     "output_type": "stream",
     "text": [
      "[0.  0.5 1. ]\n"
     ]
    }
   ],
   "source": [
    "y = np.linspace(0, 1, 3)\n",
    "print(y)"
   ]
  },
  {
   "cell_type": "code",
   "execution_count": 6,
   "metadata": {
    "pycharm": {
     "name": "#%%\n"
    }
   },
   "outputs": [],
   "source": [
    "# Tableaux 2D des x et des y\n",
    "xx, yy = np.meshgrid(x, y) \n"
   ]
  },
  {
   "cell_type": "code",
   "execution_count": 7,
   "metadata": {
    "pycharm": {
     "name": "#%%\n"
    }
   },
   "outputs": [
    {
     "name": "stdout",
     "output_type": "stream",
     "text": [
      "[[0.  0.5 1.  1.5 2. ]\n",
      " [0.  0.5 1.  1.5 2. ]\n",
      " [0.  0.5 1.  1.5 2. ]]\n"
     ]
    }
   ],
   "source": [
    "#Tableau 2D des x, (3, 5)\n",
    "print(xx)"
   ]
  },
  {
   "cell_type": "code",
   "execution_count": 8,
   "metadata": {
    "pycharm": {
     "name": "#%%\n"
    }
   },
   "outputs": [
    {
     "name": "stdout",
     "output_type": "stream",
     "text": [
      "[[0.  0.  0.  0.  0. ]\n",
      " [0.5 0.5 0.5 0.5 0.5]\n",
      " [1.  1.  1.  1.  1. ]]\n"
     ]
    }
   ],
   "source": [
    "#Tableau 2D des y, (3, 5)\n",
    "print(yy)"
   ]
  },
  {
   "cell_type": "markdown",
   "metadata": {
    "pycharm": {
     "name": "#%% md\n"
    }
   },
   "source": [
    "numpy.mgrid permet de générer des rampes d’indices (entiers) ou de coordonnées (réels) de rang arbitraire avec une notation évoluée faisant appel aux Index tricks. Équivalent à numpy.linspace() en 1D et similaire (mais différent) à numpy.meshgrid() en 2D."
   ]
  },
  {
   "cell_type": "code",
   "execution_count": 9,
   "metadata": {
    "pycharm": {
     "name": "#%%\n"
    }
   },
   "outputs": [
    {
     "data": {
      "text/plain": [
       "array([[[0, 0, 0],\n",
       "        [1, 1, 1],\n",
       "        [2, 2, 2],\n",
       "        [3, 3, 3]],\n",
       "\n",
       "       [[1, 3, 5],\n",
       "        [1, 3, 5],\n",
       "        [1, 3, 5],\n",
       "        [1, 3, 5]]])"
      ]
     },
     "execution_count": 9,
     "metadata": {},
     "output_type": "execute_result"
    }
   ],
   "source": [
    "np.mgrid[0:4, 1:6:2]  # Grille 2D d'indices (entiers)"
   ]
  },
  {
   "cell_type": "code",
   "execution_count": 10,
   "metadata": {
    "pycharm": {
     "name": "#%%\n"
    }
   },
   "outputs": [
    {
     "data": {
      "text/plain": [
       "array([0.        , 1.57079633, 3.14159265, 4.71238898, 6.28318531])"
      ]
     },
     "execution_count": 10,
     "metadata": {},
     "output_type": "execute_result"
    }
   ],
   "source": [
    "np.mgrid[0:2*np.pi:5j]  # Rampe de coordonnées (réels): 5 nb de 0 à 2π (inclus)"
   ]
  },
  {
   "cell_type": "code",
   "execution_count": 11,
   "metadata": {
    "pycharm": {
     "name": "#%%\n"
    }
   },
   "outputs": [
    {
     "name": "stdout",
     "output_type": "stream",
     "text": [
      "[[[0.  0.  0.  0.  0. ]\n",
      "  [0.5 0.5 0.5 0.5 0.5]\n",
      "  [1.  1.  1.  1.  1. ]]\n",
      "\n",
      " [[0.  0.5 1.  1.5 2. ]\n",
      "  [0.  0.5 1.  1.5 2. ]\n",
      "  [0.  0.5 1.  1.5 2. ]]]\n"
     ]
    }
   ],
   "source": [
    "# 3 points entre 0 et 1 selon l'axe 0, et 5 entre 0 et 2 selon l'axe 1\n",
    "z = np.mgrid[0:1:3j, 0:2:5j]\n",
    "print(z)"
   ]
  },
  {
   "cell_type": "code",
   "execution_count": 12,
   "metadata": {
    "pycharm": {
     "name": "#%%\n"
    }
   },
   "outputs": [
    {
     "data": {
      "text/plain": [
       "(2, 3, 5)"
      ]
     },
     "execution_count": 12,
     "metadata": {},
     "output_type": "execute_result"
    }
   ],
   "source": [
    "z.shape"
   ]
  },
  {
   "cell_type": "markdown",
   "metadata": {
    "pycharm": {
     "name": "#%% md\n"
    }
   },
   "source": [
    "<b>Attention</b>\n",
    "à l’ordre de variation des indices dans les tableaux multidimensionnels, et aux différences entre numpy.meshgrid() et numpy.mgrid.\n",
    "\n",
    "numpy.random.rand() crée un tableau d’un format donné de réels aléatoires dans [0, 1[; numpy.random.randn() génère un tableau d’un format donné de réels tirés aléatoirement d’une distribution gaussienne (normale) standard N(μ=0,σ2=1)."
   ]
  },
  {
   "cell_type": "code",
   "execution_count": 13,
   "metadata": {},
   "outputs": [
    {
     "ename": "SyntaxError",
     "evalue": "invalid syntax (<ipython-input-13-84679d6c78bc>, line 1)",
     "output_type": "error",
     "traceback": [
      "\u001b[0;36m  File \u001b[0;32m\"<ipython-input-13-84679d6c78bc>\"\u001b[0;36m, line \u001b[0;32m1\u001b[0m\n\u001b[0;31m    <b>Attention</b>\u001b[0m\n\u001b[0m    ^\u001b[0m\n\u001b[0;31mSyntaxError\u001b[0m\u001b[0;31m:\u001b[0m invalid syntax\n"
     ]
    }
   ],
   "source": [
    "<b>Attention</b>\n",
    "à l’ordre de variation des indices dans les tableaux multidimensionnels, et aux différences entre numpy.meshgrid() et numpy.mgrid.\n",
    "\n"
   ]
  },
  {
   "cell_type": "code",
   "execution_count": null,
   "metadata": {},
   "outputs": [],
   "source": [
    "y = np.linspace(0, 1, 3)\n",
    "print(y)"
   ]
  },
  {
   "cell_type": "code",
   "execution_count": null,
   "metadata": {},
   "outputs": [],
   "source": [
    "# Tableaux 2D des x et des y\n",
    "xx, yy = np.meshgrid(x, y) \n"
   ]
  },
  {
   "cell_type": "code",
   "execution_count": null,
   "metadata": {
    "pycharm": {
     "name": "#%%\n"
    }
   },
   "outputs": [],
   "source": [
    "#Tableau 2D des x, (3, 5)\n",
    "print(xx)"
   ]
  },
  {
   "cell_type": "code",
   "execution_count": null,
   "metadata": {},
   "outputs": [],
   "source": [
    "#Tableau 2D des y, (3, 5)\n",
    "print(yy)"
   ]
  },
  {
   "cell_type": "markdown",
   "metadata": {
    "pycharm": {
     "name": "#%% md\n"
    }
   },
   "source": [
    "numpy.mgrid permet de générer des rampes d’indices (entiers) ou de coordonnées (réels) de rang arbitraire avec une notation évoluée faisant appel aux Index tricks. Équivalent à numpy.linspace() en 1D et similaire (mais différent) à numpy.meshgrid() en 2D."
   ]
  },
  {
   "cell_type": "code",
   "execution_count": null,
   "metadata": {},
   "outputs": [],
   "source": [
    "np.mgrid[0:4, 1:6:2]  # Grille 2D d'indices (entiers)"
   ]
  },
  {
   "cell_type": "code",
   "execution_count": null,
   "metadata": {},
   "outputs": [],
   "source": [
    "np.mgrid[0:2*np.pi:5j]  # Rampe de coordonnées (réels): 5 nb de 0 à 2π (inclus)"
   ]
  },
  {
   "cell_type": "code",
   "execution_count": null,
   "metadata": {
    "pycharm": {
     "name": "#%%\n"
    }
   },
   "outputs": [],
   "source": [
    "# 3 points entre 0 et 1 selon l'axe 0, et 5 entre 0 et 2 selon l'axe 1\n",
    "z = np.mgrid[0:1:3j, 0:2:5j]\n",
    "print(z)"
   ]
  },
  {
   "cell_type": "code",
   "execution_count": null,
   "metadata": {
    "pycharm": {
     "name": "#%%\n"
    }
   },
   "outputs": [],
   "source": [
    "z.shape"
   ]
  },
  {
   "cell_type": "markdown",
   "metadata": {},
   "source": [
    "<b>Attention</b>\n",
    "à l’ordre de variation des indices dans les tableaux multidimensionnels, et aux différences entre numpy.meshgrid() et numpy.mgrid.\n",
    "\n",
    "numpy.random.rand() crée un tableau d’un format donné de réels aléatoires dans [0, 1[ \n",
    "\n",
    "numpy.random.randn() génère un tableau d’un format donné de réels tirés aléatoirement d’une distribution gaussienne (normale) standard N(μ=0,σ2=1).\n"
   ]
  },
  {
   "cell_type": "markdown",
   "metadata": {},
   "source": [
    "numpy fournit de nombreuses fonctions mathématiques de base (numpy.exp(), numpy.atan2(), etc.) s’appliquant directement sur les éléments des tableaux d’entrée:"
   ]
  },
  {
   "cell_type": "markdown",
   "metadata": {
    "pycharm": {
     "name": "#%% md\n"
    }
   },
   "source": [
    "Par définition, tous les éléments d’un tableau homogène doivent être du même type. Cependant, outre les types scalaires élémentaires – bool, int, float, complex, str, etc. – numpy supporte les types composés, c.-à-d. incluant plusieurs sous-éléments de types différents:"
   ]
  },
  {
   "cell_type": "markdown",
   "metadata": {
    "pycharm": {
     "name": "#%% md\n"
    }
   },
   "source": [
    "<h1>Tableaux évolués</h1>"
   ]
  },
  {
   "cell_type": "code",
   "execution_count": null,
   "metadata": {},
   "outputs": [],
   "source": [
    "dt = np.dtype([('nom', 'U10'),    # 1er  élément: une chaîne de 10 caractères unicode\n",
    "              ('age', 'i'),      # 2e élément: un entier\n",
    "              ('taille', 'd')])  # 3e élément: un réel (double)"
   ]
  },
  {
   "cell_type": "code",
   "execution_count": null,
   "metadata": {},
   "outputs": [],
   "source": [
    "arr = np.array([('Calvin', 6, 1.20), ('Hobbes', 5, 1.80)], dtype=dt)\n",
    "\n",
    "print(arr)\n",
    "print(arr.dtype)"
   ]
  },
  {
   "cell_type": "code",
   "execution_count": null,
   "metadata": {},
   "outputs": [],
   "source": [
    "arr[0]"
   ]
  },
  {
   "cell_type": "code",
   "execution_count": null,
   "metadata": {},
   "outputs": [],
   "source": [
    "arr['nom']"
   ]
  },
  {
   "cell_type": "code",
   "execution_count": null,
   "metadata": {
    "pycharm": {
     "name": "#%%\n"
    }
   },
   "outputs": [],
   "source": [
    "rec = arr.view(np.recarray) #qui permet l’accès au champ en utilisant les attributs.\n",
    "print(rec)"
   ]
  },
  {
   "cell_type": "code",
   "execution_count": null,
   "metadata": {
    "pycharm": {
     "name": "#%%\n"
    }
   },
   "outputs": [],
   "source": [
    "rec.nom "
   ]
  },
  {
   "cell_type": "markdown",
   "metadata": {},
   "source": [
    "Les tableaux structurés sont très puissants pour manipuler des données (semi-)hétérogènes, p.ex. les entrées du catalogue CSV des objets de Messier Messier.csv:\n",
    "\n",
    "Les objets de Messier sont une liste d'objets astronomiques catalogués par l'astronome français"
   ]
  },
  {
   "cell_type": "code",
   "execution_count": null,
   "metadata": {
    "pycharm": {
     "name": "#%%\n"
    }
   },
   "outputs": [],
   "source": [
    "dt = np.dtype([('M', 'U3'),        # N° catalogue Messier\n",
    "              ('NGC', 'i'),       # N° New General Catalogue\n",
    "              ('Type', 'U2'),     # Code type\n",
    "              ('Mag', 'f'),       # Magnitude\n",
    "              ('Size', 'f'),      # Taille [arcmin]\n",
    "              ('Distance', 'f'),  # Distance [pc]\n",
    "              ('RA', 'f'),        # Ascension droite [h]\n",
    "              ('Dec', 'f'),       # Déclinaison [deg]\n",
    "              ('Con', 'U3'),      # Code constellation\n",
    "              ('Season', 'U6'),   # Saison\n",
    "              ('Name', 'U30')])   # Nom alternatif"
   ]
  },
  {
   "cell_type": "code",
   "execution_count": null,
   "metadata": {
    "pycharm": {
     "name": "#%%\n"
    }
   },
   "outputs": [],
   "source": [
    "#genfromtxt Charger les données d’un fichier texte, avec les valeurs manquantes traitées comme spécifié.\n",
    "messier = np.genfromtxt(\"Messier.csv\", dtype=dt, delimiter=',', comments='#')"
   ]
  },
  {
   "cell_type": "code",
   "execution_count": null,
   "metadata": {
    "pycharm": {
     "name": "#%%\n"
    }
   },
   "outputs": [],
   "source": [
    "messier[1]"
   ]
  },
  {
   "cell_type": "markdown",
   "metadata": {},
   "source": [
    "<h2>Tableaux masqués</h2>"
   ]
  },
  {
   "cell_type": "markdown",
   "metadata": {},
   "source": [
    "Le sous-module numpy.ma ajoute le support des tableaux masqués (Masked Arrays). Imaginons un tableau (4, 5) de réels (positifs ou négatifs), sur lequel nous voulons calculer pour chaque colonne la moyenne des éléments positifs uniquement:"
   ]
  },
  {
   "cell_type": "code",
   "execution_count": null,
   "metadata": {
    "pycharm": {
     "name": "#%%\n"
    }
   },
   "outputs": [],
   "source": [
    "x = np.random.randn(4, 5)\n",
    "print(x)"
   ]
  },
  {
   "cell_type": "code",
   "execution_count": null,
   "metadata": {
    "pycharm": {
     "name": "#%%\n"
    }
   },
   "outputs": [],
   "source": [
    "x[x >= 0]  # Donne les éléments >0 du tableau, sans leur indice"
   ]
  },
  {
   "cell_type": "code",
   "execution_count": null,
   "metadata": {
    "pycharm": {
     "name": "#%%\n"
    }
   },
   "outputs": [],
   "source": [
    "(x >= 0).nonzero() # Donne les indices ([i], [j]) des éléments positifs"
   ]
  },
  {
   "cell_type": "code",
   "execution_count": null,
   "metadata": {
    "pycharm": {
     "name": "#%%\n"
    }
   },
   "outputs": [],
   "source": [
    "# ma.masked_less Masque un tableau dont la valeur est inférieure à une valeur donnée.\n",
    "y = np.ma.masked_less(x, 0); # Tableau où les éléments < 0 sont masqués\n",
    "print(y)"
   ]
  },
  {
   "cell_type": "code",
   "execution_count": null,
   "metadata": {
    "pycharm": {
     "name": "#%%\n"
    }
   },
   "outputs": [],
   "source": [
    "m0 = y.mean(axis=0) # Moyenne sur les lignes (axe 0)\n",
    "print(m0)"
   ]
  },
  {
   "cell_type": "code",
   "execution_count": null,
   "metadata": {
    "pycharm": {
     "name": "#%%\n"
    }
   },
   "outputs": [],
   "source": [
    "m0.filled(-1) # Conversion en tableau normal"
   ]
  },
  {
   "cell_type": "markdown",
   "metadata": {},
   "source": [
    "<h4>Note</h4>\n",
    "Les tableaux évolués de numpy sont parfois suffisants, mais pour une utilisation avancée, il peut être plus pertinent d’invoquer les bibliothèques dédiées Pandas et xarray."
   ]
  },
  {
   "cell_type": "markdown",
   "metadata": {},
   "source": [
    "numpy fournit en outre quelques fonctionnalités supplémentaires, parmis lesquelles les sous-modules suivants:\n",
    "\n",
    "    numpy.fft: Discrete Fourier Transform;\n",
    "\n",
    "    numpy.random: valeurs aléatoires;\n",
    "\n",
    "    numpy.polynomial: manipulation des polynômes (racines, polynômes orthogonaux, etc.)."
   ]
  },
  {
   "cell_type": "code",
   "execution_count": null,
   "metadata": {},
   "outputs": [],
   "source": []
  },
  {
   "cell_type": "markdown",
   "metadata": {},
   "source": [
    "Les tableaux structurés sont très puissants pour manipuler des données (semi-)hétérogènes, p.ex. les entrées du catalogue CSV des objets de Messier Messier.csv:\n",
    "\n",
    "Les objets de Messier sont une liste d'objets astronomiques catalogués par l'astronome français"
   ]
  },
  {
   "cell_type": "code",
   "execution_count": null,
   "metadata": {},
   "outputs": [],
   "source": [
    "dt = np.dtype([('M', 'U3'),        # N° catalogue Messier\n",
    "              ('NGC', 'i'),       # N° New General Catalogue\n",
    "              ('Type', 'U2'),     # Code type\n",
    "              ('Mag', 'f'),       # Magnitude\n",
    "              ('Size', 'f'),      # Taille [arcmin]\n",
    "              ('Distance', 'f'),  # Distance [pc]\n",
    "              ('RA', 'f'),        # Ascension droite [h]\n",
    "              ('Dec', 'f'),       # Déclinaison [deg]\n",
    "              ('Con', 'U3'),      # Code constellation\n",
    "              ('Season', 'U6'),   # Saison\n",
    "              ('Name', 'U30')])   # Nom alternatif"
   ]
  },
  {
   "cell_type": "code",
   "execution_count": null,
   "metadata": {},
   "outputs": [],
   "source": [
    "#genfromtxt Charger les données d’un fichier texte, avec les valeurs manquantes traitées comme spécifié.\n",
    "messier = np.genfromtxt(\"Messier.csv\", dtype=dt, delimiter=',', comments='#')"
   ]
  },
  {
   "cell_type": "code",
   "execution_count": null,
   "metadata": {},
   "outputs": [],
   "source": [
    "messier[1]"
   ]
  },
  {
   "cell_type": "markdown",
   "metadata": {},
   "source": [
    "<h2>Tableaux masqués</h2>"
   ]
  },
  {
   "cell_type": "markdown",
   "metadata": {},
   "source": [
    "Le sous-module numpy.ma ajoute le support des tableaux masqués (Masked Arrays). Imaginons un tableau (4, 5) de réels (positifs ou négatifs), sur lequel nous voulons calculer pour chaque colonne la moyenne des éléments positifs uniquement:"
   ]
  },
  {
   "cell_type": "code",
   "execution_count": null,
   "metadata": {},
   "outputs": [],
   "source": [
    "x = np.random.randn(4, 5)\n",
    "print(x)"
   ]
  },
  {
   "cell_type": "code",
   "execution_count": null,
   "metadata": {},
   "outputs": [],
   "source": [
    "x[x >= 0]  # Donne les éléments >0 du tableau, sans leur indice"
   ]
  },
  {
   "cell_type": "code",
   "execution_count": null,
   "metadata": {},
   "outputs": [],
   "source": [
    "(x >= 0).nonzero() # Donne les indices ([i], [j]) des éléments positifs"
   ]
  },
  {
   "cell_type": "code",
   "execution_count": null,
   "metadata": {},
   "outputs": [],
   "source": [
    "# ma.masked_less Masque un tableau dont la valeur est inférieure à une valeur donnée.\n",
    "y = np.ma.masked_less(x, 0); # Tableau où les éléments < 0 sont masqués\n",
    "print(y)"
   ]
  },
  {
   "cell_type": "code",
   "execution_count": null,
   "metadata": {},
   "outputs": [],
   "source": [
    "m0 = y.mean(axis=0) # Moyenne sur les lignes (axe 0)\n",
    "print(m0)"
   ]
  },
  {
   "cell_type": "code",
   "execution_count": null,
   "metadata": {},
   "outputs": [],
   "source": [
    "m0.filled(-1) # Conversion en tableau normal"
   ]
  },
  {
   "cell_type": "markdown",
   "metadata": {},
   "source": [
    "<h4>Note</h4>\n",
    "Les tableaux évolués de numpy sont parfois suffisants, mais pour une utilisation avancée, il peut être plus pertinent d’invoquer les bibliothèques dédiées Pandas et xarray."
   ]
  },
  {
   "cell_type": "markdown",
   "metadata": {},
   "source": [
    "numpy fournit en outre quelques fonctionnalités supplémentaires, parmis lesquelles les sous-modules suivants:\n",
    "\n",
    "    numpy.fft: Discrete Fourier Transform;\n",
    "\n",
    "    numpy.random: valeurs aléatoires;\n",
    "\n",
    "    numpy.polynomial: manipulation des polynômes (racines, polynômes orthogonaux, etc.)."
   ]
  },
  {
   "cell_type": "code",
   "execution_count": null,
   "metadata": {},
   "outputs": [],
   "source": []
  }
 ],
 "metadata": {
  "kernelspec": {
   "display_name": "Python 3 (ipykernel)",
   "language": "python",
   "name": "python3"
  },
  "language_info": {
   "codemirror_mode": {
    "name": "ipython",
    "version": 3
   },
   "file_extension": ".py",
   "mimetype": "text/x-python",
   "name": "python",
   "nbconvert_exporter": "python",
   "pygments_lexer": "ipython3",
   "version": "3.9.12"
  }
 },
 "nbformat": 4,
 "nbformat_minor": 1
}
