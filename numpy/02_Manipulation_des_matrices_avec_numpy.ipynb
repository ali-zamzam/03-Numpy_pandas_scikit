{
 "cells": [
  {
   "cell_type": "markdown",
   "metadata": {
    "collapsed": true,
    "pycharm": {
     "name": "#%% md\n"
    }
   },
   "source": [
    "<h1>Manipulation des matrices avec numpy<h1>"
   ]
  },
  {
   "cell_type": "markdown",
   "metadata": {},
   "source": [
    "• Numpy est un package pour Python spécialisé dans la manipulation des  tableaux (array), pour nous essentiellement les vecteurs et lesmatrices\n",
    "\n",
    "• Les tableaux « numpy » ne gère que les objets de même type•Le package propose un grand nombre de routines pour un accès rapide  aux données (ex. recherche, extraction), pour les manipulationsdiverses(ex. tri), pour les calculs (ex. calculstatistique)\n",
    "\n",
    "• Les tableaux « numpy » sont plus performants (rapidité, gestion de la  volumétrie) que les collections usuelles de Python\n",
    "\n",
    "• Les tableaux « numpy » sont sous-jacents à de nombreuxpackagesdédiés au calcul scientifique sousPython.\n",
    "\n",
    "• Une matrice est un tableau (array) à 2dimensions\n",
    "\n",
    "<h4>Il   n’est pas possible de tout aborder dans ce support. Pour aller plus loin,voirabsolument le manuel de référence (utilisé pour préparer cediaporama).</h4>\n",
    "\n",
    "<h4><a href=\"http://docs.scipy.org/doc/numpy/reference/index.html\">http://docs.scipy.org/doc/numpy/reference/index.html</a></h4>"
   ]
  },
  {
   "cell_type": "markdown",
   "metadata": {
    "pycharm": {
     "name": "#%% md\n"
    }
   },
   "source": [
    "Création à la volée, génération d’une séquence, chargement à partir d’unfichier\n",
    "CRÉATION D’UNE MATRICE"
   ]
  },
  {
   "cell_type": "code",
   "execution_count": 3,
   "metadata": {
    "pycharm": {
     "name": "#%%\n"
    }
   },
   "outputs": [],
   "source": [
    "import numpy as np"
   ]
  },
  {
   "cell_type": "code",
   "execution_count": 4,
   "metadata": {
    "pycharm": {
     "name": "#%%\n"
    }
   },
   "outputs": [],
   "source": [
    "#Noter le rôle des [ ] et  [ ] pour délimiter les  portions de la matrice\n",
    "a = np.array([ [1.2,2.5],[3.2,1.8],[1.1,4.3] ])\n"
   ]
  },
  {
   "cell_type": "code",
   "execution_count": 5,
   "metadata": {
    "pycharm": {
     "name": "#%%\n"
    }
   },
   "outputs": [
    {
     "name": "stdout",
     "output_type": "stream",
     "text": [
      "<class 'numpy.ndarray'>\n"
     ]
    }
   ],
   "source": [
    "#type de lastructure\n",
    "print(type(a)) #<class‘numpy.ndarray’>\n"
   ]
  },
  {
   "cell_type": "code",
   "execution_count": 6,
   "metadata": {
    "pycharm": {
     "name": "#%%\n"
    }
   },
   "outputs": [
    {
     "name": "stdout",
     "output_type": "stream",
     "text": [
      "float64\n"
     ]
    }
   ],
   "source": [
    "#type desdonnées\n",
    "print(a.dtype) # float64\n"
   ]
  },
  {
   "cell_type": "code",
   "execution_count": 7,
   "metadata": {
    "pycharm": {
     "name": "#%%\n"
    }
   },
   "outputs": [
    {
     "name": "stdout",
     "output_type": "stream",
     "text": [
      "2\n"
     ]
    }
   ],
   "source": [
    "#nombre dedimensions\n",
    "print(a.ndim) #2 (car c ’est  une matrice)"
   ]
  },
  {
   "cell_type": "code",
   "execution_count": 8,
   "metadata": {
    "pycharm": {
     "name": "#%%\n"
    }
   },
   "outputs": [
    {
     "name": "stdout",
     "output_type": "stream",
     "text": [
      "(3, 2)\n"
     ]
    }
   ],
   "source": [
    "#nombre de lignes et col, shape renvoie un tuple\n",
    "# a = np.array([ \n",
    "#               [1.2,2.5],\n",
    "#               [3.2,1.8],\n",
    "#               [1.1,4.3] ])\n",
    "print(a.shape) #(3,2) 3 lignes et 2 colonnes\n"
   ]
  },
  {
   "cell_type": "code",
   "execution_count": 54,
   "metadata": {
    "pycharm": {
     "name": "#%%\n"
    }
   },
   "outputs": [
    {
     "name": "stdout",
     "output_type": "stream",
     "text": [
      "6\n"
     ]
    }
   ],
   "source": [
    "#nombre totale de valeurs\n",
    "print(a.size)  #6, nb.lignes x nb.colonnes\n"
   ]
  },
  {
   "cell_type": "markdown",
   "metadata": {},
   "source": [
    "<h2>Typage desdonnées</2>\n"
   ]
  },
  {
   "cell_type": "code",
   "execution_count": 10,
   "metadata": {
    "pycharm": {
     "name": "#%%\n"
    }
   },
   "outputs": [
    {
     "name": "stdout",
     "output_type": "stream",
     "text": [
      "[[1.2 2.5]\n",
      " [3.2 1.8]\n",
      " [1.1 4.3]]\n"
     ]
    }
   ],
   "source": [
    "#print del’ensemble\n",
    "print(a)"
   ]
  },
  {
   "cell_type": "code",
   "execution_count": 11,
   "metadata": {
    "pycharm": {
     "name": "#%%\n"
    }
   },
   "outputs": [
    {
     "name": "stdout",
     "output_type": "stream",
     "text": [
      "int64\n"
     ]
    }
   ],
   "source": [
    "#création et typage implicite\n",
    "a = np.array([[1,2],[4,7]])\n",
    "print(a.dtype) #int32\n"
   ]
  },
  {
   "cell_type": "code",
   "execution_count": 55,
   "metadata": {
    "pycharm": {
     "name": "#%%\n"
    }
   },
   "outputs": [
    {
     "name": "stdout",
     "output_type": "stream",
     "text": [
      "[[1. 2.]\n",
      " [4. 7.]]\n",
      "float64\n"
     ]
    }
   ],
   "source": [
    "#création et typage explicite –préférable !\n",
    "a = np.array([[1,2],[4,7]],dtype=float)\n",
    "print(a)\n",
    "print(a.dtype) #float64"
   ]
  },
  {
   "cell_type": "markdown",
   "metadata": {},
   "source": [
    "Tout comme pour les vecteurs, la création d’unematriced’objets complexes (autres que les types de base) estpossible"
   ]
  },
  {
   "cell_type": "markdown",
   "metadata": {},
   "source": [
    "<h2>Créationd’une matrice à  partir d’une séquence de valeurs</h2>"
   ]
  },
  {
   "cell_type": "markdown",
   "metadata": {
    "pycharm": {
     "name": "#%% md\n"
    }
   },
   "source": [
    "arange() génère une séquence de valeurs, 0 à 9.\n",
    "reshape() se charge de les réorganiser en matrice  2 lignes et 5 colonnes"
   ]
  },
  {
   "cell_type": "code",
   "execution_count": 13,
   "metadata": {
    "pycharm": {
     "name": "#%%\n"
    }
   },
   "outputs": [
    {
     "name": "stdout",
     "output_type": "stream",
     "text": [
      "[[0 1 2 3 4]\n",
      " [5 6 7 8 9]]\n"
     ]
    }
   ],
   "source": [
    "#création à partir d'une séquence\n",
    "# #attention les dim. doivent être compatibles\n",
    "a = np.arange(0,10).reshape(2,5)\n",
    "print(a)"
   ]
  },
  {
   "cell_type": "code",
   "execution_count": 64,
   "metadata": {
    "pycharm": {
     "name": "#%%\n"
    }
   },
   "outputs": [
    {
     "name": "stdout",
     "output_type": "stream",
     "text": [
      "(6,)\n"
     ]
    }
   ],
   "source": [
    "#un vecteur peut être converti en matrice\n",
    "a =np.array([2.1,3.4,6.7,8.1,3.5,7.2])\n",
    "print(a.shape) # (6,)\n"
   ]
  },
  {
   "cell_type": "code",
   "execution_count": 65,
   "metadata": {
    "pycharm": {
     "name": "#%%\n"
    }
   },
   "outputs": [
    {
     "name": "stdout",
     "output_type": "stream",
     "text": [
      "(2, 3)\n",
      "[[2.1 3.4 6.7]\n",
      " [8.1 3.5 7.2]]\n"
     ]
    }
   ],
   "source": [
    "#redim. en 3 lignes x 2 col.\n",
    "b = a.reshape(2,3)\n",
    "print(b.shape) # (2, 3)\n",
    "print(b)\n"
   ]
  },
  {
   "cell_type": "code",
   "execution_count": 68,
   "metadata": {
    "pycharm": {
     "name": "#%%\n"
    }
   },
   "outputs": [
    {
     "name": "stdout",
     "output_type": "stream",
     "text": [
      "[[0. 0. 0. 0.]\n",
      " [0. 0. 0. 0.]]\n"
     ]
    }
   ],
   "source": [
    "#matrices de valeurs identiques\n",
    "#ex. pour une initialisation\n",
    "a = np.zeros(shape=(2,4))\n",
    "print(a)"
   ]
  },
  {
   "cell_type": "code",
   "execution_count": 17,
   "metadata": {
    "pycharm": {
     "name": "#%%\n"
    }
   },
   "outputs": [
    {
     "name": "stdout",
     "output_type": "stream",
     "text": [
      "[[0.1 0.1 0.1 0.1]\n",
      " [0.1 0.1 0.1 0.1]]\n"
     ]
    }
   ],
   "source": [
    "#plus généralement\n",
    "a = np.full(shape=(2,4),fill_value=0.1)\n",
    "print(a)\n",
    "\n"
   ]
  },
  {
   "cell_type": "markdown",
   "metadata": {
    "pycharm": {
     "name": "#%% md\n"
    }
   },
   "source": [
    "<h2>Chargement à partir d’un fichier - Conversions<h2>\n"
   ]
  },
  {
   "cell_type": "code",
   "execution_count": 75,
   "metadata": {
    "pycharm": {
     "name": "#%%\n"
    }
   },
   "outputs": [
    {
     "name": "stdout",
     "output_type": "stream",
     "text": [
      "[[ 45.  62. 168.]\n",
      " [ 34.  68. 187.]\n",
      " [ 53.  85. 159.]]\n"
     ]
    }
   ],
   "source": [
    "#charger à partir d'un fichier, typage explicite\n",
    "a =np.loadtxt(\"mat.txt\",delimiter=\",\",dtype=float)\n",
    "print(a)"
   ]
  },
  {
   "cell_type": "code",
   "execution_count": 19,
   "metadata": {
    "pycharm": {
     "name": "#%%\n"
    }
   },
   "outputs": [
    {
     "name": "stdout",
     "output_type": "stream",
     "text": [
      "<class 'list'>\n"
     ]
    }
   ],
   "source": [
    "#liste devaleurs\n",
    "lst = [1.2,3.1,4.5,6.3]\n",
    "print(type(lst)) # <class‘list’>\n"
   ]
  },
  {
   "cell_type": "code",
   "execution_count": 77,
   "metadata": {
    "pycharm": {
     "name": "#%%\n"
    }
   },
   "outputs": [
    {
     "name": "stdout",
     "output_type": "stream",
     "text": [
      "[[1.2 3.1]\n",
      " [4.5 6.3]]\n"
     ]
    }
   ],
   "source": [
    "#conversion à partir d'une liste : 2 étapes asarray() etreshape()\n",
    "a =np.asarray(lst,dtype=float).reshape(2,2)\n",
    "print(a)\n"
   ]
  },
  {
   "cell_type": "markdown",
   "metadata": {},
   "source": [
    "<h2>Redimensionnement<h2>"
   ]
  },
  {
   "cell_type": "code",
   "execution_count": 21,
   "metadata": {
    "pycharm": {
     "name": "#%%\n"
    }
   },
   "outputs": [],
   "source": [
    "#matrice de valeurs\n",
    "a = np.array([[1.2,2.5],[3.2,1.8],[1.1,4.3]])"
   ]
  },
  {
   "cell_type": "code",
   "execution_count": 22,
   "metadata": {
    "pycharm": {
     "name": "#%%\n"
    }
   },
   "outputs": [
    {
     "name": "stdout",
     "output_type": "stream",
     "text": [
      "[[1.2 2.5]\n",
      " [3.2 1.8]\n",
      " [1.1 4.3]\n",
      " [4.1 2.6]]\n"
     ]
    }
   ],
   "source": [
    "#ajouter une ligne – marche pour la concaténation de matrices\n",
    "#Accoler le vecteur b en tant que  nouvelle ligne (axis = 0) de la  matricea\n",
    "b = np.array([[4.1,2.6]])\n",
    "c =np.append(a,b,axis=0)\n",
    "print(c)"
   ]
  },
  {
   "cell_type": "code",
   "execution_count": 23,
   "metadata": {
    "pycharm": {
     "name": "#%%\n"
    }
   },
   "outputs": [
    {
     "name": "stdout",
     "output_type": "stream",
     "text": [
      "[[1.2 2.5 7.8]\n",
      " [3.2 1.8 6.1]\n",
      " [1.1 4.3 5.4]]\n"
     ]
    }
   ],
   "source": [
    "#ajouter une colonne\n",
    "#Accoler le vecteur den tantque nouvelle colonne(axis= 1) de la matrice\n",
    "d =np.array([[7.8],[6.1],[5.4]])\n",
    "print(np.append(a,d,axis=1))\n"
   ]
  },
  {
   "cell_type": "code",
   "execution_count": 24,
   "metadata": {
    "pycharm": {
     "name": "#%%\n"
    }
   },
   "outputs": [
    {
     "name": "stdout",
     "output_type": "stream",
     "text": [
      "[[1.2 2.5]\n",
      " [4.1 2.6]\n",
      " [3.2 1.8]\n",
      " [1.1 4.3]]\n"
     ]
    }
   ],
   "source": [
    "#insertion\n",
    "#Insertion de b en tant que nouvelle  ligne (axis = 0) à la positionn°1\n",
    "\n",
    "print(np.insert(a,1,b,axis=0))\n"
   ]
  },
  {
   "cell_type": "code",
   "execution_count": 25,
   "metadata": {
    "pycharm": {
     "name": "#%%\n"
    }
   },
   "outputs": [
    {
     "name": "stdout",
     "output_type": "stream",
     "text": [
      "[[1.2 2.5]\n",
      " [1.1 4.3]]\n"
     ]
    }
   ],
   "source": [
    "#suppression\n",
    "#Suppression de la ligne (axis = 0)  via son indice(n°1)\n",
    "#a = np.array([[1.2,2.5],[3.2,1.8],[1.1,4.3]])\n",
    "print(np.delete(a,1,axis=0))\n"
   ]
  },
  {
   "cell_type": "code",
   "execution_count": 26,
   "metadata": {
    "pycharm": {
     "name": "#%%\n"
    }
   },
   "outputs": [
    {
     "name": "stdout",
     "output_type": "stream",
     "text": [
      "[[1.2 2.5 3.2]\n",
      " [1.8 1.1 4.3]]\n"
     ]
    }
   ],
   "source": [
    "#modifier la dimension d'une matrice existante\n",
    "#parcourt les données lignes par ligne\n",
    "#Redimensionnement  d’une matrice\n",
    "h = np.resize(a,new_shape=(2,3))\n",
    "print(h)"
   ]
  },
  {
   "cell_type": "markdown",
   "metadata": {},
   "source": [
    "<h1>EXTRACTION DES VALEURS</h1>\n",
    "<h3>Accéder aux valeurs via des indices ou desconditions<h3>\n"
   ]
  },
  {
   "cell_type": "markdown",
   "metadata": {
    "pycharm": {
     "name": "#%% md\n"
    }
   },
   "source": [
    "<h2>Accès indicé – Plages d’indices</h2>\n",
    "\n"
   ]
  },
  {
   "cell_type": "code",
   "execution_count": 27,
   "metadata": {
    "pycharm": {
     "name": "#%%\n"
    }
   },
   "outputs": [],
   "source": [
    "v = np.array([[1.2,2.5],[3.2,1.8],[1.1,4.3]])"
   ]
  },
  {
   "cell_type": "code",
   "execution_count": 28,
   "metadata": {
    "pycharm": {
     "name": "#%%\n"
    }
   },
   "outputs": [
    {
     "name": "stdout",
     "output_type": "stream",
     "text": [
      "[[1.2 2.5]\n",
      " [3.2 1.8]\n",
      " [1.1 4.3]]\n"
     ]
    }
   ],
   "source": [
    "#affichage de la structure dans son ensemble\n",
    "print(v)\n"
   ]
  },
  {
   "cell_type": "code",
   "execution_count": 81,
   "metadata": {
    "pycharm": {
     "name": "#%%\n"
    }
   },
   "outputs": [
    {
     "name": "stdout",
     "output_type": "stream",
     "text": [
      "1.2\n"
     ]
    }
   ],
   "source": [
    "#accès indicé - premièrevaleur\n",
    "print(v[0,0]) # 1.2\n"
   ]
  },
  {
   "cell_type": "code",
   "execution_count": 30,
   "metadata": {
    "pycharm": {
     "name": "#%%\n"
    }
   },
   "outputs": [
    {
     "name": "stdout",
     "output_type": "stream",
     "text": [
      "4.3\n"
     ]
    }
   ],
   "source": [
    "#dernière valeur – noter l’utilisation de shape (qui est un tuple)\n",
    "print(v[v.shape[0]-1,v.shape[1]-1]) # 4.3\n"
   ]
  },
  {
   "cell_type": "code",
   "execution_count": 31,
   "metadata": {
    "pycharm": {
     "name": "#%%\n"
    }
   },
   "outputs": [
    {
     "name": "stdout",
     "output_type": "stream",
     "text": [
      "[[1.2 2.5]\n",
      " [3.2 1.8]\n",
      " [1.1 4.3]]\n"
     ]
    }
   ],
   "source": [
    "#autre solution pour affichage de toutes les valeurs, noter le rôle des :\n",
    "print(v[:,:])\n"
   ]
  },
  {
   "cell_type": "code",
   "execution_count": 86,
   "metadata": {
    "pycharm": {
     "name": "#%%\n"
    }
   },
   "outputs": [
    {
     "name": "stdout",
     "output_type": "stream",
     "text": [
      "[[1.2 2.5]\n",
      " [3.2 1.8]]\n"
     ]
    }
   ],
   "source": [
    "#plage d'indices contigus : lignes 0 à 1 (2 non inclus), toutes les colonnes\n",
    "print(v[0:2,:])\n"
   ]
  },
  {
   "cell_type": "code",
   "execution_count": 33,
   "metadata": {
    "pycharm": {
     "name": "#%%\n"
    }
   },
   "outputs": [
    {
     "name": "stdout",
     "output_type": "stream",
     "text": [
      "[[1.2 2.5]\n",
      " [3.2 1.8]]\n"
     ]
    }
   ],
   "source": [
    "#extrêmes, début to 2 (non-inclus)\n",
    "print(v[:2,:])"
   ]
  },
  {
   "cell_type": "code",
   "execution_count": 34,
   "metadata": {
    "pycharm": {
     "name": "#%%\n"
    }
   },
   "outputs": [
    {
     "name": "stdout",
     "output_type": "stream",
     "text": [
      "[[3.2 1.8]\n",
      " [1.1 4.3]]\n"
     ]
    }
   ],
   "source": [
    "#extrêmes, lignes 1 à dernière\n",
    "print(v[1:,:])\n"
   ]
  },
  {
   "cell_type": "code",
   "execution_count": 35,
   "metadata": {
    "pycharm": {
     "name": "#%%\n"
    }
   },
   "outputs": [
    {
     "name": "stdout",
     "output_type": "stream",
     "text": [
      "[1.1 4.3]\n"
     ]
    }
   ],
   "source": [
    "#indice négatif – dernière ligne et toutes les colonnes\n",
    "print(v[-1,:])"
   ]
  },
  {
   "cell_type": "code",
   "execution_count": 36,
   "metadata": {
    "pycharm": {
     "name": "#%%\n"
    }
   },
   "outputs": [
    {
     "name": "stdout",
     "output_type": "stream",
     "text": [
      "[[3.2 1.8]\n",
      " [1.1 4.3]]\n"
     ]
    }
   ],
   "source": [
    "#indices négatifs – deux dernières lignes et toutes les colonnes\n",
    "print(v[-2:,:])"
   ]
  },
  {
   "cell_type": "markdown",
   "metadata": {},
   "source": [
    "<h2>Accès par conditions – Indiçage booléen</h2>"
   ]
  },
  {
   "cell_type": "code",
   "execution_count": 37,
   "metadata": {
    "pycharm": {
     "name": "#%%\n"
    }
   },
   "outputs": [
    {
     "name": "stdout",
     "output_type": "stream",
     "text": [
      "[[1.2 2.5]\n",
      " [1.1 4.3]]\n"
     ]
    }
   ],
   "source": [
    "#indiçage par vecteur de booléens\n",
    "#si b trop court, tout le reste est considéré False\n",
    "b = np.array([True,False,True],dtype=bool)\n",
    "print(v[b,:])\n"
   ]
  },
  {
   "cell_type": "markdown",
   "metadata": {},
   "source": [
    "#exemple illustratif : extraire la lignes dont la somme est la pluspetite\n"
   ]
  },
  {
   "cell_type": "code",
   "execution_count": 38,
   "metadata": {
    "pycharm": {
     "name": "#%%\n"
    }
   },
   "outputs": [
    {
     "name": "stdout",
     "output_type": "stream",
     "text": [
      "[3.7 5.  5.4]\n"
     ]
    }
   ],
   "source": [
    "#calculer la somme des colonnes pour chaque ligne\n",
    "s = np.sum(v,axis=1)\n",
    "print(s) # [ 3.7 5. 5.4]"
   ]
  },
  {
   "cell_type": "code",
   "execution_count": 39,
   "metadata": {
    "pycharm": {
     "name": "#%%\n"
    }
   },
   "outputs": [
    {
     "name": "stdout",
     "output_type": "stream",
     "text": [
      "[ True False False]\n"
     ]
    }
   ],
   "source": [
    "#repérer les lignes dont la somme est égale au minimum\n",
    "#il est possible qu’il y en ait plusieurs\n",
    "b = (s == np.min(s))\n",
    "print(b) # [ True False False]"
   ]
  },
  {
   "cell_type": "code",
   "execution_count": 40,
   "metadata": {
    "pycharm": {
     "name": "#%%\n"
    }
   },
   "outputs": [
    {
     "name": "stdout",
     "output_type": "stream",
     "text": [
      "[[1.2 2.5]]\n"
     ]
    }
   ],
   "source": [
    "#application du filtre booléen\n",
    "print(v[b,:])\n",
    "\n"
   ]
  },
  {
   "cell_type": "markdown",
   "metadata": {},
   "source": [
    "<h2>Tri etrecherche</h2>\n",
    "\n"
   ]
  },
  {
   "cell_type": "code",
   "execution_count": 41,
   "metadata": {
    "pycharm": {
     "name": "#%%\n"
    }
   },
   "outputs": [
    {
     "name": "stdout",
     "output_type": "stream",
     "text": [
      "[3.2 4.3]\n"
     ]
    }
   ],
   "source": [
    "#recherche valeur max des lignes (axis = 0) pour chaque colonne\n",
    "print(np.max( v,  axis=0)) # [ 3.24.3 ] -- décryptage : 3.2 est la max des lignes  pour la colonne 0, 4.3 est la max des lignes pour la colonne1\n"
   ]
  },
  {
   "cell_type": "code",
   "execution_count": 42,
   "metadata": {
    "pycharm": {
     "name": "#%%\n"
    }
   },
   "outputs": [
    {
     "name": "stdout",
     "output_type": "stream",
     "text": [
      "[2.5 3.2 4.3]\n"
     ]
    }
   ],
   "source": [
    "#recherche valeur max des colonnes (axis = 1) pour chaque ligne\n",
    "print(np.max( v,  axis=1)) # [ 2.5 3.24.3]"
   ]
  },
  {
   "cell_type": "code",
   "execution_count": 43,
   "metadata": {
    "pycharm": {
     "name": "#%%\n"
    }
   },
   "outputs": [
    {
     "name": "stdout",
     "output_type": "stream",
     "text": [
      "[1 2]\n"
     ]
    }
   ],
   "source": [
    "#recherche indice de valeur max des lignes (axis = 0) pour chaque colonne\n",
    "print(np.argmax( v,axis=0)) # [ 12 ]\n"
   ]
  },
  {
   "cell_type": "code",
   "execution_count": 44,
   "metadata": {
    "pycharm": {
     "name": "#%%\n"
    }
   },
   "outputs": [
    {
     "name": "stdout",
     "output_type": "stream",
     "text": [
      "[[1.1 1.8]\n",
      " [1.2 2.5]\n",
      " [3.2 4.3]]\n"
     ]
    }
   ],
   "source": [
    "#tri des lignes (axis = 0) pour chaque colonne\n",
    "#la relation entre les valeurs d'une même ligne est perdue !!!\n",
    "print(np.sort( v,axis=0))"
   ]
  },
  {
   "cell_type": "code",
   "execution_count": 45,
   "metadata": {
    "pycharm": {
     "name": "#%%\n"
    }
   },
   "outputs": [
    {
     "name": "stdout",
     "output_type": "stream",
     "text": [
      "[[2 1]\n",
      " [0 0]\n",
      " [1 2]]\n"
     ]
    }
   ],
   "source": [
    "#récupération des indices triés\n",
    "print(np.argsort( v,axis=0))"
   ]
  },
  {
   "cell_type": "markdown",
   "metadata": {},
   "source": [
    "<h1>ITÉRATIONS</h1>\n",
    "<h4>Stratégies pour parcourir unematrice</h4>\n"
   ]
  },
  {
   "cell_type": "markdown",
   "metadata": {
    "pycharm": {
     "name": "#%% md\n"
    }
   },
   "source": [
    "Avec les indices, nous pouvons accéder aux valeurs de la matrice  comme bon nous semble (ligne par ligne ou colonne parcolonne)\n"
   ]
  },
  {
   "cell_type": "code",
   "execution_count": 46,
   "metadata": {
    "pycharm": {
     "name": "#%%\n"
    }
   },
   "outputs": [],
   "source": [
    "v =np.array([[1.2,2.5],[3.2,1.8],[1.1,4.3]])\n"
   ]
  },
  {
   "cell_type": "code",
   "execution_count": 47,
   "metadata": {
    "pycharm": {
     "name": "#%%\n"
    }
   },
   "outputs": [
    {
     "name": "stdout",
     "output_type": "stream",
     "text": [
      "1.2\n",
      "2.5\n",
      "Somme =  3.7\n",
      "3.2\n",
      "1.8\n",
      "Somme =  8.700000000000001\n",
      "1.1\n",
      "4.3\n",
      "Somme =  14.100000000000001\n"
     ]
    }
   ],
   "source": [
    "#boucles indicées\n",
    "s =0.0\n",
    "for i in range(0,v.shape[0]):\n",
    "    for j in range(0,v.shape[1]):\n",
    "        print(v[i,j])\n",
    "        s = s +v[i,j]\n",
    "    print(\"Somme = \",s)\n"
   ]
  },
  {
   "cell_type": "markdown",
   "metadata": {},
   "source": [
    "<h2> Parcoursd’unematrice: lesitérateurs</h2>\n",
    "\n"
   ]
  },
  {
   "cell_type": "markdown",
   "metadata": {
    "pycharm": {
     "name": "#%% md\n"
    }
   },
   "source": [
    "Avec les itérateurs, nous pouvons accéder aux valeurs de la  matrice sans avoir à   recourir aux indices (ligne par ligne,  colonne parcolonne)\n"
   ]
  },
  {
   "cell_type": "code",
   "execution_count": 48,
   "metadata": {
    "pycharm": {
     "name": "#%%\n"
    }
   },
   "outputs": [
    {
     "name": "stdout",
     "output_type": "stream",
     "text": [
      "1.2\n",
      "2.5\n",
      "3.2\n",
      "1.8\n",
      "1.1\n",
      "4.3\n",
      "Somme =  28.200000000000003\n"
     ]
    }
   ],
   "source": [
    "#itérateur - accès ligne parligne\n",
    "# s =0.0\n",
    "for x in np.nditer(v):\n",
    "    print(x)\n",
    "    s = s + x\n",
    "print(\"Somme = \",s)\n"
   ]
  },
  {
   "cell_type": "code",
   "execution_count": 49,
   "metadata": {
    "pycharm": {
     "name": "#%%\n"
    }
   },
   "outputs": [
    {
     "name": "stdout",
     "output_type": "stream",
     "text": [
      "1.2\n",
      "3.2\n",
      "1.1\n",
      "2.5\n",
      "1.8\n",
      "4.3\n",
      "Somme =  14.100000000000001\n"
     ]
    }
   ],
   "source": [
    "#itérateur - accès colonne par colonne\n",
    "# #\"F\" pour \" Fortran order\"\n",
    "s =0.0\n",
    "for x in np.nditer( v,order=\"F\"):\n",
    "    print(x)\n",
    "    s = s +x\n",
    "print(\"Somme = \",s)\n"
   ]
  },
  {
   "cell_type": "markdown",
   "metadata": {
    "pycharm": {
     "name": "#%% md\n"
    }
   },
   "source": [
    "<h1>CALCULS SUR LESMATRICES</h1>\n",
    "<h4>Calculsstatistiques</h4>\n"
   ]
  },
  {
   "cell_type": "markdown",
   "metadata": {
    "pycharm": {
     "name": "#%% md\n"
    }
   },
   "source": [
    "Principe : les calculs  sont réalisés selon un  axe (0 : traitement des  valeurs en ligne pour  chaque colonne, 1 :  inversement)"
   ]
  },
  {
   "cell_type": "code",
   "execution_count": 50,
   "metadata": {
    "pycharm": {
     "name": "#%%\n"
    }
   },
   "outputs": [
    {
     "name": "stdout",
     "output_type": "stream",
     "text": [
      "[1.83333333 2.86666667]\n"
     ]
    }
   ],
   "source": [
    "#moyenne des lignes pour chaque colonne\n",
    "print(np.mean( v,axis=0)) # [1.8332.867]"
   ]
  },
  {
   "cell_type": "code",
   "execution_count": 51,
   "metadata": {
    "pycharm": {
     "name": "#%%\n"
    }
   },
   "outputs": [
    {
     "name": "stdout",
     "output_type": "stream",
     "text": [
      "[1.85 2.5  2.7 ]\n"
     ]
    }
   ],
   "source": [
    "#moyenne des colonnes pour chaque ligne\n",
    "print(np.mean( v,axis=1)) # [1.852.52.7]\n",
    "\n"
   ]
  },
  {
   "cell_type": "code",
   "execution_count": 52,
   "metadata": {
    "pycharm": {
     "name": "#%%\n"
    }
   },
   "outputs": [
    {
     "name": "stdout",
     "output_type": "stream",
     "text": [
      "[[1.2 2.5]\n",
      " [4.4 4.3]\n",
      " [5.5 8.6]]\n"
     ]
    }
   ],
   "source": [
    "#somme cumulée des valeurs en ligne pour chaque colonne\n",
    "print(np.cumsum( v,axis=0))\n"
   ]
  },
  {
   "cell_type": "code",
   "execution_count": 53,
   "metadata": {
    "pycharm": {
     "name": "#%%\n"
    }
   },
   "outputs": [
    {
     "name": "stdout",
     "output_type": "stream",
     "text": [
      "[[ 1.         -0.74507396]\n",
      " [-0.74507396  1.        ]]\n"
     ]
    }
   ],
   "source": [
    "#matrice decorrélation\n",
    "#rowvar = 0 pour indiquer que les variables\n",
    "#sont organisés en colonnes\n",
    "m = np.corrcoef( v,rowvar=0)\n",
    "print(m)"
   ]
  },
  {
   "cell_type": "markdown",
   "metadata": {
    "pycharm": {
     "name": "#%% md\n"
    }
   },
   "source": [
    "<b>La librairie n’est pas très fournie, nous aurons besoin de SciPy (etautres)</b>\n",
    "\n"
   ]
  },
  {
   "cell_type": "code",
   "execution_count": null,
   "metadata": {},
   "outputs": [],
   "source": []
  }
 ],
 "metadata": {
  "kernelspec": {
   "display_name": "Python 3.11.0b3 ('python_env': venv)",
   "language": "python",
   "name": "python3"
  },
  "language_info": {
   "codemirror_mode": {
    "name": "ipython",
    "version": 3
   },
   "file_extension": ".py",
   "mimetype": "text/x-python",
   "name": "python",
   "nbconvert_exporter": "python",
   "pygments_lexer": "ipython3",
   "version": "3.11.0"
  },
  "vscode": {
   "interpreter": {
    "hash": "32c53bdd8221aa38b46b090ceebd11a87def7401b0cd1876cd78ff345c3664a1"
   }
  }
 },
 "nbformat": 4,
 "nbformat_minor": 1
}
