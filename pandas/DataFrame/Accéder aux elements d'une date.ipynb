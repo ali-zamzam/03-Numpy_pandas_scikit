{
 "cells": [
  {
   "cell_type": "code",
   "execution_count": 1,
   "metadata": {},
   "outputs": [],
   "source": [
    "import pandas as pd\n",
    "import datetime as dt"
   ]
  },
  {
   "cell_type": "code",
   "execution_count": 2,
   "metadata": {},
   "outputs": [
    {
     "data": {
      "text/plain": [
       "0   2018-01-01\n",
       "1   2018-01-12\n",
       "2   2018-01-23\n",
       "3   2018-02-03\n",
       "4   2018-02-14\n",
       "dtype: datetime64[ns]"
      ]
     },
     "execution_count": 2,
     "metadata": {},
     "output_type": "execute_result"
    }
   ],
   "source": [
    "plage = pd.date_range(start='2018-01-01', end=\"2018-12-31\", freq=\"11D\")\n",
    "s = pd.Series(plage)\n",
    "s.head()"
   ]
  },
  {
   "cell_type": "code",
   "execution_count": 3,
   "metadata": {},
   "outputs": [
    {
     "data": {
      "text/plain": [
       "0      1\n",
       "1     12\n",
       "2     23\n",
       "3      3\n",
       "4     14\n",
       "5     25\n",
       "6      8\n",
       "7     19\n",
       "8     30\n",
       "9     10\n",
       "10    21\n",
       "11     2\n",
       "12    13\n",
       "13    24\n",
       "14     4\n",
       "15    15\n",
       "16    26\n",
       "17     7\n",
       "18    18\n",
       "19    29\n",
       "20     9\n",
       "21    20\n",
       "22    31\n",
       "23    11\n",
       "24    22\n",
       "25     3\n",
       "26    14\n",
       "27    25\n",
       "28     5\n",
       "29    16\n",
       "30    27\n",
       "31     8\n",
       "32    19\n",
       "33    30\n",
       "dtype: int64"
      ]
     },
     "execution_count": 3,
     "metadata": {},
     "output_type": "execute_result"
    }
   ],
   "source": [
    "s.dt.day"
   ]
  },
  {
   "cell_type": "code",
   "execution_count": 5,
   "metadata": {},
   "outputs": [
    {
     "data": {
      "text/plain": [
       "0      1\n",
       "1      1\n",
       "2      1\n",
       "3      2\n",
       "4      2\n",
       "5      2\n",
       "6      3\n",
       "7      3\n",
       "8      3\n",
       "9      4\n",
       "10     4\n",
       "11     5\n",
       "12     5\n",
       "13     5\n",
       "14     6\n",
       "15     6\n",
       "16     6\n",
       "17     7\n",
       "18     7\n",
       "19     7\n",
       "20     8\n",
       "21     8\n",
       "22     8\n",
       "23     9\n",
       "24     9\n",
       "25    10\n",
       "26    10\n",
       "27    10\n",
       "28    11\n",
       "29    11\n",
       "30    11\n",
       "31    12\n",
       "32    12\n",
       "33    12\n",
       "dtype: int64"
      ]
     },
     "execution_count": 5,
     "metadata": {},
     "output_type": "execute_result"
    }
   ],
   "source": [
    "s.dt.month"
   ]
  },
  {
   "cell_type": "code",
   "execution_count": 8,
   "metadata": {},
   "outputs": [
    {
     "data": {
      "text/plain": [
       "0      True\n",
       "1     False\n",
       "2     False\n",
       "3     False\n",
       "4     False\n",
       "5     False\n",
       "6     False\n",
       "7     False\n",
       "8     False\n",
       "9     False\n",
       "10    False\n",
       "11    False\n",
       "12    False\n",
       "13    False\n",
       "14    False\n",
       "15    False\n",
       "16    False\n",
       "17    False\n",
       "18    False\n",
       "19    False\n",
       "20    False\n",
       "21    False\n",
       "22    False\n",
       "23    False\n",
       "24    False\n",
       "25    False\n",
       "26    False\n",
       "27    False\n",
       "28    False\n",
       "29    False\n",
       "30    False\n",
       "31    False\n",
       "32    False\n",
       "33    False\n",
       "dtype: bool"
      ]
     },
     "execution_count": 8,
     "metadata": {},
     "output_type": "execute_result"
    }
   ],
   "source": [
    "s.dt.is_month_start"
   ]
  },
  {
   "cell_type": "code",
   "execution_count": 9,
   "metadata": {},
   "outputs": [
    {
     "data": {
      "text/plain": [
       "0   2018-01-01\n",
       "dtype: datetime64[ns]"
      ]
     },
     "execution_count": 9,
     "metadata": {},
     "output_type": "execute_result"
    }
   ],
   "source": [
    "s[s.dt.is_month_start]"
   ]
  },
  {
   "cell_type": "code",
   "execution_count": null,
   "metadata": {},
   "outputs": [],
   "source": []
  }
 ],
 "metadata": {
  "kernelspec": {
   "display_name": "Python 3",
   "language": "python",
   "name": "python3"
  },
  "language_info": {
   "codemirror_mode": {
    "name": "ipython",
    "version": 3
   },
   "file_extension": ".py",
   "mimetype": "text/x-python",
   "name": "python",
   "nbconvert_exporter": "python",
   "pygments_lexer": "ipython3",
   "version": "3.8.5"
  }
 },
 "nbformat": 4,
 "nbformat_minor": 2
}