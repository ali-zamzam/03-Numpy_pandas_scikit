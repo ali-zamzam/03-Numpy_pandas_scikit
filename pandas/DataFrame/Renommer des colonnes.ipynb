{
 "cells": [
  {
   "cell_type": "code",
   "execution_count": 1,
   "metadata": {},
   "outputs": [],
   "source": [
    "import numpy as np \n",
    "import pandas as pd\n",
    "\n",
    "pd.set_option('display.notebook_repr_html', False)\n",
    "pd.set_option('display.max_columns', 10)\n",
    "pd.set_option('display.max_rows', 10)"
   ]
  },
  {
   "cell_type": "markdown",
   "metadata": {},
   "source": [
    "Nous allons voir plusieurs possibilités de renommer une colonne."
   ]
  },
  {
   "cell_type": "code",
   "execution_count": 2,
   "metadata": {},
   "outputs": [
    {
     "data": {
      "text/plain": [
       "   col1  col2  col3  col4  col5\n",
       "0    10    11    12    13    14\n",
       "1    20    21    22    23    24"
      ]
     },
     "execution_count": 2,
     "metadata": {},
     "output_type": "execute_result"
    }
   ],
   "source": [
    "dfa = pd.DataFrame(np.array([[10, 11, 12, 13, 14], [20, 21, 22, 23, 24]]),columns=['col1', 'col2', 'col3', 'col4', 'col5'])\n",
    "dfa\n"
   ]
  },
  {
   "cell_type": "code",
   "execution_count": 3,
   "metadata": {},
   "outputs": [
    {
     "data": {
      "text/plain": [
       "Index(['colonne 1', 'col2', 'col3', 'col4', 'col5'], dtype='object')"
      ]
     },
     "execution_count": 3,
     "metadata": {},
     "output_type": "execute_result"
    }
   ],
   "source": [
    "# On utilise la fonction rename de Pandas\n",
    "dfa.rename(columns={'col1':'colonne 1'}, inplace=True)\n",
    "dfa.columns\n"
   ]
  },
  {
   "cell_type": "code",
   "execution_count": 4,
   "metadata": {},
   "outputs": [
    {
     "data": {
      "text/plain": [
       "   new 1  colonne 2  col3  col4  col5\n",
       "0     10         11    12    13    14\n",
       "1     20         21    22    23    24"
      ]
     },
     "execution_count": 4,
     "metadata": {},
     "output_type": "execute_result"
    }
   ],
   "source": [
    "# On peut aussi combiner avec un dictionnaire\n",
    "old_names = ['colonne 1', 'col2'] \n",
    "new_names = ['new 1', 'colonne 2']\n",
    "dfa.rename(columns=dict(zip(old_names, new_names)), inplace=True)\n",
    "dfa\n"
   ]
  },
  {
   "cell_type": "code",
   "execution_count": 5,
   "metadata": {},
   "outputs": [
    {
     "data": {
      "text/plain": [
       "   new 1  colonne 2  colonne 3  col4  col5\n",
       "0     10         11         12    13    14\n",
       "1     20         21         22    23    24"
      ]
     },
     "execution_count": 5,
     "metadata": {},
     "output_type": "execute_result"
    }
   ],
   "source": [
    "# Vous pouvez également utiliser une fonction plus poussée\n",
    "dfa.columns = ['colonne 3' if x=='col3' else x for x in dfa.columns]\n",
    "dfa\n"
   ]
  },
  {
   "cell_type": "code",
   "execution_count": null,
   "metadata": {},
   "outputs": [],
   "source": []
  }
 ],
 "metadata": {
  "kernelspec": {
   "display_name": "Python 3",
   "language": "python",
   "name": "python3"
  },
  "language_info": {
   "codemirror_mode": {
    "name": "ipython",
    "version": 3
   },
   "file_extension": ".py",
   "mimetype": "text/x-python",
   "name": "python",
   "nbconvert_exporter": "python",
   "pygments_lexer": "ipython3",
   "version": "3.6.5"
  }
 },
 "nbformat": 4,
 "nbformat_minor": 2
}
