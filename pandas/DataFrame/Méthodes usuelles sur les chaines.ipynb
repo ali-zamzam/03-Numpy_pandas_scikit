{
 "cells": [
  {
   "cell_type": "code",
   "execution_count": 1,
   "metadata": {},
   "outputs": [],
   "source": [
    "import pandas as pd\n",
    "import numpy as np\n",
    "pd.set_option('display.max_rows', 10)"
   ]
  },
  {
   "cell_type": "code",
   "execution_count": 12,
   "metadata": {},
   "outputs": [
    {
     "data": {
      "text/html": [
       "<div>\n",
       "<style scoped>\n",
       "    .dataframe tbody tr th:only-of-type {\n",
       "        vertical-align: middle;\n",
       "    }\n",
       "\n",
       "    .dataframe tbody tr th {\n",
       "        vertical-align: top;\n",
       "    }\n",
       "\n",
       "    .dataframe thead th {\n",
       "        text-align: right;\n",
       "    }\n",
       "</style>\n",
       "<table border=\"1\" class=\"dataframe\">\n",
       "  <thead>\n",
       "    <tr style=\"text-align: right;\">\n",
       "      <th></th>\n",
       "      <th>nom</th>\n",
       "      <th>note</th>\n",
       "      <th>moyenne</th>\n",
       "      <th>qualification</th>\n",
       "      <th>salaire horaire</th>\n",
       "      <th>appreciations</th>\n",
       "    </tr>\n",
       "  </thead>\n",
       "  <tbody>\n",
       "    <tr>\n",
       "      <th>a</th>\n",
       "      <td>Anne</td>\n",
       "      <td>12.5</td>\n",
       "      <td>15.00</td>\n",
       "      <td>yes</td>\n",
       "      <td>1000 €</td>\n",
       "      <td>correct</td>\n",
       "    </tr>\n",
       "    <tr>\n",
       "      <th>b</th>\n",
       "      <td>Alex</td>\n",
       "      <td>20.0</td>\n",
       "      <td>18.00</td>\n",
       "      <td>no</td>\n",
       "      <td>18 €</td>\n",
       "      <td>à suivre</td>\n",
       "    </tr>\n",
       "    <tr>\n",
       "      <th>c</th>\n",
       "      <td>catherine</td>\n",
       "      <td>16.5</td>\n",
       "      <td>16.50</td>\n",
       "      <td>yes</td>\n",
       "      <td>16,5 €</td>\n",
       "      <td>correct</td>\n",
       "    </tr>\n",
       "    <tr>\n",
       "      <th>d</th>\n",
       "      <td>Jean</td>\n",
       "      <td>NaN</td>\n",
       "      <td>9.10</td>\n",
       "      <td>no</td>\n",
       "      <td>9,1 €</td>\n",
       "      <td>neutre</td>\n",
       "    </tr>\n",
       "    <tr>\n",
       "      <th>e</th>\n",
       "      <td>Emillie</td>\n",
       "      <td>9.0</td>\n",
       "      <td>11.25</td>\n",
       "      <td>no</td>\n",
       "      <td>11,25 €</td>\n",
       "      <td>excellent</td>\n",
       "    </tr>\n",
       "    <tr>\n",
       "      <th>f</th>\n",
       "      <td>Michel</td>\n",
       "      <td>20.0</td>\n",
       "      <td>17.50</td>\n",
       "      <td>yes</td>\n",
       "      <td>17,5 €</td>\n",
       "      <td>neutre</td>\n",
       "    </tr>\n",
       "    <tr>\n",
       "      <th>g</th>\n",
       "      <td>Matieu</td>\n",
       "      <td>14.5</td>\n",
       "      <td>11.00</td>\n",
       "      <td>yes</td>\n",
       "      <td>11,0 €</td>\n",
       "      <td>très bien</td>\n",
       "    </tr>\n",
       "    <tr>\n",
       "      <th>h</th>\n",
       "      <td>Laura</td>\n",
       "      <td>NaN</td>\n",
       "      <td>13.80</td>\n",
       "      <td>no</td>\n",
       "      <td>13,8 €</td>\n",
       "      <td>besoin de soutien</td>\n",
       "    </tr>\n",
       "    <tr>\n",
       "      <th>i</th>\n",
       "      <td>Kevin</td>\n",
       "      <td>8.0</td>\n",
       "      <td>7.60</td>\n",
       "      <td>no</td>\n",
       "      <td>7,6 €</td>\n",
       "      <td>à suivre</td>\n",
       "    </tr>\n",
       "    <tr>\n",
       "      <th>j</th>\n",
       "      <td>Jonas</td>\n",
       "      <td>19.0</td>\n",
       "      <td>14.30</td>\n",
       "      <td>yes</td>\n",
       "      <td>14,3 €</td>\n",
       "      <td>besoin de soutien</td>\n",
       "    </tr>\n",
       "  </tbody>\n",
       "</table>\n",
       "</div>"
      ],
      "text/plain": [
       "         nom  note  moyenne qualification salaire horaire      appreciations\n",
       "a       Anne  12.5    15.00           yes          1000 €            correct\n",
       "b       Alex  20.0    18.00            no            18 €           à suivre\n",
       "c  catherine  16.5    16.50           yes          16,5 €            correct\n",
       "d       Jean   NaN     9.10            no           9,1 €             neutre\n",
       "e    Emillie   9.0    11.25            no         11,25 €          excellent\n",
       "f     Michel  20.0    17.50           yes          17,5 €             neutre\n",
       "g     Matieu  14.5    11.00           yes          11,0 €          très bien\n",
       "h      Laura   NaN    13.80            no          13,8 €  besoin de soutien\n",
       "i      Kevin   8.0     7.60            no           7,6 €           à suivre\n",
       "j      Jonas  19.0    14.30           yes          14,3 €  besoin de soutien"
      ]
     },
     "execution_count": 12,
     "metadata": {},
     "output_type": "execute_result"
    }
   ],
   "source": [
    "exam_data  = {'nom': ['Anne', 'Alex', 'catherine', 'Jean', 'Emillie', 'Michel', 'Matieu', 'Laura', 'Kevin', 'Jonas'],\n",
    "        'note': [12.5, 20, 16.5, np.nan, 9, 20, 14.5, np.nan, 8, 19],\n",
    "         'moyenne': [15, 18, 16.5, 9.1, 11.25, 17.5, 11.0, 13.8, 7.6, 14.3],\n",
    "        'qualification': ['yes', 'no', 'yes', 'no', 'no', 'yes', 'yes', 'no', 'no', 'yes'],\n",
    "               'salaire horaire': [\" 1000 €\", \"18 €\", \"16,5 €\", \"9,1 €\", \"11,25 €\", \"17,5 €\", \"11,0 €\", \"13,8 €\", \"7,6 €\", \"14,3 €\"],\n",
    "         'appreciations': ['correct', 'à suivre', 'correct', 'neutre', 'excellent', 'neutre', 'très bien', 'besoin de soutien', 'à suivre', 'besoin de soutien']\n",
    "              \n",
    "        }\n",
    "labels = ['a', 'b', 'c', 'd', 'e', 'f', 'g', 'h', 'i', 'j']\n",
    "df = pd.DataFrame(exam_data , index=labels)\n",
    "df[\"appreciations\"] = df[\"appreciations\"].astype(\"category\")\n",
    "df[\"qualification\"] = df[\"qualification\"].astype(\"category\")\n",
    "df"
   ]
  },
  {
   "cell_type": "code",
   "execution_count": 4,
   "metadata": {},
   "outputs": [],
   "source": [
    "df[\"appreciations\"] = df[\"appreciations\"].astype(\"category\")"
   ]
  },
  {
   "cell_type": "code",
   "execution_count": 5,
   "metadata": {},
   "outputs": [],
   "source": [
    "df[\"qualification\"] = df[\"qualification\"].astype(\"category\")"
   ]
  },
  {
   "cell_type": "code",
   "execution_count": 6,
   "metadata": {},
   "outputs": [
    {
     "data": {
      "text/plain": [
       "a         anne\n",
       "b         alex\n",
       "c    catherine\n",
       "d         jean\n",
       "e      emillie\n",
       "f       michel\n",
       "g       matieu\n",
       "h        laura\n",
       "i        kevin\n",
       "j        jonas\n",
       "Name: nom, dtype: object"
      ]
     },
     "execution_count": 6,
     "metadata": {},
     "output_type": "execute_result"
    }
   ],
   "source": [
    "# Mettre en minuscule\n",
    "df[\"nom\"].str.lower()"
   ]
  },
  {
   "cell_type": "code",
   "execution_count": 7,
   "metadata": {},
   "outputs": [
    {
     "data": {
      "text/plain": [
       "a         ANNE\n",
       "b         ALEX\n",
       "c    CATHERINE\n",
       "d         JEAN\n",
       "e      EMILLIE\n",
       "f       MICHEL\n",
       "g       MATIEU\n",
       "h        LAURA\n",
       "i        KEVIN\n",
       "j        JONAS\n",
       "Name: nom, dtype: object"
      ]
     },
     "execution_count": 7,
     "metadata": {},
     "output_type": "execute_result"
    }
   ],
   "source": [
    "# Mettre en majuscule\n",
    "df[\"nom\"].str.upper()"
   ]
  },
  {
   "cell_type": "code",
   "execution_count": 8,
   "metadata": {},
   "outputs": [
    {
     "data": {
      "text/plain": [
       "a         Anne\n",
       "b         Alex\n",
       "c    Catherine\n",
       "d         Jean\n",
       "e      Emillie\n",
       "f       Michel\n",
       "g       Matieu\n",
       "h        Laura\n",
       "i        Kevin\n",
       "j        Jonas\n",
       "Name: nom, dtype: object"
      ]
     },
     "execution_count": 8,
     "metadata": {},
     "output_type": "execute_result"
    }
   ],
   "source": [
    "# Mettre en 1 lettre majuscule\n",
    "df[\"nom\"].str.title()"
   ]
  },
  {
   "cell_type": "code",
   "execution_count": 9,
   "metadata": {},
   "outputs": [
    {
     "data": {
      "text/plain": [
       "a    4\n",
       "b    4\n",
       "c    9\n",
       "d    4\n",
       "e    7\n",
       "f    6\n",
       "g    6\n",
       "h    5\n",
       "i    5\n",
       "j    5\n",
       "Name: nom, dtype: int64"
      ]
     },
     "execution_count": 9,
     "metadata": {},
     "output_type": "execute_result"
    }
   ],
   "source": [
    "# taille de ma chaine\n",
    "df[\"nom\"].str.len()"
   ]
  },
  {
   "cell_type": "code",
   "execution_count": 11,
   "metadata": {},
   "outputs": [
    {
     "data": {
      "text/plain": [
       "a    yes\n",
       "b     no\n",
       "c    yes\n",
       "d     no\n",
       "e     no\n",
       "f    yes\n",
       "g    yes\n",
       "h     no\n",
       "i     no\n",
       "j    yes\n",
       "Name: qualification, dtype: category\n",
       "Categories (2, object): [no, yes]"
      ]
     },
     "execution_count": 11,
     "metadata": {},
     "output_type": "execute_result"
    }
   ],
   "source": [
    "df[\"qualification\"]"
   ]
  },
  {
   "cell_type": "code",
   "execution_count": 13,
   "metadata": {},
   "outputs": [
    {
     "data": {
      "text/plain": [
       "Index(['A', 'B', 'C', 'D', 'E', 'F', 'G', 'H', 'I', 'J'], dtype='object')"
      ]
     },
     "execution_count": 13,
     "metadata": {},
     "output_type": "execute_result"
    }
   ],
   "source": [
    "# Vous pouvez également appliquer l'opération sur les index ou les noms de colonnes\n",
    "df.index.str.upper()\n"
   ]
  },
  {
   "cell_type": "code",
   "execution_count": 14,
   "metadata": {},
   "outputs": [
    {
     "data": {
      "text/plain": [
       "Index(['Nom', 'Note', 'Moyenne', 'Qualification', 'Salaire Horaire',\n",
       "       'Appreciations'],\n",
       "      dtype='object')"
      ]
     },
     "execution_count": 14,
     "metadata": {},
     "output_type": "execute_result"
    }
   ],
   "source": [
    "df.columns.str.title()"
   ]
  },
  {
   "cell_type": "code",
   "execution_count": null,
   "metadata": {},
   "outputs": [],
   "source": []
  }
 ],
 "metadata": {
  "kernelspec": {
   "display_name": "Python 3",
   "language": "python",
   "name": "python3"
  },
  "language_info": {
   "codemirror_mode": {
    "name": "ipython",
    "version": 3
   },
   "file_extension": ".py",
   "mimetype": "text/x-python",
   "name": "python",
   "nbconvert_exporter": "python",
   "pygments_lexer": "ipython3",
   "version": "3.6.5"
  }
 },
 "nbformat": 4,
 "nbformat_minor": 2
}
