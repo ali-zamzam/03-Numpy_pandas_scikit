{
 "cells": [
  {
   "cell_type": "code",
   "execution_count": 2,
   "metadata": {},
   "outputs": [],
   "source": [
    "import pandas as pd"
   ]
  },
  {
   "cell_type": "code",
   "execution_count": 3,
   "metadata": {},
   "outputs": [],
   "source": [
    "produits = pd.read_excel(\"composition-nutritionnelle.xls\", index_col=[0],usecols=[6,7,12,13,15,16,17,18])"
   ]
  },
  {
   "cell_type": "code",
   "execution_count": 4,
   "metadata": {},
   "outputs": [
    {
     "data": {
      "text/html": [
       "<div>\n",
       "<style scoped>\n",
       "    .dataframe tbody tr th:only-of-type {\n",
       "        vertical-align: middle;\n",
       "    }\n",
       "\n",
       "    .dataframe tbody tr th {\n",
       "        vertical-align: top;\n",
       "    }\n",
       "\n",
       "    .dataframe thead th {\n",
       "        text-align: right;\n",
       "    }\n",
       "</style>\n",
       "<table border=\"1\" class=\"dataframe\">\n",
       "  <thead>\n",
       "    <tr style=\"text-align: right;\">\n",
       "      <th></th>\n",
       "      <th>alim_nom_fr</th>\n",
       "      <th>Eau (g/100g)</th>\n",
       "      <th>Protéines (g/100g)</th>\n",
       "      <th>Glucides (g/100g)</th>\n",
       "      <th>Lipides (g/100g)</th>\n",
       "      <th>Sucres (g/100g)</th>\n",
       "      <th>Amidon (g/100g)</th>\n",
       "    </tr>\n",
       "    <tr>\n",
       "      <th>alim_code</th>\n",
       "      <th></th>\n",
       "      <th></th>\n",
       "      <th></th>\n",
       "      <th></th>\n",
       "      <th></th>\n",
       "      <th></th>\n",
       "      <th></th>\n",
       "    </tr>\n",
       "  </thead>\n",
       "  <tbody>\n",
       "    <tr>\n",
       "      <th>25600</th>\n",
       "      <td>Céleri rémoulade, préemballé</td>\n",
       "      <td>78,5</td>\n",
       "      <td>1,12</td>\n",
       "      <td>4,19</td>\n",
       "      <td>12,8</td>\n",
       "      <td>2,38</td>\n",
       "      <td>1,3</td>\n",
       "    </tr>\n",
       "    <tr>\n",
       "      <th>25601</th>\n",
       "      <td>Salade de thon et légumes, appertisée, égouttée</td>\n",
       "      <td>76,5</td>\n",
       "      <td>9,15</td>\n",
       "      <td>7,74</td>\n",
       "      <td>4,7</td>\n",
       "      <td>3,08</td>\n",
       "      <td>4,1</td>\n",
       "    </tr>\n",
       "    <tr>\n",
       "      <th>25602</th>\n",
       "      <td>Salade composée avec viande ou poisson, appert...</td>\n",
       "      <td>76,7</td>\n",
       "      <td>8,06</td>\n",
       "      <td>6,4</td>\n",
       "      <td>5,3</td>\n",
       "      <td>1,9</td>\n",
       "      <td>3,3</td>\n",
       "    </tr>\n",
       "    <tr>\n",
       "      <th>25605</th>\n",
       "      <td>Champignon à la grecque</td>\n",
       "      <td>84,6</td>\n",
       "      <td>2,08</td>\n",
       "      <td>3,95</td>\n",
       "      <td>3,55</td>\n",
       "      <td>2,38</td>\n",
       "      <td>0,28</td>\n",
       "    </tr>\n",
       "    <tr>\n",
       "      <th>25606</th>\n",
       "      <td>Salade de pommes de terre maison</td>\n",
       "      <td>76</td>\n",
       "      <td>2,68</td>\n",
       "      <td>9,9</td>\n",
       "      <td>8,2</td>\n",
       "      <td>-</td>\n",
       "      <td>-</td>\n",
       "    </tr>\n",
       "  </tbody>\n",
       "</table>\n",
       "</div>"
      ],
      "text/plain": [
       "                                                 alim_nom_fr Eau (g/100g)  \\\n",
       "alim_code                                                                   \n",
       "25600                           Céleri rémoulade, préemballé         78,5   \n",
       "25601        Salade de thon et légumes, appertisée, égouttée         76,5   \n",
       "25602      Salade composée avec viande ou poisson, appert...         76,7   \n",
       "25605                                Champignon à la grecque         84,6   \n",
       "25606                       Salade de pommes de terre maison           76   \n",
       "\n",
       "          Protéines (g/100g) Glucides (g/100g) Lipides (g/100g)  \\\n",
       "alim_code                                                         \n",
       "25600                   1,12              4,19             12,8   \n",
       "25601                   9,15              7,74              4,7   \n",
       "25602                   8,06               6,4              5,3   \n",
       "25605                   2,08              3,95             3,55   \n",
       "25606                   2,68               9,9              8,2   \n",
       "\n",
       "          Sucres (g/100g) Amidon (g/100g)  \n",
       "alim_code                                  \n",
       "25600                2,38             1,3  \n",
       "25601                3,08             4,1  \n",
       "25602                 1,9             3,3  \n",
       "25605                2,38            0,28  \n",
       "25606                   -               -  "
      ]
     },
     "execution_count": 4,
     "metadata": {},
     "output_type": "execute_result"
    }
   ],
   "source": [
    "produits.head()"
   ]
  },
  {
   "cell_type": "markdown",
   "metadata": {},
   "source": [
    "La sélection des données dans des colonnes spécifiques d'un DataFrame s'effectue à l'aide de la fonction [] ou du nom de la colonne. \n",
    "Ceci peut être passé soit comme un objet unique, soit comme une liste d'objets. \n",
    "\n",
    "Ces objets sont utilisés pour rechercher des colonnes soit par emplacement, soit en faisant correspondre les objets à les valeurs dans l'index des colonnes."
   ]
  },
  {
   "cell_type": "code",
   "execution_count": 4,
   "metadata": {},
   "outputs": [
    {
     "data": {
      "text/plain": [
       "alim_code\n",
       "25600                         Céleri rémoulade, préemballé\n",
       "25601      Salade de thon et légumes, appertisée, égouttée\n",
       "25602    Salade composée avec viande ou poisson, appert...\n",
       "25605                              Champignon à la grecque\n",
       "25606                     Salade de pommes de terre maison\n",
       "25608            Taboulé ou Salade de couscous, préemballé\n",
       "25609    Salade de pomme de terre à la piémontaise, pré...\n",
       "25614                                        Salade de riz\n",
       "25615                        Salade de pâtes, végétarienne\n",
       "25616         Crudité, sans assaisonnement (aliment moyen)\n",
       "25619    Salade de pâtes aux légumes, avec poisson ou v...\n",
       "25628    \\tSalade César au poulet (salade verte, fromag...\n",
       "26259    Salade de chou ou Coleslaw, avec sauce, préemb...\n",
       "26269    Taboulé ou Salade de couscous au poulet, préem...\n",
       "25900        Soupe aux lentilles, préemballée à réchauffer\n",
       "25901    Soupe à la volaille et aux légumes, préemballé...\n",
       "25903    Soupe aux légumes variés, préemballée à réchau...\n",
       "25904    Soupe de poissons et / ou crustacés, préemball...\n",
       "25905    Soupe aux légumes variés, déshydratée reconsti...\n",
       "25907    Soupe aux poireaux et pommes de terre, préemba...\n",
       "25908    Soupe à la volaille et aux vermicelles, préemb...\n",
       "25909    Bouillon de viande et légumes type pot-au-feu,...\n",
       "25910           Soupe à l'oignon, préemballée à réchauffer\n",
       "25912      Soupe aux champignons, préemballée à réchauffer\n",
       "25913         Soupe à la carotte, préemballée à réchauffer\n",
       "25914          Soupe à la tomate, préemballée à réchauffer\n",
       "25915       Soupe chorba frik, à base de viande et de frik\n",
       "25916           Soupe minestrone, préemballée à réchauffer\n",
       "25917            Soupe au pistou, déshydratée reconstituée\n",
       "25919    Soupe de poissons et / ou crustacés, déshydrat...\n",
       "                               ...                        \n",
       "13163    Boisson infantile céréales lactées pour le pet...\n",
       "13169    Boisson infantile céréales lactées pour le pet...\n",
       "13170    Boisson infantile céréales lactées pour le pet...\n",
       "13173    Boisson infantile céréales lactées pour le pet...\n",
       "13182    Boisson infantile céréales lactées (aliment mo...\n",
       "19012    Lait de croissance infantile, liquide (aliment...\n",
       "19013    Lait 1er âge, prêt à consommer (préparation po...\n",
       "19014    Lait 2e âge, prêt à consommer (préparation pou...\n",
       "20246                      Petit pot légumes, dès 4-6 mois\n",
       "20247       Petit pot légumes, avec féculent, dès 4/6 mois\n",
       "20248            Plat légumes, avec féculent, dès 6-8 mois\n",
       "20249    Plat légumes, avec féculent et lait/crème, dès...\n",
       "20250    Plat légumes, avec féculent et lait/crème, dès...\n",
       "20251    Plat légumes, avec féculent et lait/crème, dès...\n",
       "20252            Soupe pour bébé légumes et pomme de terre\n",
       "20253            Soupe pour bébé légumes, céréales et lait\n",
       "20254    Plat légumes, avec féculent et lait/crème, dès...\n",
       "42603    Plat légumes, avec féculent et viande/poisson,...\n",
       "42604    Plat légumes, avec féculent et viande/poisson,...\n",
       "42605    Plat légumes, avec féculent et viande/poisson,...\n",
       "42606    Plat légumes, avec féculent et viande/poisson,...\n",
       "13157                Petit pot fruit avec banane pour bébé\n",
       "13158                Petit pot fruit sans banane pour bébé\n",
       "13164           Dessert lacté infantile type crème dessert\n",
       "13165       Dessert lacté infantile au riz ou à la semoule\n",
       "13166    Dessert lacté infantile nature sucré ou aux fr...\n",
       "13167    Céréales instantanées, poudre à reconstituer, ...\n",
       "13168    Céréales instantanées, poudre à reconstituer, ...\n",
       "24689                                    Biscuit pour bébé\n",
       "42501                            Poudre cacaotée pour bébé\n",
       "Name: alim_nom_fr, Length: 2807, dtype: object"
      ]
     },
     "execution_count": 4,
     "metadata": {},
     "output_type": "execute_result"
    }
   ],
   "source": [
    "# récupération des données de la 1° colonne\n",
    "produits.alim_nom_fr"
   ]
  },
  {
   "cell_type": "code",
   "execution_count": 5,
   "metadata": {},
   "outputs": [],
   "source": [
    "pd.set_option('display.max_rows', 10)"
   ]
  },
  {
   "cell_type": "code",
   "execution_count": 9,
   "metadata": {},
   "outputs": [
    {
     "data": {
      "text/plain": [
       "alim_code\n",
       "25600                         Céleri rémoulade, préemballé\n",
       "25601      Salade de thon et légumes, appertisée, égouttée\n",
       "25602    Salade composée avec viande ou poisson, appert...\n",
       "25605                              Champignon à la grecque\n",
       "25606                     Salade de pommes de terre maison\n",
       "                               ...                        \n",
       "13166    Dessert lacté infantile nature sucré ou aux fr...\n",
       "13167    Céréales instantanées, poudre à reconstituer, ...\n",
       "13168    Céréales instantanées, poudre à reconstituer, ...\n",
       "24689                                    Biscuit pour bébé\n",
       "42501                            Poudre cacaotée pour bébé\n",
       "Name: alim_nom_fr, Length: 2807, dtype: object"
      ]
     },
     "execution_count": 9,
     "metadata": {},
     "output_type": "execute_result"
    }
   ],
   "source": [
    "produits['alim_nom_fr']"
   ]
  },
  {
   "cell_type": "code",
   "execution_count": 10,
   "metadata": {},
   "outputs": [],
   "source": [
    "# # essayons avec les autres colonnes\n",
    "# produits.e"
   ]
  },
  {
   "cell_type": "markdown",
   "metadata": {},
   "source": [
    "Nous avons une erreur car cela ne fonctionne que si le nom n'a pas d'espace.\n",
    "\n",
    "Dans ce cas il faut utiliser les crochets"
   ]
  },
  {
   "cell_type": "code",
   "execution_count": 11,
   "metadata": {},
   "outputs": [
    {
     "data": {
      "text/plain": [
       "alim_code\n",
       "25600    78,5\n",
       "25601    76,5\n",
       "25602    76,7\n",
       "25605    84,6\n",
       "25606      76\n",
       "         ... \n",
       "13166    78,8\n",
       "13167     2,2\n",
       "13168     1,8\n",
       "24689    3,46\n",
       "42501     1,2\n",
       "Name: Eau (g/100g), Length: 2807, dtype: object"
      ]
     },
     "execution_count": 11,
     "metadata": {},
     "output_type": "execute_result"
    }
   ],
   "source": [
    "produits['Eau_g/100g']"
   ]
  },
  {
   "cell_type": "markdown",
   "metadata": {},
   "source": [
    "Sélectionner la colonne vous donne accès à l'ensemble de la colonne, mais n'affichera qu'un aperçu. Sous la colonne, le nom de la colonne et le type de données (dtype) sont imprimés pour faciliter la consultation.\n",
    "\n",
    "Si vous voulez trouver l'emplacement de base d'une ou plusieurs colonnes en utilisant le nom de la colonne, utilisez la commande .get_loc()\n"
   ]
  },
  {
   "cell_type": "code",
   "execution_count": 13,
   "metadata": {},
   "outputs": [
    {
     "data": {
      "text/plain": [
       "1"
      ]
     },
     "execution_count": 13,
     "metadata": {},
     "output_type": "execute_result"
    }
   ],
   "source": [
    "produits.columns.get_loc('Eau (g/100g)')"
   ]
  },
  {
   "cell_type": "code",
   "execution_count": 14,
   "metadata": {},
   "outputs": [
    {
     "data": {
      "text/plain": [
       "pandas.core.series.Series"
      ]
     },
     "execution_count": 14,
     "metadata": {},
     "output_type": "execute_result"
    }
   ],
   "source": [
    "# Nous pouvons également avoir le type renvoyer\n",
    "type(produits['Eau (g/100g)'])"
   ]
  },
  {
   "cell_type": "code",
   "execution_count": null,
   "metadata": {},
   "outputs": [],
   "source": []
  }
 ],
 "metadata": {
  "kernelspec": {
   "display_name": "Python 3",
   "language": "python",
   "name": "python3"
  },
  "language_info": {
   "codemirror_mode": {
    "name": "ipython",
    "version": 3
   },
   "file_extension": ".py",
   "mimetype": "text/x-python",
   "name": "python",
   "nbconvert_exporter": "python",
   "pygments_lexer": "ipython3",
   "version": "3.9.5"
  }
 },
 "nbformat": 4,
 "nbformat_minor": 2
}
