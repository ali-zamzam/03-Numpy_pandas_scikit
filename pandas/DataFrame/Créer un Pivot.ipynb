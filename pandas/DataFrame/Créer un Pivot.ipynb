{
 "cells": [
  {
   "cell_type": "code",
   "execution_count": 1,
   "metadata": {},
   "outputs": [],
   "source": [
    "import pandas as pd\n",
    "import numpy as np"
   ]
  },
  {
   "cell_type": "code",
   "execution_count": 25,
   "metadata": {},
   "outputs": [
    {
     "data": {
      "text/html": [
       "<div>\n",
       "<style scoped>\n",
       "    .dataframe tbody tr th:only-of-type {\n",
       "        vertical-align: middle;\n",
       "    }\n",
       "\n",
       "    .dataframe tbody tr th {\n",
       "        vertical-align: top;\n",
       "    }\n",
       "\n",
       "    .dataframe thead th {\n",
       "        text-align: right;\n",
       "    }\n",
       "</style>\n",
       "<table border=\"1\" class=\"dataframe\">\n",
       "  <thead>\n",
       "    <tr style=\"text-align: right;\">\n",
       "      <th></th>\n",
       "      <th>Date</th>\n",
       "      <th>Region</th>\n",
       "      <th>Employé</th>\n",
       "      <th>Produit</th>\n",
       "      <th>Unité</th>\n",
       "      <th>Prix unitaire</th>\n",
       "      <th>Total</th>\n",
       "    </tr>\n",
       "  </thead>\n",
       "  <tbody>\n",
       "    <tr>\n",
       "      <th>0</th>\n",
       "      <td>2016-06-01</td>\n",
       "      <td>Est</td>\n",
       "      <td>Jean</td>\n",
       "      <td>Crayon</td>\n",
       "      <td>95</td>\n",
       "      <td>1.99</td>\n",
       "      <td>189.05</td>\n",
       "    </tr>\n",
       "    <tr>\n",
       "      <th>1</th>\n",
       "      <td>2016-06-01</td>\n",
       "      <td>Centre</td>\n",
       "      <td>jeanne</td>\n",
       "      <td>Classeur</td>\n",
       "      <td>50</td>\n",
       "      <td>19.99</td>\n",
       "      <td>999.5</td>\n",
       "    </tr>\n",
       "    <tr>\n",
       "      <th>2</th>\n",
       "      <td>2016-06-01</td>\n",
       "      <td>Centre</td>\n",
       "      <td>Gilles</td>\n",
       "      <td>Crayon</td>\n",
       "      <td>36</td>\n",
       "      <td>4.99</td>\n",
       "      <td>179.64</td>\n",
       "    </tr>\n",
       "    <tr>\n",
       "      <th>3</th>\n",
       "      <td>2016-06-01</td>\n",
       "      <td>Centre</td>\n",
       "      <td>Sorvino</td>\n",
       "      <td>Stylo</td>\n",
       "      <td>27</td>\n",
       "      <td>19.99</td>\n",
       "      <td>539.73</td>\n",
       "    </tr>\n",
       "    <tr>\n",
       "      <th>4</th>\n",
       "      <td>2016-06-01</td>\n",
       "      <td>Ouest</td>\n",
       "      <td>Kevin</td>\n",
       "      <td>Crayon</td>\n",
       "      <td>56</td>\n",
       "      <td>2.99</td>\n",
       "      <td>167.44</td>\n",
       "    </tr>\n",
       "  </tbody>\n",
       "</table>\n",
       "</div>"
      ],
      "text/plain": [
       "        Date  Region  Employé   Produit  Unité  Prix unitaire     Total\n",
       "0 2016-06-01     Est     Jean    Crayon     95           1.99   189.05 \n",
       "1 2016-06-01  Centre   jeanne  Classeur     50          19.99    999.5 \n",
       "2 2016-06-01  Centre   Gilles    Crayon     36           4.99   179.64 \n",
       "3 2016-06-01  Centre  Sorvino     Stylo     27          19.99   539.73 \n",
       "4 2016-06-01   Ouest    Kevin    Crayon     56           2.99   167.44 "
      ]
     },
     "execution_count": 25,
     "metadata": {},
     "output_type": "execute_result"
    }
   ],
   "source": [
    "df = pd.read_csv(\"pivot.csv\", sep=';', parse_dates=[\"Date\"])\n",
    "df.head()"
   ]
  },
  {
   "cell_type": "code",
   "execution_count": 18,
   "metadata": {},
   "outputs": [
    {
     "data": {
      "text/plain": [
       "Jean       8\n",
       "jeanne     8\n",
       "Kevin      8\n",
       "Sorvino    8\n",
       "Gilles     8\n",
       "Name: Employé, dtype: int64"
      ]
     },
     "execution_count": 18,
     "metadata": {},
     "output_type": "execute_result"
    }
   ],
   "source": [
    "df[\"Employé\"].value_counts()"
   ]
  },
  {
   "cell_type": "code",
   "execution_count": 26,
   "metadata": {},
   "outputs": [],
   "source": [
    "df[\"Employé\"] = df[\"Employé\"].astype(\"category\")"
   ]
  },
  {
   "cell_type": "code",
   "execution_count": 20,
   "metadata": {},
   "outputs": [
    {
     "name": "stdout",
     "output_type": "stream",
     "text": [
      "<class 'pandas.core.frame.DataFrame'>\n",
      "RangeIndex: 40 entries, 0 to 39\n",
      "Data columns (total 7 columns):\n",
      "Date             40 non-null datetime64[ns]\n",
      "Region           40 non-null object\n",
      "Employé          40 non-null category\n",
      "Produit          40 non-null object\n",
      "Unité            40 non-null int64\n",
      "Prix unitaire    40 non-null float64\n",
      "Total            40 non-null object\n",
      "dtypes: category(1), datetime64[ns](1), float64(1), int64(1), object(3)\n",
      "memory usage: 2.2+ KB\n"
     ]
    }
   ],
   "source": [
    "df.info()"
   ]
  },
  {
   "cell_type": "code",
   "execution_count": 27,
   "metadata": {},
   "outputs": [
    {
     "data": {
      "text/html": [
       "<div>\n",
       "<style scoped>\n",
       "    .dataframe tbody tr th:only-of-type {\n",
       "        vertical-align: middle;\n",
       "    }\n",
       "\n",
       "    .dataframe tbody tr th {\n",
       "        vertical-align: top;\n",
       "    }\n",
       "\n",
       "    .dataframe thead th {\n",
       "        text-align: right;\n",
       "    }\n",
       "</style>\n",
       "<table border=\"1\" class=\"dataframe\">\n",
       "  <thead>\n",
       "    <tr style=\"text-align: right;\">\n",
       "      <th>Employé</th>\n",
       "      <th>Gilles</th>\n",
       "      <th>Jean</th>\n",
       "      <th>Kevin</th>\n",
       "      <th>Sorvino</th>\n",
       "      <th>jeanne</th>\n",
       "    </tr>\n",
       "    <tr>\n",
       "      <th>Date</th>\n",
       "      <th></th>\n",
       "      <th></th>\n",
       "      <th></th>\n",
       "      <th></th>\n",
       "      <th></th>\n",
       "    </tr>\n",
       "  </thead>\n",
       "  <tbody>\n",
       "    <tr>\n",
       "      <th>2016-06-01</th>\n",
       "      <td>179.64</td>\n",
       "      <td>189.05</td>\n",
       "      <td>167.44</td>\n",
       "      <td>539.73</td>\n",
       "      <td>999.5</td>\n",
       "    </tr>\n",
       "    <tr>\n",
       "      <th>2016-07-07</th>\n",
       "      <td>449.1</td>\n",
       "      <td>299.4</td>\n",
       "      <td>539.4</td>\n",
       "      <td>63.68</td>\n",
       "      <td>149.25</td>\n",
       "    </tr>\n",
       "    <tr>\n",
       "      <th>2016-07-13</th>\n",
       "      <td>151.24</td>\n",
       "      <td>825.00</td>\n",
       "      <td>18.06</td>\n",
       "      <td>1139.43</td>\n",
       "      <td>9.03</td>\n",
       "    </tr>\n",
       "    <tr>\n",
       "      <th>2016-08-07</th>\n",
       "      <td>1619.19</td>\n",
       "      <td>449.1</td>\n",
       "      <td>250.00</td>\n",
       "      <td>174.65</td>\n",
       "      <td>57.71</td>\n",
       "    </tr>\n",
       "    <tr>\n",
       "      <th>2016-09-07</th>\n",
       "      <td>575.36</td>\n",
       "      <td>255.84</td>\n",
       "      <td>479.04</td>\n",
       "      <td>299.85</td>\n",
       "      <td>251.72</td>\n",
       "    </tr>\n",
       "    <tr>\n",
       "      <th>2016-10-07</th>\n",
       "      <td>413.54</td>\n",
       "      <td>86.43</td>\n",
       "      <td>19.96</td>\n",
       "      <td>1 305.00</td>\n",
       "      <td>1183.26</td>\n",
       "    </tr>\n",
       "    <tr>\n",
       "      <th>2016-11-07</th>\n",
       "      <td>131.34</td>\n",
       "      <td>139.93</td>\n",
       "      <td>68.37</td>\n",
       "      <td>479.04</td>\n",
       "      <td>249.5</td>\n",
       "    </tr>\n",
       "    <tr>\n",
       "      <th>2016-12-07</th>\n",
       "      <td>309.38</td>\n",
       "      <td>719.2</td>\n",
       "      <td>1005.9</td>\n",
       "      <td>686.95</td>\n",
       "      <td>625.00</td>\n",
       "    </tr>\n",
       "  </tbody>\n",
       "</table>\n",
       "</div>"
      ],
      "text/plain": [
       "Employé        Gilles        Jean       Kevin       Sorvino      jeanne\n",
       "Date                                                                   \n",
       "2016-06-01    179.64      189.05      167.44        539.73       999.5 \n",
       "2016-07-07     449.1       299.4       539.4         63.68      149.25 \n",
       "2016-07-13    151.24    825.00         18.06       1139.43        9.03 \n",
       "2016-08-07   1619.19       449.1    250.00          174.65       57.71 \n",
       "2016-09-07    575.36      255.84      479.04        299.85      251.72 \n",
       "2016-10-07    413.54       86.43       19.96    1 305.00       1183.26 \n",
       "2016-11-07    131.34      139.93       68.37        479.04       249.5 \n",
       "2016-12-07    309.38       719.2      1005.9        686.95    625.00   "
      ]
     },
     "execution_count": 27,
     "metadata": {},
     "output_type": "execute_result"
    }
   ],
   "source": [
    "df.pivot(index=\"Date\", columns = \"Employé\", values=\"Total\")"
   ]
  },
  {
   "cell_type": "code",
   "execution_count": null,
   "metadata": {},
   "outputs": [],
   "source": []
  }
 ],
 "metadata": {
  "kernelspec": {
   "display_name": "Python 3",
   "language": "python",
   "name": "python3"
  },
  "language_info": {
   "codemirror_mode": {
    "name": "ipython",
    "version": 3
   },
   "file_extension": ".py",
   "mimetype": "text/x-python",
   "name": "python",
   "nbconvert_exporter": "python",
   "pygments_lexer": "ipython3",
   "version": "3.6.5"
  }
 },
 "nbformat": 4,
 "nbformat_minor": 2
}
