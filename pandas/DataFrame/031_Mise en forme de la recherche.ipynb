{
 "cells": [
  {
   "cell_type": "code",
   "execution_count": 1,
   "metadata": {},
   "outputs": [],
   "source": [
    "import pandas as pd\n",
    "import numpy as np"
   ]
  },
  {
   "cell_type": "code",
   "execution_count": 2,
   "metadata": {},
   "outputs": [],
   "source": [
    "exam_data  = {'nom': ['Anne','Anne', 'Alex', 'catherine', 'Jean', 'Emillie', 'Emilie', 'Matieu', 'Laura', 'Kevin', 'Jonas'],\n",
    "        'note': [12.5, 12.5,9, 16.5, np.nan, 9, 20, 14.5, np.nan, 8, 19],\n",
    "              'moyenne' : [12.0, 12.0,9, 16.0, 5.0, 9.0, 20.0, 14.0, 15.0, 8.0, 19.0],\n",
    "        'qualification': ['yes', 'yes','no', 'yes', 'no', 'no', 'yes', 'yes', 'no', 'no', 'yes'],\n",
    "              'date': ['2005-05-30', '2005-05-30','2007-08-12', '2012-08-10', '2005-06-15', '2005-06-13', '2005-01-07', '2007-04-10', '2005-05-19', '2006-07-04', '2006-09-28'],\n",
    "         'profession': ['boulanger', 'boulanger','chanteur', 'boulanger', 'cuisinier', 'conducteur', 'cuisinier', 'livreur', 'pilote de ligne', 'mécanicien', np.NAN]}\n",
    "labels = ['a', 'k','b', 'c', 'd', 'e', 'f', 'g', 'h', 'i', 'j']\n",
    "df = pd.DataFrame(exam_data , index=labels)"
   ]
  },
  {
   "cell_type": "code",
   "execution_count": 3,
   "metadata": {},
   "outputs": [
    {
     "data": {
      "text/html": [
       "<div>\n",
       "<style scoped>\n",
       "    .dataframe tbody tr th:only-of-type {\n",
       "        vertical-align: middle;\n",
       "    }\n",
       "\n",
       "    .dataframe tbody tr th {\n",
       "        vertical-align: top;\n",
       "    }\n",
       "\n",
       "    .dataframe thead th {\n",
       "        text-align: right;\n",
       "    }\n",
       "</style>\n",
       "<table border=\"1\" class=\"dataframe\">\n",
       "  <thead>\n",
       "    <tr style=\"text-align: right;\">\n",
       "      <th></th>\n",
       "      <th>nom</th>\n",
       "      <th>note</th>\n",
       "      <th>moyenne</th>\n",
       "      <th>qualification</th>\n",
       "      <th>date</th>\n",
       "      <th>profession</th>\n",
       "    </tr>\n",
       "  </thead>\n",
       "  <tbody>\n",
       "    <tr>\n",
       "      <th>a</th>\n",
       "      <td>Anne</td>\n",
       "      <td>12.5</td>\n",
       "      <td>12.0</td>\n",
       "      <td>yes</td>\n",
       "      <td>2005-05-30</td>\n",
       "      <td>boulanger</td>\n",
       "    </tr>\n",
       "    <tr>\n",
       "      <th>k</th>\n",
       "      <td>Anne</td>\n",
       "      <td>12.5</td>\n",
       "      <td>12.0</td>\n",
       "      <td>yes</td>\n",
       "      <td>2005-05-30</td>\n",
       "      <td>boulanger</td>\n",
       "    </tr>\n",
       "    <tr>\n",
       "      <th>b</th>\n",
       "      <td>Alex</td>\n",
       "      <td>9.0</td>\n",
       "      <td>9.0</td>\n",
       "      <td>no</td>\n",
       "      <td>2007-08-12</td>\n",
       "      <td>chanteur</td>\n",
       "    </tr>\n",
       "    <tr>\n",
       "      <th>c</th>\n",
       "      <td>catherine</td>\n",
       "      <td>16.5</td>\n",
       "      <td>16.0</td>\n",
       "      <td>yes</td>\n",
       "      <td>2012-08-10</td>\n",
       "      <td>boulanger</td>\n",
       "    </tr>\n",
       "    <tr>\n",
       "      <th>d</th>\n",
       "      <td>Jean</td>\n",
       "      <td>NaN</td>\n",
       "      <td>5.0</td>\n",
       "      <td>no</td>\n",
       "      <td>2005-06-15</td>\n",
       "      <td>cuisinier</td>\n",
       "    </tr>\n",
       "    <tr>\n",
       "      <th>e</th>\n",
       "      <td>Emillie</td>\n",
       "      <td>9.0</td>\n",
       "      <td>9.0</td>\n",
       "      <td>no</td>\n",
       "      <td>2005-06-13</td>\n",
       "      <td>conducteur</td>\n",
       "    </tr>\n",
       "    <tr>\n",
       "      <th>f</th>\n",
       "      <td>Emilie</td>\n",
       "      <td>20.0</td>\n",
       "      <td>20.0</td>\n",
       "      <td>yes</td>\n",
       "      <td>2005-01-07</td>\n",
       "      <td>cuisinier</td>\n",
       "    </tr>\n",
       "    <tr>\n",
       "      <th>g</th>\n",
       "      <td>Matieu</td>\n",
       "      <td>14.5</td>\n",
       "      <td>14.0</td>\n",
       "      <td>yes</td>\n",
       "      <td>2007-04-10</td>\n",
       "      <td>livreur</td>\n",
       "    </tr>\n",
       "    <tr>\n",
       "      <th>h</th>\n",
       "      <td>Laura</td>\n",
       "      <td>NaN</td>\n",
       "      <td>15.0</td>\n",
       "      <td>no</td>\n",
       "      <td>2005-05-19</td>\n",
       "      <td>pilote de ligne</td>\n",
       "    </tr>\n",
       "    <tr>\n",
       "      <th>i</th>\n",
       "      <td>Kevin</td>\n",
       "      <td>8.0</td>\n",
       "      <td>8.0</td>\n",
       "      <td>no</td>\n",
       "      <td>2006-07-04</td>\n",
       "      <td>mécanicien</td>\n",
       "    </tr>\n",
       "    <tr>\n",
       "      <th>j</th>\n",
       "      <td>Jonas</td>\n",
       "      <td>19.0</td>\n",
       "      <td>19.0</td>\n",
       "      <td>yes</td>\n",
       "      <td>2006-09-28</td>\n",
       "      <td>NaN</td>\n",
       "    </tr>\n",
       "  </tbody>\n",
       "</table>\n",
       "</div>"
      ],
      "text/plain": [
       "         nom  note  moyenne qualification        date       profession\n",
       "a       Anne  12.5     12.0           yes  2005-05-30        boulanger\n",
       "k       Anne  12.5     12.0           yes  2005-05-30        boulanger\n",
       "b       Alex   9.0      9.0            no  2007-08-12         chanteur\n",
       "c  catherine  16.5     16.0           yes  2012-08-10        boulanger\n",
       "d       Jean   NaN      5.0            no  2005-06-15        cuisinier\n",
       "e    Emillie   9.0      9.0            no  2005-06-13       conducteur\n",
       "f     Emilie  20.0     20.0           yes  2005-01-07        cuisinier\n",
       "g     Matieu  14.5     14.0           yes  2007-04-10          livreur\n",
       "h      Laura   NaN     15.0            no  2005-05-19  pilote de ligne\n",
       "i      Kevin   8.0      8.0            no  2006-07-04       mécanicien\n",
       "j      Jonas  19.0     19.0           yes  2006-09-28              NaN"
      ]
     },
     "execution_count": 3,
     "metadata": {},
     "output_type": "execute_result"
    }
   ],
   "source": [
    "df\n"
   ]
  },
  {
   "cell_type": "code",
   "execution_count": 6,
   "metadata": {},
   "outputs": [],
   "source": [
    "df.set_index(\"nom\", inplace=True)"
   ]
  },
  {
   "cell_type": "code",
   "execution_count": 7,
   "metadata": {},
   "outputs": [
    {
     "data": {
      "text/plain": [
       "note                      9\n",
       "moyenne                   9\n",
       "qualification            no\n",
       "date             2007-08-12\n",
       "profession         chanteur\n",
       "Name: Alex, dtype: object"
      ]
     },
     "execution_count": 7,
     "metadata": {},
     "output_type": "execute_result"
    }
   ],
   "source": [
    "df.loc[\"Alex\"]"
   ]
  },
  {
   "cell_type": "code",
   "execution_count": 8,
   "metadata": {},
   "outputs": [
    {
     "data": {
      "text/plain": [
       "profession       chanteur\n",
       "qualification          no\n",
       "Name: Alex, dtype: object"
      ]
     },
     "execution_count": 8,
     "metadata": {},
     "output_type": "execute_result"
    }
   ],
   "source": [
    "df.loc[\"Alex\", [\"profession\", \"qualification\"]]"
   ]
  },
  {
   "cell_type": "code",
   "execution_count": 10,
   "metadata": {},
   "outputs": [
    {
     "data": {
      "text/plain": [
       "qualification          no\n",
       "profession       chanteur\n",
       "Name: Alex, dtype: object"
      ]
     },
     "execution_count": 10,
     "metadata": {},
     "output_type": "execute_result"
    }
   ],
   "source": [
    "df.iloc[2, [2, 4]]"
   ]
  },
  {
   "cell_type": "code",
   "execution_count": null,
   "metadata": {},
   "outputs": [],
   "source": []
  }
 ],
 "metadata": {
  "kernelspec": {
   "display_name": "Python 3",
   "language": "python",
   "name": "python3"
  },
  "language_info": {
   "codemirror_mode": {
    "name": "ipython",
    "version": 3
   },
   "file_extension": ".py",
   "mimetype": "text/x-python",
   "name": "python",
   "nbconvert_exporter": "python",
   "pygments_lexer": "ipython3",
   "version": "3.9.5"
  }
 },
 "nbformat": 4,
 "nbformat_minor": 2
}
