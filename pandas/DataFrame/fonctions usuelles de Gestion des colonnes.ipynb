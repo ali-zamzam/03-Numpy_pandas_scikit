{
 "cells": [
  {
   "cell_type": "code",
   "execution_count": 1,
   "metadata": {},
   "outputs": [],
   "source": [
    "import numpy as np \n",
    "import pandas as pd\n",
    "\n",
    "pd.set_option('display.notebook_repr_html', False)\n",
    "pd.set_option('display.max_columns', 10)\n",
    "pd.set_option('display.max_rows', 10)"
   ]
  },
  {
   "cell_type": "markdown",
   "metadata": {},
   "source": [
    "On peut donner un nom à nos colonnes afin de les manipuler plus facilement."
   ]
  },
  {
   "cell_type": "code",
   "execution_count": 2,
   "metadata": {},
   "outputs": [
    {
     "data": {
      "text/plain": [
       "   col1  col2  col3  col4  col5\n",
       "0    10    11    12    13    14\n",
       "1    20    21    22    23    24"
      ]
     },
     "execution_count": 2,
     "metadata": {},
     "output_type": "execute_result"
    }
   ],
   "source": [
    "dfa = pd.DataFrame(np.array([[10, 11, 12, 13, 14], [20, 21, 22, 23, 24]]),columns=['col1', 'col2', 'col3', 'col4', 'col5'])\n",
    "dfa\n"
   ]
  },
  {
   "cell_type": "markdown",
   "metadata": {},
   "source": [
    "Vous pouvez récupérer le nom des colonnes de votre dataFrame en utilisant *.columns*"
   ]
  },
  {
   "cell_type": "code",
   "execution_count": 3,
   "metadata": {},
   "outputs": [
    {
     "data": {
      "text/plain": [
       "Index(['col1', 'col2', 'col3', 'col4', 'col5'], dtype='object')"
      ]
     },
     "execution_count": 3,
     "metadata": {},
     "output_type": "execute_result"
    }
   ],
   "source": [
    "dfa.columns"
   ]
  },
  {
   "cell_type": "code",
   "execution_count": 4,
   "metadata": {},
   "outputs": [
    {
     "data": {
      "text/plain": [
       "'col4'"
      ]
     },
     "execution_count": 4,
     "metadata": {},
     "output_type": "execute_result"
    }
   ],
   "source": [
    "# Pour connaître le nom d'une colonne en particulier\n",
    "dfa.columns[3]\n"
   ]
  },
  {
   "cell_type": "code",
   "execution_count": 5,
   "metadata": {},
   "outputs": [
    {
     "data": {
      "text/plain": [
       "         nom  note qualification\n",
       "a       Anne  12.5           yes\n",
       "b       Alex   9.0            no\n",
       "c  catherine  16.5           yes\n",
       "d       Jean   NaN            no\n",
       "e    Emillie   9.0            no\n",
       "f     Michel  20.0           yes\n",
       "g     Matieu  14.5           yes\n",
       "h      Laura   NaN            no\n",
       "i      Kevin   8.0            no\n",
       "j      Jonas  19.0           yes"
      ]
     },
     "execution_count": 5,
     "metadata": {},
     "output_type": "execute_result"
    }
   ],
   "source": [
    "#Création d'un DataFrame complet\n",
    "# On reprend notre ancien df\n",
    "exam_data  = {'nom': ['Anne', 'Alex', 'catherine', 'Jean', 'Emillie', 'Michel', 'Matieu', 'Laura', 'Kevin', 'Jonas'],\n",
    "        'note': [12.5, 9, 16.5, np.nan, 9, 20, 14.5, np.nan, 8, 19],\n",
    "        'qualification': ['oui', 'non', 'oui', 'non', 'non', 'oui', 'oui', 'non', 'non', 'oui']}\n",
    "labels = ['a', 'b', 'c', 'd', 'e', 'f', 'g', 'h', 'i', 'j']\n",
    "df = pd.DataFrame(exam_data , index=labels)\n",
    "df"
   ]
  },
  {
   "cell_type": "code",
   "execution_count": 6,
   "metadata": {},
   "outputs": [
    {
     "name": "stdout",
     "output_type": "stream",
     "text": [
      "Index(['a', 'b', 'c', 'd', 'e', 'f', 'g', 'h', 'i', 'j'], dtype='object')\n",
      "Index(['nom', 'note', 'qualification'], dtype='object')\n",
      "[['Anne' 12.5 'yes']\n",
      " ['Alex' 9.0 'no']\n",
      " ['catherine' 16.5 'yes']\n",
      " ['Jean' nan 'no']\n",
      " ['Emillie' 9.0 'no']\n",
      " ['Michel' 20.0 'yes']\n",
      " ['Matieu' 14.5 'yes']\n",
      " ['Laura' nan 'no']\n",
      " ['Kevin' 8.0 'no']\n",
      " ['Jonas' 19.0 'yes']]\n"
     ]
    }
   ],
   "source": [
    "index = df.index\n",
    "colonne = df.columns\n",
    "data = df.values\n",
    "\n",
    "# Liste des index\n",
    "print(index)\n",
    "# Liste des colonnes\n",
    "print(colonne)\n",
    "# Listes des valeurs\n",
    "print(data)\n"
   ]
  },
  {
   "cell_type": "code",
   "execution_count": 7,
   "metadata": {},
   "outputs": [
    {
     "name": "stdout",
     "output_type": "stream",
     "text": [
      "['a' 'b' 'c' 'd' 'e' 'f' 'g' 'h' 'i' 'j']\n",
      "['nom' 'note' 'qualification']\n"
     ]
    }
   ],
   "source": [
    "# Vous pouvez aussi récupérer directement les infos de cette manière\n",
    "print(index.values)\n",
    "print(colonne.values)\n"
   ]
  },
  {
   "cell_type": "code",
   "execution_count": null,
   "metadata": {},
   "outputs": [],
   "source": []
  }
 ],
 "metadata": {
  "kernelspec": {
   "display_name": "Python 3",
   "language": "python",
   "name": "python3"
  },
  "language_info": {
   "codemirror_mode": {
    "name": "ipython",
    "version": 3
   },
   "file_extension": ".py",
   "mimetype": "text/x-python",
   "name": "python",
   "nbconvert_exporter": "python",
   "pygments_lexer": "ipython3",
   "version": "3.6.5"
  }
 },
 "nbformat": 4,
 "nbformat_minor": 2
}
