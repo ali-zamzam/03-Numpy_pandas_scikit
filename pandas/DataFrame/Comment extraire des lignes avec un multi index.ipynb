{
 "cells": [
  {
   "cell_type": "code",
   "execution_count": 1,
   "metadata": {},
   "outputs": [],
   "source": [
    "import pandas as pd\n",
    "import numpy as np"
   ]
  },
  {
   "cell_type": "code",
   "execution_count": 3,
   "metadata": {},
   "outputs": [
    {
     "data": {
      "text/html": [
       "<div>\n",
       "<style scoped>\n",
       "    .dataframe tbody tr th:only-of-type {\n",
       "        vertical-align: middle;\n",
       "    }\n",
       "\n",
       "    .dataframe tbody tr th {\n",
       "        vertical-align: top;\n",
       "    }\n",
       "\n",
       "    .dataframe thead th {\n",
       "        text-align: right;\n",
       "    }\n",
       "</style>\n",
       "<table border=\"1\" class=\"dataframe\">\n",
       "  <thead>\n",
       "    <tr style=\"text-align: right;\">\n",
       "      <th></th>\n",
       "      <th></th>\n",
       "      <th>nom</th>\n",
       "      <th>note</th>\n",
       "      <th>moyenne</th>\n",
       "      <th>salaire horaire</th>\n",
       "    </tr>\n",
       "    <tr>\n",
       "      <th>qualification</th>\n",
       "      <th>appreciations</th>\n",
       "      <th></th>\n",
       "      <th></th>\n",
       "      <th></th>\n",
       "      <th></th>\n",
       "    </tr>\n",
       "  </thead>\n",
       "  <tbody>\n",
       "    <tr>\n",
       "      <th rowspan=\"5\" valign=\"top\">yes</th>\n",
       "      <th>besoin de soutien</th>\n",
       "      <td>Jonas marin</td>\n",
       "      <td>19.0</td>\n",
       "      <td>14.30</td>\n",
       "      <td>14,3 €</td>\n",
       "    </tr>\n",
       "    <tr>\n",
       "      <th>correct</th>\n",
       "      <td>Anne Dubrueil</td>\n",
       "      <td>12.5</td>\n",
       "      <td>15.00</td>\n",
       "      <td>1000 €</td>\n",
       "    </tr>\n",
       "    <tr>\n",
       "      <th>correct</th>\n",
       "      <td>catherine Falet</td>\n",
       "      <td>16.5</td>\n",
       "      <td>16.50</td>\n",
       "      <td>16,5 €</td>\n",
       "    </tr>\n",
       "    <tr>\n",
       "      <th>neutre</th>\n",
       "      <td>Michel peche</td>\n",
       "      <td>20.0</td>\n",
       "      <td>17.50</td>\n",
       "      <td>17,5 €</td>\n",
       "    </tr>\n",
       "    <tr>\n",
       "      <th>très bien</th>\n",
       "      <td>Matieu zilo</td>\n",
       "      <td>14.5</td>\n",
       "      <td>11.00</td>\n",
       "      <td>11,0 €</td>\n",
       "    </tr>\n",
       "    <tr>\n",
       "      <th rowspan=\"5\" valign=\"top\">no</th>\n",
       "      <th>besoin de soutien</th>\n",
       "      <td>Laura ingals</td>\n",
       "      <td>NaN</td>\n",
       "      <td>13.80</td>\n",
       "      <td>13,8 €</td>\n",
       "    </tr>\n",
       "    <tr>\n",
       "      <th>excellent</th>\n",
       "      <td>Emillie wagner</td>\n",
       "      <td>9.0</td>\n",
       "      <td>11.25</td>\n",
       "      <td>11,25 €</td>\n",
       "    </tr>\n",
       "    <tr>\n",
       "      <th>neutre</th>\n",
       "      <td>Jean fontaine</td>\n",
       "      <td>NaN</td>\n",
       "      <td>9.10</td>\n",
       "      <td>9,1 €</td>\n",
       "    </tr>\n",
       "    <tr>\n",
       "      <th>à suivre</th>\n",
       "      <td>Alex rien</td>\n",
       "      <td>20.0</td>\n",
       "      <td>18.00</td>\n",
       "      <td>18 €</td>\n",
       "    </tr>\n",
       "    <tr>\n",
       "      <th>à suivre</th>\n",
       "      <td>Kevin soipe</td>\n",
       "      <td>8.0</td>\n",
       "      <td>7.60</td>\n",
       "      <td>7,6 €</td>\n",
       "    </tr>\n",
       "  </tbody>\n",
       "</table>\n",
       "</div>"
      ],
      "text/plain": [
       "                                             nom  note  moyenne  \\\n",
       "qualification appreciations                                       \n",
       "yes           besoin de soutien      Jonas marin  19.0    14.30   \n",
       "              correct              Anne Dubrueil  12.5    15.00   \n",
       "              correct            catherine Falet  16.5    16.50   \n",
       "              neutre                Michel peche  20.0    17.50   \n",
       "              très bien              Matieu zilo  14.5    11.00   \n",
       "no            besoin de soutien     Laura ingals   NaN    13.80   \n",
       "              excellent           Emillie wagner   9.0    11.25   \n",
       "              neutre               Jean fontaine   NaN     9.10   \n",
       "              à suivre                Alex rien   20.0    18.00   \n",
       "              à suivre               Kevin soipe   8.0     7.60   \n",
       "\n",
       "                                salaire horaire  \n",
       "qualification appreciations                      \n",
       "yes           besoin de soutien          14,3 €  \n",
       "              correct                    1000 €  \n",
       "              correct                    16,5 €  \n",
       "              neutre                     17,5 €  \n",
       "              très bien                  11,0 €  \n",
       "no            besoin de soutien          13,8 €  \n",
       "              excellent                 11,25 €  \n",
       "              neutre                      9,1 €  \n",
       "              à suivre                     18 €  \n",
       "              à suivre                    7,6 €  "
      ]
     },
     "execution_count": 3,
     "metadata": {},
     "output_type": "execute_result"
    }
   ],
   "source": [
    "exam_data  = {'nom': ['Anne Dubrueil', 'Alex rien ', 'catherine Falet', 'Jean fontaine', 'Emillie wagner', 'Michel peche', 'Matieu zilo', 'Laura ingals', 'Kevin soipe', 'Jonas marin'],\n",
    "        'note': [12.5, 20, 16.5, np.nan, 9, 20, 14.5, np.nan, 8, 19],\n",
    "         'moyenne': [15, 18, 16.5, 9.1, 11.25, 17.5, 11.0, 13.8, 7.6, 14.3],\n",
    "        'qualification': ['yes', 'no', 'yes', 'no', 'no', 'yes', 'yes', 'no', 'no', 'yes'],\n",
    "               'salaire horaire': [\" 1000 €\", \"18 €\", \"16,5 €\", \"9,1 €\", \"11,25 €\", \"17,5 €\", \"11,0 €\", \"13,8 €\", \"7,6 €\", \"14,3 €\"],\n",
    "         'appreciations': ['correct', 'à suivre', 'correct', 'neutre', 'excellent', 'neutre', 'très bien', 'besoin de soutien', 'à suivre', 'besoin de soutien']\n",
    "              \n",
    "        }\n",
    "labels = ['a', 'b', 'c', 'd', 'e', 'f', 'g', 'h', 'i', 'j']\n",
    "df = pd.DataFrame(exam_data , index=labels)\n",
    "df.set_index(keys=[\"qualification\", \"appreciations\"], inplace=True)\n",
    "df.sort_index(ascending=[False,True], inplace=True)\n",
    "df"
   ]
  },
  {
   "cell_type": "code",
   "execution_count": 5,
   "metadata": {},
   "outputs": [
    {
     "data": {
      "text/html": [
       "<div>\n",
       "<style scoped>\n",
       "    .dataframe tbody tr th:only-of-type {\n",
       "        vertical-align: middle;\n",
       "    }\n",
       "\n",
       "    .dataframe tbody tr th {\n",
       "        vertical-align: top;\n",
       "    }\n",
       "\n",
       "    .dataframe thead th {\n",
       "        text-align: right;\n",
       "    }\n",
       "</style>\n",
       "<table border=\"1\" class=\"dataframe\">\n",
       "  <thead>\n",
       "    <tr style=\"text-align: right;\">\n",
       "      <th></th>\n",
       "      <th>nom</th>\n",
       "      <th>note</th>\n",
       "      <th>moyenne</th>\n",
       "      <th>salaire horaire</th>\n",
       "    </tr>\n",
       "    <tr>\n",
       "      <th>appreciations</th>\n",
       "      <th></th>\n",
       "      <th></th>\n",
       "      <th></th>\n",
       "      <th></th>\n",
       "    </tr>\n",
       "  </thead>\n",
       "  <tbody>\n",
       "    <tr>\n",
       "      <th>besoin de soutien</th>\n",
       "      <td>Laura ingals</td>\n",
       "      <td>NaN</td>\n",
       "      <td>13.80</td>\n",
       "      <td>13,8 €</td>\n",
       "    </tr>\n",
       "    <tr>\n",
       "      <th>excellent</th>\n",
       "      <td>Emillie wagner</td>\n",
       "      <td>9.0</td>\n",
       "      <td>11.25</td>\n",
       "      <td>11,25 €</td>\n",
       "    </tr>\n",
       "    <tr>\n",
       "      <th>neutre</th>\n",
       "      <td>Jean fontaine</td>\n",
       "      <td>NaN</td>\n",
       "      <td>9.10</td>\n",
       "      <td>9,1 €</td>\n",
       "    </tr>\n",
       "    <tr>\n",
       "      <th>à suivre</th>\n",
       "      <td>Alex rien</td>\n",
       "      <td>20.0</td>\n",
       "      <td>18.00</td>\n",
       "      <td>18 €</td>\n",
       "    </tr>\n",
       "    <tr>\n",
       "      <th>à suivre</th>\n",
       "      <td>Kevin soipe</td>\n",
       "      <td>8.0</td>\n",
       "      <td>7.60</td>\n",
       "      <td>7,6 €</td>\n",
       "    </tr>\n",
       "  </tbody>\n",
       "</table>\n",
       "</div>"
      ],
      "text/plain": [
       "                              nom  note  moyenne salaire horaire\n",
       "appreciations                                                   \n",
       "besoin de soutien    Laura ingals   NaN    13.80          13,8 €\n",
       "excellent          Emillie wagner   9.0    11.25         11,25 €\n",
       "neutre              Jean fontaine   NaN     9.10           9,1 €\n",
       "à suivre               Alex rien   20.0    18.00            18 €\n",
       "à suivre              Kevin soipe   8.0     7.60           7,6 €"
      ]
     },
     "execution_count": 5,
     "metadata": {},
     "output_type": "execute_result"
    }
   ],
   "source": [
    "df.loc[\"no\"]"
   ]
  },
  {
   "cell_type": "code",
   "execution_count": 7,
   "metadata": {},
   "outputs": [
    {
     "name": "stderr",
     "output_type": "stream",
     "text": [
      "e:\\Anaconda3\\lib\\site-packages\\ipykernel_launcher.py:1: PerformanceWarning: indexing past lexsort depth may impact performance.\n",
      "  \"\"\"Entry point for launching an IPython kernel.\n"
     ]
    },
    {
     "data": {
      "text/html": [
       "<div>\n",
       "<style scoped>\n",
       "    .dataframe tbody tr th:only-of-type {\n",
       "        vertical-align: middle;\n",
       "    }\n",
       "\n",
       "    .dataframe tbody tr th {\n",
       "        vertical-align: top;\n",
       "    }\n",
       "\n",
       "    .dataframe thead th {\n",
       "        text-align: right;\n",
       "    }\n",
       "</style>\n",
       "<table border=\"1\" class=\"dataframe\">\n",
       "  <thead>\n",
       "    <tr style=\"text-align: right;\">\n",
       "      <th></th>\n",
       "      <th></th>\n",
       "      <th>nom</th>\n",
       "      <th>note</th>\n",
       "      <th>moyenne</th>\n",
       "      <th>salaire horaire</th>\n",
       "    </tr>\n",
       "    <tr>\n",
       "      <th>qualification</th>\n",
       "      <th>appreciations</th>\n",
       "      <th></th>\n",
       "      <th></th>\n",
       "      <th></th>\n",
       "      <th></th>\n",
       "    </tr>\n",
       "  </thead>\n",
       "  <tbody>\n",
       "    <tr>\n",
       "      <th>no</th>\n",
       "      <th>neutre</th>\n",
       "      <td>Jean fontaine</td>\n",
       "      <td>NaN</td>\n",
       "      <td>9.1</td>\n",
       "      <td>9,1 €</td>\n",
       "    </tr>\n",
       "  </tbody>\n",
       "</table>\n",
       "</div>"
      ],
      "text/plain": [
       "                                       nom  note  moyenne salaire horaire\n",
       "qualification appreciations                                              \n",
       "no            neutre         Jean fontaine   NaN      9.1           9,1 €"
      ]
     },
     "execution_count": 7,
     "metadata": {},
     "output_type": "execute_result"
    }
   ],
   "source": [
    "df.loc[(\"no\",\"neutre\")]"
   ]
  },
  {
   "cell_type": "code",
   "execution_count": 8,
   "metadata": {},
   "outputs": [
    {
     "name": "stderr",
     "output_type": "stream",
     "text": [
      "e:\\Anaconda3\\lib\\site-packages\\pandas\\core\\indexing.py:1472: PerformanceWarning: indexing past lexsort depth may impact performance.\n",
      "  return self._getitem_tuple(key)\n"
     ]
    },
    {
     "data": {
      "text/plain": [
       "qualification  appreciations\n",
       "no             neutre           9.1\n",
       "Name: moyenne, dtype: float64"
      ]
     },
     "execution_count": 8,
     "metadata": {},
     "output_type": "execute_result"
    }
   ],
   "source": [
    "df.loc[(\"no\",\"neutre\"), \"moyenne\"]"
   ]
  },
  {
   "cell_type": "code",
   "execution_count": 11,
   "metadata": {},
   "outputs": [
    {
     "data": {
      "text/plain": [
       "15.0"
      ]
     },
     "execution_count": 11,
     "metadata": {},
     "output_type": "execute_result"
    }
   ],
   "source": [
    "# ne va pas tenir compte des multi index\n",
    "df.iloc[1,2]"
   ]
  },
  {
   "cell_type": "code",
   "execution_count": null,
   "metadata": {},
   "outputs": [],
   "source": []
  }
 ],
 "metadata": {
  "kernelspec": {
   "display_name": "Python 3",
   "language": "python",
   "name": "python3"
  },
  "language_info": {
   "codemirror_mode": {
    "name": "ipython",
    "version": 3
   },
   "file_extension": ".py",
   "mimetype": "text/x-python",
   "name": "python",
   "nbconvert_exporter": "python",
   "pygments_lexer": "ipython3",
   "version": "3.6.5"
  }
 },
 "nbformat": 4,
 "nbformat_minor": 2
}
