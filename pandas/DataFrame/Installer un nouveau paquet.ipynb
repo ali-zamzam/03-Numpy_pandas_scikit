{
 "cells": [
  {
   "cell_type": "code",
   "execution_count": 1,
   "metadata": {},
   "outputs": [
    {
     "name": "stdout",
     "output_type": "stream",
     "text": [
      "Collecting pandas-datareader\n",
      "  Downloading https://files.pythonhosted.org/packages/be/76/639c60ede26458dadf76bacaa9cbcc76f8cc5082fb2b2d90d0a90c699d36/pandas_datareader-0.6.0-py2.py3-none-any.whl (103kB)\n",
      "Collecting requests-ftp (from pandas-datareader)\n",
      "  Downloading https://files.pythonhosted.org/packages/3d/ca/14b2ad1e93b5195eeaf56b86b7ecfd5ea2d5754a68d17aeb1e5b9f95b3cf/requests-ftp-0.3.1.tar.gz\n",
      "Collecting requests-file (from pandas-datareader)\n",
      "  Downloading https://files.pythonhosted.org/packages/23/9c/6e63c23c39e53d3df41c77a3d05a49a42c4e1383a6d2a5e3233161b89dbf/requests_file-1.4.3-py2.py3-none-any.whl\n",
      "Requirement already satisfied: wrapt in e:\\anaconda3\\lib\\site-packages (from pandas-datareader) (1.10.11)\n",
      "Requirement already satisfied: pandas>=0.19.2 in e:\\anaconda3\\lib\\site-packages (from pandas-datareader) (0.23.0)\n",
      "Requirement already satisfied: lxml in e:\\anaconda3\\lib\\site-packages (from pandas-datareader) (4.2.1)\n",
      "Requirement already satisfied: requests>=2.3.0 in e:\\anaconda3\\lib\\site-packages (from pandas-datareader) (2.18.4)\n",
      "Requirement already satisfied: six in e:\\anaconda3\\lib\\site-packages (from requests-file->pandas-datareader) (1.11.0)\n",
      "Requirement already satisfied: pytz>=2011k in e:\\anaconda3\\lib\\site-packages (from pandas>=0.19.2->pandas-datareader) (2018.4)\n",
      "Requirement already satisfied: numpy>=1.9.0 in e:\\anaconda3\\lib\\site-packages (from pandas>=0.19.2->pandas-datareader) (1.14.3)\n",
      "Requirement already satisfied: python-dateutil>=2.5.0 in e:\\anaconda3\\lib\\site-packages (from pandas>=0.19.2->pandas-datareader) (2.7.3)\n",
      "Requirement already satisfied: chardet<3.1.0,>=3.0.2 in e:\\anaconda3\\lib\\site-packages (from requests>=2.3.0->pandas-datareader) (3.0.4)\n",
      "Requirement already satisfied: idna<2.7,>=2.5 in e:\\anaconda3\\lib\\site-packages (from requests>=2.3.0->pandas-datareader) (2.6)\n",
      "Requirement already satisfied: urllib3<1.23,>=1.21.1 in e:\\anaconda3\\lib\\site-packages (from requests>=2.3.0->pandas-datareader) (1.22)\n",
      "Requirement already satisfied: certifi>=2017.4.17 in e:\\anaconda3\\lib\\site-packages (from requests>=2.3.0->pandas-datareader) (2018.4.16)\n",
      "Building wheels for collected packages: requests-ftp\n",
      "  Running setup.py bdist_wheel for requests-ftp: started\n",
      "  Running setup.py bdist_wheel for requests-ftp: finished with status 'done'\n",
      "  Stored in directory: C:\\Users\\Arnaud\\AppData\\Local\\pip\\Cache\\wheels\\2a\\98\\32\\37195e45a3392a73d9f65c488cbea30fe5bad76aaef4d6b020\n",
      "Successfully built requests-ftp\n",
      "Installing collected packages: requests-ftp, requests-file, pandas-datareader\n",
      "Successfully installed pandas-datareader-0.6.0 requests-file-1.4.3 requests-ftp-0.3.1\n"
     ]
    }
   ],
   "source": [
    "import sys\n",
    "!{sys.executable} -m pip install pandas-datareader"
   ]
  },
  {
   "cell_type": "code",
   "execution_count": null,
   "metadata": {},
   "outputs": [],
   "source": []
  }
 ],
 "metadata": {
  "kernelspec": {
   "display_name": "Python 3",
   "language": "python",
   "name": "python3"
  },
  "language_info": {
   "codemirror_mode": {
    "name": "ipython",
    "version": 3
   },
   "file_extension": ".py",
   "mimetype": "text/x-python",
   "name": "python",
   "nbconvert_exporter": "python",
   "pygments_lexer": "ipython3",
   "version": "3.6.5"
  }
 },
 "nbformat": 4,
 "nbformat_minor": 2
}
