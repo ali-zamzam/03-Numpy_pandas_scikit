{
 "cells": [
  {
   "cell_type": "code",
   "execution_count": 1,
   "metadata": {},
   "outputs": [],
   "source": [
    "import pandas as pd\n",
    "import numpy as np"
   ]
  },
  {
   "cell_type": "code",
   "execution_count": 2,
   "metadata": {},
   "outputs": [
    {
     "data": {
      "text/html": [
       "<div>\n",
       "<style scoped>\n",
       "    .dataframe tbody tr th:only-of-type {\n",
       "        vertical-align: middle;\n",
       "    }\n",
       "\n",
       "    .dataframe tbody tr th {\n",
       "        vertical-align: top;\n",
       "    }\n",
       "\n",
       "    .dataframe thead th {\n",
       "        text-align: right;\n",
       "    }\n",
       "</style>\n",
       "<table border=\"1\" class=\"dataframe\">\n",
       "  <thead>\n",
       "    <tr style=\"text-align: right;\">\n",
       "      <th></th>\n",
       "      <th>regiment</th>\n",
       "      <th>compagnie</th>\n",
       "      <th>nom</th>\n",
       "      <th>preScoreFamas</th>\n",
       "      <th>postScoreFamas</th>\n",
       "    </tr>\n",
       "  </thead>\n",
       "  <tbody>\n",
       "    <tr>\n",
       "      <th>0</th>\n",
       "      <td>RICM</td>\n",
       "      <td>1°</td>\n",
       "      <td>Jean</td>\n",
       "      <td>4</td>\n",
       "      <td>25</td>\n",
       "    </tr>\n",
       "    <tr>\n",
       "      <th>1</th>\n",
       "      <td>RICM</td>\n",
       "      <td>1°</td>\n",
       "      <td>Donovan</td>\n",
       "      <td>24</td>\n",
       "      <td>94</td>\n",
       "    </tr>\n",
       "    <tr>\n",
       "      <th>2</th>\n",
       "      <td>RICM</td>\n",
       "      <td>2°</td>\n",
       "      <td>Ali</td>\n",
       "      <td>31</td>\n",
       "      <td>57</td>\n",
       "    </tr>\n",
       "    <tr>\n",
       "      <th>3</th>\n",
       "      <td>2 REP</td>\n",
       "      <td>2°</td>\n",
       "      <td>Fleur</td>\n",
       "      <td>2</td>\n",
       "      <td>62</td>\n",
       "    </tr>\n",
       "    <tr>\n",
       "      <th>4</th>\n",
       "      <td>2 REP</td>\n",
       "      <td>1°</td>\n",
       "      <td>René</td>\n",
       "      <td>3</td>\n",
       "      <td>70</td>\n",
       "    </tr>\n",
       "    <tr>\n",
       "      <th>5</th>\n",
       "      <td>3 RIMA</td>\n",
       "      <td>1°</td>\n",
       "      <td>John</td>\n",
       "      <td>4</td>\n",
       "      <td>25</td>\n",
       "    </tr>\n",
       "    <tr>\n",
       "      <th>6</th>\n",
       "      <td>3 RIMA</td>\n",
       "      <td>2°</td>\n",
       "      <td>Rambo</td>\n",
       "      <td>24</td>\n",
       "      <td>94</td>\n",
       "    </tr>\n",
       "    <tr>\n",
       "      <th>7</th>\n",
       "      <td>3 RIMA</td>\n",
       "      <td>2°</td>\n",
       "      <td>Steeve</td>\n",
       "      <td>31</td>\n",
       "      <td>57</td>\n",
       "    </tr>\n",
       "    <tr>\n",
       "      <th>8</th>\n",
       "      <td>13 DBLE</td>\n",
       "      <td>1°</td>\n",
       "      <td>Harry</td>\n",
       "      <td>2</td>\n",
       "      <td>62</td>\n",
       "    </tr>\n",
       "    <tr>\n",
       "      <th>9</th>\n",
       "      <td>13 DBLE</td>\n",
       "      <td>1°</td>\n",
       "      <td>Pierre</td>\n",
       "      <td>3</td>\n",
       "      <td>70</td>\n",
       "    </tr>\n",
       "    <tr>\n",
       "      <th>10</th>\n",
       "      <td>13 DBLE</td>\n",
       "      <td>2°</td>\n",
       "      <td>Riani</td>\n",
       "      <td>2</td>\n",
       "      <td>62</td>\n",
       "    </tr>\n",
       "    <tr>\n",
       "      <th>11</th>\n",
       "      <td>2 RIMA</td>\n",
       "      <td>2°</td>\n",
       "      <td>Philippe</td>\n",
       "      <td>3</td>\n",
       "      <td>70</td>\n",
       "    </tr>\n",
       "  </tbody>\n",
       "</table>\n",
       "</div>"
      ],
      "text/plain": [
       "   regiment compagnie       nom  preScoreFamas  postScoreFamas\n",
       "0      RICM        1°      Jean              4              25\n",
       "1      RICM        1°   Donovan             24              94\n",
       "2      RICM        2°       Ali             31              57\n",
       "3     2 REP        2°     Fleur              2              62\n",
       "4     2 REP        1°      René              3              70\n",
       "5    3 RIMA        1°      John              4              25\n",
       "6    3 RIMA        2°     Rambo             24              94\n",
       "7    3 RIMA        2°    Steeve             31              57\n",
       "8   13 DBLE        1°     Harry              2              62\n",
       "9   13 DBLE        1°    Pierre              3              70\n",
       "10  13 DBLE        2°     Riani              2              62\n",
       "11   2 RIMA        2°  Philippe              3              70"
      ]
     },
     "execution_count": 2,
     "metadata": {},
     "output_type": "execute_result"
    }
   ],
   "source": [
    "raw_data = {'regiment': ['RICM', 'RICM', 'RICM', '2 REP', '2 REP', '3 RIMA', '3 RIMA', '3 RIMA', '13 DBLE', '13 DBLE', '13 DBLE', '2 RIMA'], \n",
    "        'compagnie': ['1°', '1°', '2°', '2°', '1°', '1°', '2°', '2°','1°', '1°', '2°', '2°'], \n",
    "        'nom': ['Jean', 'Donovan', 'Ali', 'Fleur', 'René', 'John', 'Rambo', 'Steeve', 'Harry', 'Pierre', 'Riani', 'Philippe'], \n",
    "        'preScoreFamas': [4, 24, 31, 2, 3, 4, 24, 31, 2, 3, 2, 3],\n",
    "        'postScoreFamas': [25, 94, 57, 62, 70, 25, 94, 57, 62, 70, 62, 70]}\n",
    "df = pd.DataFrame(raw_data, columns = ['regiment', 'compagnie', 'nom', 'preScoreFamas', 'postScoreFamas'])\n",
    "df"
   ]
  },
  {
   "cell_type": "code",
   "execution_count": 3,
   "metadata": {},
   "outputs": [],
   "source": [
    "analyse = df.groupby([\"regiment\", \"compagnie\"])"
   ]
  },
  {
   "cell_type": "code",
   "execution_count": 4,
   "metadata": {},
   "outputs": [
    {
     "data": {
      "text/plain": [
       "regiment  compagnie\n",
       "13 DBLE   1°           2\n",
       "          2°           1\n",
       "2 REP     1°           1\n",
       "          2°           1\n",
       "2 RIMA    2°           1\n",
       "3 RIMA    1°           1\n",
       "          2°           2\n",
       "RICM      1°           2\n",
       "          2°           1\n",
       "dtype: int64"
      ]
     },
     "execution_count": 4,
     "metadata": {},
     "output_type": "execute_result"
    }
   ],
   "source": [
    "analyse.size()"
   ]
  },
  {
   "cell_type": "code",
   "execution_count": 5,
   "metadata": {},
   "outputs": [
    {
     "data": {
      "text/html": [
       "<div>\n",
       "<style scoped>\n",
       "    .dataframe tbody tr th:only-of-type {\n",
       "        vertical-align: middle;\n",
       "    }\n",
       "\n",
       "    .dataframe tbody tr th {\n",
       "        vertical-align: top;\n",
       "    }\n",
       "\n",
       "    .dataframe thead th {\n",
       "        text-align: right;\n",
       "    }\n",
       "</style>\n",
       "<table border=\"1\" class=\"dataframe\">\n",
       "  <thead>\n",
       "    <tr style=\"text-align: right;\">\n",
       "      <th></th>\n",
       "      <th></th>\n",
       "      <th>preScoreFamas</th>\n",
       "      <th>postScoreFamas</th>\n",
       "    </tr>\n",
       "    <tr>\n",
       "      <th>regiment</th>\n",
       "      <th>compagnie</th>\n",
       "      <th></th>\n",
       "      <th></th>\n",
       "    </tr>\n",
       "  </thead>\n",
       "  <tbody>\n",
       "    <tr>\n",
       "      <th rowspan=\"2\" valign=\"top\">13 DBLE</th>\n",
       "      <th>1°</th>\n",
       "      <td>5</td>\n",
       "      <td>132</td>\n",
       "    </tr>\n",
       "    <tr>\n",
       "      <th>2°</th>\n",
       "      <td>2</td>\n",
       "      <td>62</td>\n",
       "    </tr>\n",
       "    <tr>\n",
       "      <th rowspan=\"2\" valign=\"top\">2 REP</th>\n",
       "      <th>1°</th>\n",
       "      <td>3</td>\n",
       "      <td>70</td>\n",
       "    </tr>\n",
       "    <tr>\n",
       "      <th>2°</th>\n",
       "      <td>2</td>\n",
       "      <td>62</td>\n",
       "    </tr>\n",
       "    <tr>\n",
       "      <th>2 RIMA</th>\n",
       "      <th>2°</th>\n",
       "      <td>3</td>\n",
       "      <td>70</td>\n",
       "    </tr>\n",
       "    <tr>\n",
       "      <th rowspan=\"2\" valign=\"top\">3 RIMA</th>\n",
       "      <th>1°</th>\n",
       "      <td>4</td>\n",
       "      <td>25</td>\n",
       "    </tr>\n",
       "    <tr>\n",
       "      <th>2°</th>\n",
       "      <td>55</td>\n",
       "      <td>151</td>\n",
       "    </tr>\n",
       "    <tr>\n",
       "      <th rowspan=\"2\" valign=\"top\">RICM</th>\n",
       "      <th>1°</th>\n",
       "      <td>28</td>\n",
       "      <td>119</td>\n",
       "    </tr>\n",
       "    <tr>\n",
       "      <th>2°</th>\n",
       "      <td>31</td>\n",
       "      <td>57</td>\n",
       "    </tr>\n",
       "  </tbody>\n",
       "</table>\n",
       "</div>"
      ],
      "text/plain": [
       "                    preScoreFamas  postScoreFamas\n",
       "regiment compagnie                               \n",
       "13 DBLE  1°                     5             132\n",
       "         2°                     2              62\n",
       "2 REP    1°                     3              70\n",
       "         2°                     2              62\n",
       "2 RIMA   2°                     3              70\n",
       "3 RIMA   1°                     4              25\n",
       "         2°                    55             151\n",
       "RICM     1°                    28             119\n",
       "         2°                    31              57"
      ]
     },
     "execution_count": 5,
     "metadata": {},
     "output_type": "execute_result"
    }
   ],
   "source": [
    "analyse.sum()"
   ]
  },
  {
   "cell_type": "code",
   "execution_count": 7,
   "metadata": {},
   "outputs": [
    {
     "data": {
      "text/plain": [
       "regiment  compagnie\n",
       "13 DBLE   1°            5\n",
       "          2°            2\n",
       "2 REP     1°            3\n",
       "          2°            2\n",
       "2 RIMA    2°            3\n",
       "3 RIMA    1°            4\n",
       "          2°           55\n",
       "RICM      1°           28\n",
       "          2°           31\n",
       "Name: preScoreFamas, dtype: int64"
      ]
     },
     "execution_count": 7,
     "metadata": {},
     "output_type": "execute_result"
    }
   ],
   "source": [
    "analyse[\"preScoreFamas\"].sum()"
   ]
  },
  {
   "cell_type": "code",
   "execution_count": 8,
   "metadata": {},
   "outputs": [
    {
     "data": {
      "text/plain": [
       "regiment  compagnie\n",
       "13 DBLE   1°            2.5\n",
       "          2°            2.0\n",
       "2 REP     1°            3.0\n",
       "          2°            2.0\n",
       "2 RIMA    2°            3.0\n",
       "3 RIMA    1°            4.0\n",
       "          2°           27.5\n",
       "RICM      1°           14.0\n",
       "          2°           31.0\n",
       "Name: preScoreFamas, dtype: float64"
      ]
     },
     "execution_count": 8,
     "metadata": {},
     "output_type": "execute_result"
    }
   ],
   "source": [
    "analyse[\"preScoreFamas\"].mean()"
   ]
  },
  {
   "cell_type": "code",
   "execution_count": null,
   "metadata": {},
   "outputs": [],
   "source": []
  }
 ],
 "metadata": {
  "kernelspec": {
   "display_name": "Python 3",
   "language": "python",
   "name": "python3"
  },
  "language_info": {
   "codemirror_mode": {
    "name": "ipython",
    "version": 3
   },
   "file_extension": ".py",
   "mimetype": "text/x-python",
   "name": "python",
   "nbconvert_exporter": "python",
   "pygments_lexer": "ipython3",
   "version": "3.6.5"
  }
 },
 "nbformat": 4,
 "nbformat_minor": 2
}
