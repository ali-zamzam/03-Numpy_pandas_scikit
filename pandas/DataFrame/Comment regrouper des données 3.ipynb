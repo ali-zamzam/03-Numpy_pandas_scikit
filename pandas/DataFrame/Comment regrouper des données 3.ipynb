{
 "cells": [
  {
   "cell_type": "code",
   "execution_count": 1,
   "metadata": {},
   "outputs": [
    {
     "data": {
      "text/html": [
       "<div>\n",
       "<style scoped>\n",
       "    .dataframe tbody tr th:only-of-type {\n",
       "        vertical-align: middle;\n",
       "    }\n",
       "\n",
       "    .dataframe tbody tr th {\n",
       "        vertical-align: top;\n",
       "    }\n",
       "\n",
       "    .dataframe thead th {\n",
       "        text-align: right;\n",
       "    }\n",
       "</style>\n",
       "<table border=\"1\" class=\"dataframe\">\n",
       "  <thead>\n",
       "    <tr style=\"text-align: right;\">\n",
       "      <th></th>\n",
       "      <th>regiment</th>\n",
       "      <th>compagnie</th>\n",
       "      <th>nom</th>\n",
       "      <th>preScoreFamas</th>\n",
       "      <th>postScoreFamas</th>\n",
       "    </tr>\n",
       "  </thead>\n",
       "  <tbody>\n",
       "    <tr>\n",
       "      <th>0</th>\n",
       "      <td>RICM</td>\n",
       "      <td>1°</td>\n",
       "      <td>Jean</td>\n",
       "      <td>4</td>\n",
       "      <td>25</td>\n",
       "    </tr>\n",
       "    <tr>\n",
       "      <th>1</th>\n",
       "      <td>RICM</td>\n",
       "      <td>1°</td>\n",
       "      <td>Donovan</td>\n",
       "      <td>24</td>\n",
       "      <td>94</td>\n",
       "    </tr>\n",
       "    <tr>\n",
       "      <th>2</th>\n",
       "      <td>RICM</td>\n",
       "      <td>2°</td>\n",
       "      <td>Ali</td>\n",
       "      <td>31</td>\n",
       "      <td>57</td>\n",
       "    </tr>\n",
       "    <tr>\n",
       "      <th>3</th>\n",
       "      <td>2 REP</td>\n",
       "      <td>2°</td>\n",
       "      <td>Fleur</td>\n",
       "      <td>2</td>\n",
       "      <td>62</td>\n",
       "    </tr>\n",
       "    <tr>\n",
       "      <th>4</th>\n",
       "      <td>2 REP</td>\n",
       "      <td>1°</td>\n",
       "      <td>René</td>\n",
       "      <td>3</td>\n",
       "      <td>70</td>\n",
       "    </tr>\n",
       "    <tr>\n",
       "      <th>5</th>\n",
       "      <td>3 RIMA</td>\n",
       "      <td>1°</td>\n",
       "      <td>John</td>\n",
       "      <td>4</td>\n",
       "      <td>25</td>\n",
       "    </tr>\n",
       "    <tr>\n",
       "      <th>6</th>\n",
       "      <td>3 RIMA</td>\n",
       "      <td>2°</td>\n",
       "      <td>Rambo</td>\n",
       "      <td>24</td>\n",
       "      <td>94</td>\n",
       "    </tr>\n",
       "    <tr>\n",
       "      <th>7</th>\n",
       "      <td>3 RIMA</td>\n",
       "      <td>2°</td>\n",
       "      <td>Steeve</td>\n",
       "      <td>31</td>\n",
       "      <td>57</td>\n",
       "    </tr>\n",
       "    <tr>\n",
       "      <th>8</th>\n",
       "      <td>13 DBLE</td>\n",
       "      <td>1°</td>\n",
       "      <td>Harry</td>\n",
       "      <td>2</td>\n",
       "      <td>62</td>\n",
       "    </tr>\n",
       "    <tr>\n",
       "      <th>9</th>\n",
       "      <td>13 DBLE</td>\n",
       "      <td>1°</td>\n",
       "      <td>Pierre</td>\n",
       "      <td>3</td>\n",
       "      <td>70</td>\n",
       "    </tr>\n",
       "    <tr>\n",
       "      <th>10</th>\n",
       "      <td>13 DBLE</td>\n",
       "      <td>2°</td>\n",
       "      <td>Riani</td>\n",
       "      <td>2</td>\n",
       "      <td>62</td>\n",
       "    </tr>\n",
       "    <tr>\n",
       "      <th>11</th>\n",
       "      <td>2 RIMA</td>\n",
       "      <td>2°</td>\n",
       "      <td>Philippe</td>\n",
       "      <td>3</td>\n",
       "      <td>70</td>\n",
       "    </tr>\n",
       "  </tbody>\n",
       "</table>\n",
       "</div>"
      ],
      "text/plain": [
       "   regiment compagnie       nom  preScoreFamas  postScoreFamas\n",
       "0      RICM        1°      Jean              4              25\n",
       "1      RICM        1°   Donovan             24              94\n",
       "2      RICM        2°       Ali             31              57\n",
       "3     2 REP        2°     Fleur              2              62\n",
       "4     2 REP        1°      René              3              70\n",
       "5    3 RIMA        1°      John              4              25\n",
       "6    3 RIMA        2°     Rambo             24              94\n",
       "7    3 RIMA        2°    Steeve             31              57\n",
       "8   13 DBLE        1°     Harry              2              62\n",
       "9   13 DBLE        1°    Pierre              3              70\n",
       "10  13 DBLE        2°     Riani              2              62\n",
       "11   2 RIMA        2°  Philippe              3              70"
      ]
     },
     "execution_count": 1,
     "metadata": {},
     "output_type": "execute_result"
    }
   ],
   "source": [
    "import pandas as pd\n",
    "import numpy as np\n",
    "\n",
    "raw_data = {'regiment': ['RICM', 'RICM', 'RICM', '2 REP', '2 REP', '3 RIMA', '3 RIMA', '3 RIMA', '13 DBLE', '13 DBLE', '13 DBLE', '2 RIMA'], \n",
    "        'compagnie': ['1°', '1°', '2°', '2°', '1°', '1°', '2°', '2°','1°', '1°', '2°', '2°'], \n",
    "        'nom': ['Jean', 'Donovan', 'Ali', 'Fleur', 'René', 'John', 'Rambo', 'Steeve', 'Harry', 'Pierre', 'Riani', 'Philippe'], \n",
    "        'preScoreFamas': [4, 24, 31, 2, 3, 4, 24, 31, 2, 3, 2, 3],\n",
    "        'postScoreFamas': [25, 94, 57, 62, 70, 25, 94, 57, 62, 70, 62, 70]}\n",
    "df = pd.DataFrame(raw_data, columns = ['regiment', 'compagnie', 'nom', 'preScoreFamas', 'postScoreFamas'])\n",
    "df"
   ]
  },
  {
   "cell_type": "code",
   "execution_count": 2,
   "metadata": {},
   "outputs": [
    {
     "data": {
      "text/plain": [
       "<pandas.core.groupby.groupby.SeriesGroupBy object at 0x000001D1A7990D68>"
      ]
     },
     "execution_count": 2,
     "metadata": {},
     "output_type": "execute_result"
    }
   ],
   "source": [
    "#Créez une variable groupby qui regroupe les preScoreFamas par régiment.\n",
    "groupby_regiment = df['preScoreFamas'].groupby(df['regiment'])\n",
    "groupby_regiment"
   ]
  },
  {
   "cell_type": "markdown",
   "metadata": {},
   "source": [
    "Cette variable groupée est maintenant un objet GroupBy. Il n'a encore rien calculé, sauf quelques données intermédiaires sur la clé de groupe df['key1']. L'idée est que cet objet possède toutes les informations nécessaires pour ensuite appliquer une opération à chacun des groupes.\n",
    "\n",
    "## Afficher un groupement\n",
    "\n",
    "Utilisez list() pour montrer à quoi ressemble un groupement."
   ]
  },
  {
   "cell_type": "code",
   "execution_count": 3,
   "metadata": {},
   "outputs": [
    {
     "data": {
      "text/plain": [
       "[('13 DBLE', 8     2\n",
       "  9     3\n",
       "  10    2\n",
       "  Name: preScoreFamas, dtype: int64), ('2 REP', 3    2\n",
       "  4    3\n",
       "  Name: preScoreFamas, dtype: int64), ('2 RIMA', 11    3\n",
       "  Name: preScoreFamas, dtype: int64), ('3 RIMA', 5     4\n",
       "  6    24\n",
       "  7    31\n",
       "  Name: preScoreFamas, dtype: int64), ('RICM', 0     4\n",
       "  1    24\n",
       "  2    31\n",
       "  Name: preScoreFamas, dtype: int64)]"
      ]
     },
     "execution_count": 3,
     "metadata": {},
     "output_type": "execute_result"
    }
   ],
   "source": [
    "list(df['preScoreFamas'].groupby(df['regiment']))"
   ]
  },
  {
   "cell_type": "markdown",
   "metadata": {},
   "source": [
    "## Statistiques descriptives du Groupe"
   ]
  },
  {
   "cell_type": "code",
   "execution_count": 4,
   "metadata": {},
   "outputs": [
    {
     "data": {
      "text/html": [
       "<div>\n",
       "<style scoped>\n",
       "    .dataframe tbody tr th:only-of-type {\n",
       "        vertical-align: middle;\n",
       "    }\n",
       "\n",
       "    .dataframe tbody tr th {\n",
       "        vertical-align: top;\n",
       "    }\n",
       "\n",
       "    .dataframe thead th {\n",
       "        text-align: right;\n",
       "    }\n",
       "</style>\n",
       "<table border=\"1\" class=\"dataframe\">\n",
       "  <thead>\n",
       "    <tr style=\"text-align: right;\">\n",
       "      <th></th>\n",
       "      <th>count</th>\n",
       "      <th>mean</th>\n",
       "      <th>std</th>\n",
       "      <th>min</th>\n",
       "      <th>25%</th>\n",
       "      <th>50%</th>\n",
       "      <th>75%</th>\n",
       "      <th>max</th>\n",
       "    </tr>\n",
       "    <tr>\n",
       "      <th>regiment</th>\n",
       "      <th></th>\n",
       "      <th></th>\n",
       "      <th></th>\n",
       "      <th></th>\n",
       "      <th></th>\n",
       "      <th></th>\n",
       "      <th></th>\n",
       "      <th></th>\n",
       "    </tr>\n",
       "  </thead>\n",
       "  <tbody>\n",
       "    <tr>\n",
       "      <th>13 DBLE</th>\n",
       "      <td>3.0</td>\n",
       "      <td>2.333333</td>\n",
       "      <td>0.577350</td>\n",
       "      <td>2.0</td>\n",
       "      <td>2.00</td>\n",
       "      <td>2.0</td>\n",
       "      <td>2.50</td>\n",
       "      <td>3.0</td>\n",
       "    </tr>\n",
       "    <tr>\n",
       "      <th>2 REP</th>\n",
       "      <td>2.0</td>\n",
       "      <td>2.500000</td>\n",
       "      <td>0.707107</td>\n",
       "      <td>2.0</td>\n",
       "      <td>2.25</td>\n",
       "      <td>2.5</td>\n",
       "      <td>2.75</td>\n",
       "      <td>3.0</td>\n",
       "    </tr>\n",
       "    <tr>\n",
       "      <th>2 RIMA</th>\n",
       "      <td>1.0</td>\n",
       "      <td>3.000000</td>\n",
       "      <td>NaN</td>\n",
       "      <td>3.0</td>\n",
       "      <td>3.00</td>\n",
       "      <td>3.0</td>\n",
       "      <td>3.00</td>\n",
       "      <td>3.0</td>\n",
       "    </tr>\n",
       "    <tr>\n",
       "      <th>3 RIMA</th>\n",
       "      <td>3.0</td>\n",
       "      <td>19.666667</td>\n",
       "      <td>14.011900</td>\n",
       "      <td>4.0</td>\n",
       "      <td>14.00</td>\n",
       "      <td>24.0</td>\n",
       "      <td>27.50</td>\n",
       "      <td>31.0</td>\n",
       "    </tr>\n",
       "    <tr>\n",
       "      <th>RICM</th>\n",
       "      <td>3.0</td>\n",
       "      <td>19.666667</td>\n",
       "      <td>14.011900</td>\n",
       "      <td>4.0</td>\n",
       "      <td>14.00</td>\n",
       "      <td>24.0</td>\n",
       "      <td>27.50</td>\n",
       "      <td>31.0</td>\n",
       "    </tr>\n",
       "  </tbody>\n",
       "</table>\n",
       "</div>"
      ],
      "text/plain": [
       "          count       mean        std  min    25%   50%    75%   max\n",
       "regiment                                                            \n",
       "13 DBLE     3.0   2.333333   0.577350  2.0   2.00   2.0   2.50   3.0\n",
       "2 REP       2.0   2.500000   0.707107  2.0   2.25   2.5   2.75   3.0\n",
       "2 RIMA      1.0   3.000000        NaN  3.0   3.00   3.0   3.00   3.0\n",
       "3 RIMA      3.0  19.666667  14.011900  4.0  14.00  24.0  27.50  31.0\n",
       "RICM        3.0  19.666667  14.011900  4.0  14.00  24.0  27.50  31.0"
      ]
     },
     "execution_count": 4,
     "metadata": {},
     "output_type": "execute_result"
    }
   ],
   "source": [
    "df['preScoreFamas'].groupby(df['regiment']).describe()"
   ]
  },
  {
   "cell_type": "markdown",
   "metadata": {},
   "source": [
    "## Moyenne pour chaque régiment\n"
   ]
  },
  {
   "cell_type": "code",
   "execution_count": 5,
   "metadata": {},
   "outputs": [
    {
     "data": {
      "text/plain": [
       "regiment\n",
       "13 DBLE     2.333333\n",
       "2 REP       2.500000\n",
       "2 RIMA      3.000000\n",
       "3 RIMA     19.666667\n",
       "RICM       19.666667\n",
       "Name: preScoreFamas, dtype: float64"
      ]
     },
     "execution_count": 5,
     "metadata": {},
     "output_type": "execute_result"
    }
   ],
   "source": [
    "groupby_regiment.mean()"
   ]
  },
  {
   "cell_type": "markdown",
   "metadata": {},
   "source": [
    "## Moyenne pour chaque compagnie d'un régiment"
   ]
  },
  {
   "cell_type": "code",
   "execution_count": 8,
   "metadata": {},
   "outputs": [
    {
     "data": {
      "text/plain": [
       "regiment  compagnie\n",
       "13 DBLE   1°            2.5\n",
       "          2°            2.0\n",
       "2 REP     1°            3.0\n",
       "          2°            2.0\n",
       "2 RIMA    2°            3.0\n",
       "3 RIMA    1°            4.0\n",
       "          2°           27.5\n",
       "RICM      1°           14.0\n",
       "          2°           31.0\n",
       "Name: preScoreFamas, dtype: float64"
      ]
     },
     "execution_count": 8,
     "metadata": {},
     "output_type": "execute_result"
    }
   ],
   "source": [
    "df['preScoreFamas'].groupby([df['regiment'], df['compagnie']]).mean()"
   ]
  },
  {
   "cell_type": "markdown",
   "metadata": {},
   "source": [
    "## Moyenne pour chaque compagnie d'un régimentsans indexation hiérarchique."
   ]
  },
  {
   "cell_type": "code",
   "execution_count": 9,
   "metadata": {},
   "outputs": [
    {
     "data": {
      "text/html": [
       "<div>\n",
       "<style scoped>\n",
       "    .dataframe tbody tr th:only-of-type {\n",
       "        vertical-align: middle;\n",
       "    }\n",
       "\n",
       "    .dataframe tbody tr th {\n",
       "        vertical-align: top;\n",
       "    }\n",
       "\n",
       "    .dataframe thead th {\n",
       "        text-align: right;\n",
       "    }\n",
       "</style>\n",
       "<table border=\"1\" class=\"dataframe\">\n",
       "  <thead>\n",
       "    <tr style=\"text-align: right;\">\n",
       "      <th>compagnie</th>\n",
       "      <th>1°</th>\n",
       "      <th>2°</th>\n",
       "    </tr>\n",
       "    <tr>\n",
       "      <th>regiment</th>\n",
       "      <th></th>\n",
       "      <th></th>\n",
       "    </tr>\n",
       "  </thead>\n",
       "  <tbody>\n",
       "    <tr>\n",
       "      <th>13 DBLE</th>\n",
       "      <td>2.5</td>\n",
       "      <td>2.0</td>\n",
       "    </tr>\n",
       "    <tr>\n",
       "      <th>2 REP</th>\n",
       "      <td>3.0</td>\n",
       "      <td>2.0</td>\n",
       "    </tr>\n",
       "    <tr>\n",
       "      <th>2 RIMA</th>\n",
       "      <td>NaN</td>\n",
       "      <td>3.0</td>\n",
       "    </tr>\n",
       "    <tr>\n",
       "      <th>3 RIMA</th>\n",
       "      <td>4.0</td>\n",
       "      <td>27.5</td>\n",
       "    </tr>\n",
       "    <tr>\n",
       "      <th>RICM</th>\n",
       "      <td>14.0</td>\n",
       "      <td>31.0</td>\n",
       "    </tr>\n",
       "  </tbody>\n",
       "</table>\n",
       "</div>"
      ],
      "text/plain": [
       "compagnie    1°    2°\n",
       "regiment             \n",
       "13 DBLE     2.5   2.0\n",
       "2 REP       3.0   2.0\n",
       "2 RIMA      NaN   3.0\n",
       "3 RIMA      4.0  27.5\n",
       "RICM       14.0  31.0"
      ]
     },
     "execution_count": 9,
     "metadata": {},
     "output_type": "execute_result"
    }
   ],
   "source": [
    "df['preScoreFamas'].groupby([df['regiment'], df['compagnie']]).mean().unstack()"
   ]
  },
  {
   "cell_type": "markdown",
   "metadata": {},
   "source": [
    "## Grouper le DataFrame"
   ]
  },
  {
   "cell_type": "code",
   "execution_count": 10,
   "metadata": {},
   "outputs": [
    {
     "data": {
      "text/html": [
       "<div>\n",
       "<style scoped>\n",
       "    .dataframe tbody tr th:only-of-type {\n",
       "        vertical-align: middle;\n",
       "    }\n",
       "\n",
       "    .dataframe tbody tr th {\n",
       "        vertical-align: top;\n",
       "    }\n",
       "\n",
       "    .dataframe thead th {\n",
       "        text-align: right;\n",
       "    }\n",
       "</style>\n",
       "<table border=\"1\" class=\"dataframe\">\n",
       "  <thead>\n",
       "    <tr style=\"text-align: right;\">\n",
       "      <th></th>\n",
       "      <th></th>\n",
       "      <th>preScoreFamas</th>\n",
       "      <th>postScoreFamas</th>\n",
       "    </tr>\n",
       "    <tr>\n",
       "      <th>regiment</th>\n",
       "      <th>compagnie</th>\n",
       "      <th></th>\n",
       "      <th></th>\n",
       "    </tr>\n",
       "  </thead>\n",
       "  <tbody>\n",
       "    <tr>\n",
       "      <th rowspan=\"2\" valign=\"top\">13 DBLE</th>\n",
       "      <th>1°</th>\n",
       "      <td>2.5</td>\n",
       "      <td>66.0</td>\n",
       "    </tr>\n",
       "    <tr>\n",
       "      <th>2°</th>\n",
       "      <td>2.0</td>\n",
       "      <td>62.0</td>\n",
       "    </tr>\n",
       "    <tr>\n",
       "      <th rowspan=\"2\" valign=\"top\">2 REP</th>\n",
       "      <th>1°</th>\n",
       "      <td>3.0</td>\n",
       "      <td>70.0</td>\n",
       "    </tr>\n",
       "    <tr>\n",
       "      <th>2°</th>\n",
       "      <td>2.0</td>\n",
       "      <td>62.0</td>\n",
       "    </tr>\n",
       "    <tr>\n",
       "      <th>2 RIMA</th>\n",
       "      <th>2°</th>\n",
       "      <td>3.0</td>\n",
       "      <td>70.0</td>\n",
       "    </tr>\n",
       "    <tr>\n",
       "      <th rowspan=\"2\" valign=\"top\">3 RIMA</th>\n",
       "      <th>1°</th>\n",
       "      <td>4.0</td>\n",
       "      <td>25.0</td>\n",
       "    </tr>\n",
       "    <tr>\n",
       "      <th>2°</th>\n",
       "      <td>27.5</td>\n",
       "      <td>75.5</td>\n",
       "    </tr>\n",
       "    <tr>\n",
       "      <th rowspan=\"2\" valign=\"top\">RICM</th>\n",
       "      <th>1°</th>\n",
       "      <td>14.0</td>\n",
       "      <td>59.5</td>\n",
       "    </tr>\n",
       "    <tr>\n",
       "      <th>2°</th>\n",
       "      <td>31.0</td>\n",
       "      <td>57.0</td>\n",
       "    </tr>\n",
       "  </tbody>\n",
       "</table>\n",
       "</div>"
      ],
      "text/plain": [
       "                    preScoreFamas  postScoreFamas\n",
       "regiment compagnie                               \n",
       "13 DBLE  1°                   2.5            66.0\n",
       "         2°                   2.0            62.0\n",
       "2 REP    1°                   3.0            70.0\n",
       "         2°                   2.0            62.0\n",
       "2 RIMA   2°                   3.0            70.0\n",
       "3 RIMA   1°                   4.0            25.0\n",
       "         2°                  27.5            75.5\n",
       "RICM     1°                  14.0            59.5\n",
       "         2°                  31.0            57.0"
      ]
     },
     "execution_count": 10,
     "metadata": {},
     "output_type": "execute_result"
    }
   ],
   "source": [
    "df.groupby(['regiment', 'compagnie']).mean()"
   ]
  },
  {
   "cell_type": "markdown",
   "metadata": {},
   "source": [
    "## Nombre d'observations"
   ]
  },
  {
   "cell_type": "code",
   "execution_count": 11,
   "metadata": {},
   "outputs": [
    {
     "data": {
      "text/plain": [
       "regiment  compagnie\n",
       "13 DBLE   1°           2\n",
       "          2°           1\n",
       "2 REP     1°           1\n",
       "          2°           1\n",
       "2 RIMA    2°           1\n",
       "3 RIMA    1°           1\n",
       "          2°           2\n",
       "RICM      1°           2\n",
       "          2°           1\n",
       "dtype: int64"
      ]
     },
     "execution_count": 11,
     "metadata": {},
     "output_type": "execute_result"
    }
   ],
   "source": [
    "df.groupby(['regiment', 'compagnie']).size()"
   ]
  },
  {
   "cell_type": "markdown",
   "metadata": {},
   "source": [
    "## Itération d'une opération sur des groupes"
   ]
  },
  {
   "cell_type": "code",
   "execution_count": 12,
   "metadata": {},
   "outputs": [
    {
     "name": "stdout",
     "output_type": "stream",
     "text": [
      "13 DBLE\n",
      "   regiment compagnie     nom  preScoreFamas  postScoreFamas\n",
      "8   13 DBLE        1°   Harry              2              62\n",
      "9   13 DBLE        1°  Pierre              3              70\n",
      "10  13 DBLE        2°   Riani              2              62\n",
      "2 REP\n",
      "  regiment compagnie    nom  preScoreFamas  postScoreFamas\n",
      "3    2 REP        2°  Fleur              2              62\n",
      "4    2 REP        1°   René              3              70\n",
      "2 RIMA\n",
      "   regiment compagnie       nom  preScoreFamas  postScoreFamas\n",
      "11   2 RIMA        2°  Philippe              3              70\n",
      "3 RIMA\n",
      "  regiment compagnie     nom  preScoreFamas  postScoreFamas\n",
      "5   3 RIMA        1°    John              4              25\n",
      "6   3 RIMA        2°   Rambo             24              94\n",
      "7   3 RIMA        2°  Steeve             31              57\n",
      "RICM\n",
      "  regiment compagnie      nom  preScoreFamas  postScoreFamas\n",
      "0     RICM        1°     Jean              4              25\n",
      "1     RICM        1°  Donovan             24              94\n",
      "2     RICM        2°      Ali             31              57\n"
     ]
    }
   ],
   "source": [
    "# Regrouper les données par régiment et pour chaque régiment,\n",
    "for name, group in df.groupby('regiment'): \n",
    "    # imprimer le nom du régiment\n",
    "    print(name)\n",
    "    # imprimer les données du régiment\n",
    "    print(group)"
   ]
  },
  {
   "cell_type": "markdown",
   "metadata": {},
   "source": [
    "## Dans le dataframe \"df\", grouper par \"régiment, prendre les valeurs moyennes des autres variables pour ces groupes, puis les afficher avec le préfixe moyenne_"
   ]
  },
  {
   "cell_type": "code",
   "execution_count": 13,
   "metadata": {},
   "outputs": [
    {
     "data": {
      "text/html": [
       "<div>\n",
       "<style scoped>\n",
       "    .dataframe tbody tr th:only-of-type {\n",
       "        vertical-align: middle;\n",
       "    }\n",
       "\n",
       "    .dataframe tbody tr th {\n",
       "        vertical-align: top;\n",
       "    }\n",
       "\n",
       "    .dataframe thead th {\n",
       "        text-align: right;\n",
       "    }\n",
       "</style>\n",
       "<table border=\"1\" class=\"dataframe\">\n",
       "  <thead>\n",
       "    <tr style=\"text-align: right;\">\n",
       "      <th></th>\n",
       "      <th>moyenne_preScoreFamas</th>\n",
       "      <th>moyenne_postScoreFamas</th>\n",
       "    </tr>\n",
       "    <tr>\n",
       "      <th>regiment</th>\n",
       "      <th></th>\n",
       "      <th></th>\n",
       "    </tr>\n",
       "  </thead>\n",
       "  <tbody>\n",
       "    <tr>\n",
       "      <th>13 DBLE</th>\n",
       "      <td>2.333333</td>\n",
       "      <td>64.666667</td>\n",
       "    </tr>\n",
       "    <tr>\n",
       "      <th>2 REP</th>\n",
       "      <td>2.500000</td>\n",
       "      <td>66.000000</td>\n",
       "    </tr>\n",
       "    <tr>\n",
       "      <th>2 RIMA</th>\n",
       "      <td>3.000000</td>\n",
       "      <td>70.000000</td>\n",
       "    </tr>\n",
       "    <tr>\n",
       "      <th>3 RIMA</th>\n",
       "      <td>19.666667</td>\n",
       "      <td>58.666667</td>\n",
       "    </tr>\n",
       "    <tr>\n",
       "      <th>RICM</th>\n",
       "      <td>19.666667</td>\n",
       "      <td>58.666667</td>\n",
       "    </tr>\n",
       "  </tbody>\n",
       "</table>\n",
       "</div>"
      ],
      "text/plain": [
       "          moyenne_preScoreFamas  moyenne_postScoreFamas\n",
       "regiment                                               \n",
       "13 DBLE                2.333333               64.666667\n",
       "2 REP                  2.500000               66.000000\n",
       "2 RIMA                 3.000000               70.000000\n",
       "3 RIMA                19.666667               58.666667\n",
       "RICM                  19.666667               58.666667"
      ]
     },
     "execution_count": 13,
     "metadata": {},
     "output_type": "execute_result"
    }
   ],
   "source": [
    "df.groupby('regiment').mean().add_prefix('moyenne_')"
   ]
  },
  {
   "cell_type": "code",
   "execution_count": null,
   "metadata": {},
   "outputs": [],
   "source": []
  }
 ],
 "metadata": {
  "kernelspec": {
   "display_name": "Python 3",
   "language": "python",
   "name": "python3"
  },
  "language_info": {
   "codemirror_mode": {
    "name": "ipython",
    "version": 3
   },
   "file_extension": ".py",
   "mimetype": "text/x-python",
   "name": "python",
   "nbconvert_exporter": "python",
   "pygments_lexer": "ipython3",
   "version": "3.6.5"
  }
 },
 "nbformat": 4,
 "nbformat_minor": 2
}
