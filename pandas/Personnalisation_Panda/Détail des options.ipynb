{
 "cells": [
  {
   "cell_type": "markdown",
   "metadata": {},
   "source": [
    "Pandas fournit une API pour personnaliser certains aspects de son comportement comme par exemple.\n",
    "\n",
    "L'API se compose de cinq fonctions :\n",
    "\n",
    "    get_option()\n",
    "    set_option()\n",
    "    reset_option()\n",
    "    describe_option()\n",
    "    option_context()\n",
    "\n",
    "Regardons maintenant comment les fonctions fonctionnent."
   ]
  },
  {
   "cell_type": "markdown",
   "metadata": {},
   "source": [
    "## get_option(param)\n",
    "\n",
    "get_option prend un seul paramètre et retourne la valeur telle qu'elle est donnée dans la sortie ci-dessous.\n",
    "\n",
    "### display.max_rows\n",
    "\n",
    "Affiche le nombre de valeurs par défaut. L'interpréteur lit cette valeur et affiche les lignes avec cette valeur comme limite supérieure à afficher."
   ]
  },
  {
   "cell_type": "code",
   "execution_count": 2,
   "metadata": {},
   "outputs": [
    {
     "data": {
      "text/plain": [
       "60"
      ]
     },
     "execution_count": 2,
     "metadata": {},
     "output_type": "execute_result"
    }
   ],
   "source": [
    "import pandas as pd\n",
    "pd.get_option(\"display.max_rows\")"
   ]
  },
  {
   "cell_type": "markdown",
   "metadata": {},
   "source": [
    "Par défaut 60 lignes max seront affichées"
   ]
  },
  {
   "cell_type": "markdown",
   "metadata": {},
   "source": [
    "### display.max_columns\n",
    "\n",
    "Affiche le nombre de valeurs par défaut. L'interpréteur lit cette valeur et affiche les lignes avec cette valeur comme limite supérieure à afficher."
   ]
  },
  {
   "cell_type": "code",
   "execution_count": 3,
   "metadata": {},
   "outputs": [
    {
     "data": {
      "text/plain": [
       "20"
      ]
     },
     "execution_count": 3,
     "metadata": {},
     "output_type": "execute_result"
    }
   ],
   "source": [
    "pd.get_option(\"display.max_columns\")"
   ]
  },
  {
   "cell_type": "markdown",
   "metadata": {},
   "source": [
    "Par défaut, 20 colonnes max seront affichées"
   ]
  },
  {
   "cell_type": "markdown",
   "metadata": {},
   "source": [
    "# set_option(param,valeur)\n",
    "\n",
    "set_option prend deux arguments et définit la valeur du paramètre comme indiqué ci-dessous - -\n",
    "\n",
    "## display.max_rows\n",
    "\n",
    "En utilisant set_option(), on peut changer le nombre de lignes à afficher par défaut."
   ]
  },
  {
   "cell_type": "code",
   "execution_count": 4,
   "metadata": {},
   "outputs": [
    {
     "data": {
      "text/plain": [
       "80"
      ]
     },
     "execution_count": 4,
     "metadata": {},
     "output_type": "execute_result"
    }
   ],
   "source": [
    "pd.set_option(\"display.max_rows\",80)\n",
    "pd.get_option(\"display.max_rows\")"
   ]
  },
  {
   "cell_type": "markdown",
   "metadata": {},
   "source": [
    "On fixe à 80 le nombre max de lignes\n",
    "\n",
    "## display.max_rows\n",
    "\n",
    "En utilisant set_option(), on peut changer le nombre de lignes à afficher par défaut."
   ]
  },
  {
   "cell_type": "code",
   "execution_count": 5,
   "metadata": {},
   "outputs": [
    {
     "data": {
      "text/plain": [
       "30"
      ]
     },
     "execution_count": 5,
     "metadata": {},
     "output_type": "execute_result"
    }
   ],
   "source": [
    "pd.set_option(\"display.max_columns\",30)\n",
    "\n",
    "pd.get_option(\"display.max_columns\")"
   ]
  },
  {
   "cell_type": "markdown",
   "metadata": {},
   "source": [
    "# reset_option(param)\n",
    "\n",
    "reset_option prend un argument et remet la valeur à la valeur par défaut.\n",
    "\n",
    "## display.max_rows\n",
    "\n",
    "En utilisant reset_option(), nous pouvons changer la valeur de retour au nombre de lignes à afficher par défaut."
   ]
  },
  {
   "cell_type": "code",
   "execution_count": 6,
   "metadata": {},
   "outputs": [
    {
     "data": {
      "text/plain": [
       "60"
      ]
     },
     "execution_count": 6,
     "metadata": {},
     "output_type": "execute_result"
    }
   ],
   "source": [
    "pd.reset_option(\"display.max_rows\")\n",
    "pd.get_option(\"display.max_rows\")"
   ]
  },
  {
   "cell_type": "markdown",
   "metadata": {},
   "source": [
    "# describe_option(param)\n",
    "\n",
    "describe_option affiche  la description de l'argument.\n",
    "\n",
    "## display.max_rows\n",
    "\n",
    "En utilisant reset_option(), nous pouvons changer la valeur de nouveau au nombre de lignes à afficher par défaut."
   ]
  },
  {
   "cell_type": "code",
   "execution_count": 7,
   "metadata": {},
   "outputs": [
    {
     "name": "stdout",
     "output_type": "stream",
     "text": [
      "display.max_rows : int\n",
      "    If max_rows is exceeded, switch to truncate view. Depending on\n",
      "    `large_repr`, objects are either centrally truncated or printed as\n",
      "    a summary view. 'None' value means unlimited.\n",
      "\n",
      "    In case python/IPython is running in a terminal and `large_repr`\n",
      "    equals 'truncate' this can be set to 0 and pandas will auto-detect\n",
      "    the height of the terminal and print a truncated object which fits\n",
      "    the screen height. The IPython notebook, IPython qtconsole, or\n",
      "    IDLE do not run in a terminal and hence it is not possible to do\n",
      "    correct auto-detection.\n",
      "    [default: 60] [currently: 60]\n",
      "\n",
      "\n"
     ]
    }
   ],
   "source": [
    "pd.describe_option(\"display.max_rows\")"
   ]
  },
  {
   "cell_type": "markdown",
   "metadata": {},
   "source": [
    "# option_context()\n",
    "\n",
    "option_context est utilisé pour définir l'option temporairement. \n",
    "Les valeurs d'option sont restaurées automatiquement lorsque vous quittez le bloc avec - -.\n",
    "\n",
    "## display.max_rows\n",
    "\n",
    "En utilisant option_context(), nous pouvons définir la valeur temporairement."
   ]
  },
  {
   "cell_type": "markdown",
   "metadata": {},
   "source": [
    "## Paramètres habituels\n",
    "\n",
    "|  Paramètre | Description  |  \n",
    "|---|---|\n",
    "|  display.max_rows | Affiche le nombre maximum de lignes à afficher  | \n",
    "| display.max_columns  |  Affiche le nombre maximum de colonnes à afficher | \n",
    "|  display.max_colwidth |Affiche la largeur maximale des colonnes   |\n",
    "|  display.precision |Affiche la précision des nombres décimau   |"
   ]
  },
  {
   "cell_type": "code",
   "execution_count": null,
   "metadata": {},
   "outputs": [],
   "source": []
  }
 ],
 "metadata": {
  "kernelspec": {
   "display_name": "Python 3",
   "language": "python",
   "name": "python3"
  },
  "language_info": {
   "codemirror_mode": {
    "name": "ipython",
    "version": 3
   },
   "file_extension": ".py",
   "mimetype": "text/x-python",
   "name": "python",
   "nbconvert_exporter": "python",
   "pygments_lexer": "ipython3",
   "version": "3.6.5"
  }
 },
 "nbformat": 4,
 "nbformat_minor": 2
}
