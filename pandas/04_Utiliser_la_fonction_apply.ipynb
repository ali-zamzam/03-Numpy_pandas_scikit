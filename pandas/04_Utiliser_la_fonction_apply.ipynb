{
 "cells": [
  {
   "cell_type": "markdown",
   "metadata": {},
   "source": [
    "# apply() & map"
   ]
  },
  {
   "cell_type": "markdown",
   "metadata": {},
   "source": [
    "# apply()"
   ]
  },
  {
   "cell_type": "markdown",
   "metadata": {},
   "source": [
    "Les itérations sur les variables peuvent se faire via une boucle, ou via l'utilisation de fonctions callback appelée à l'aide d'une fonction .apply().\n",
    "\n",
    "Cette fonction va vous permettre de modifier chaque ligne de votre series comme bon vous semble."
   ]
  },
  {
   "cell_type": "code",
   "execution_count": 1,
   "metadata": {
    "pycharm": {
     "name": "#%%\n"
    }
   },
   "outputs": [],
   "source": [
    "import pandas as pd\n",
    "import numpy as np"
   ]
  },
  {
   "cell_type": "code",
   "execution_count": 15,
   "metadata": {
    "pycharm": {
     "name": "#%%\n"
    }
   },
   "outputs": [
    {
     "data": {
      "text/plain": [
       "0     0.867201\n",
       "1     0.336588\n",
       "2     0.374088\n",
       "3     0.969636\n",
       "4     0.898388\n",
       "5     0.223300\n",
       "6     0.710432\n",
       "7     0.429674\n",
       "8     0.786315\n",
       "9     0.325956\n",
       "10    0.798657\n",
       "11    0.366471\n",
       "12    0.654326\n",
       "13    0.289967\n",
       "14    0.458358\n",
       "15    0.544836\n",
       "16    0.597531\n",
       "17    0.821719\n",
       "18    0.598378\n",
       "19    0.997741\n",
       "20    0.217540\n",
       "21    0.226611\n",
       "22    0.714697\n",
       "23    0.094486\n",
       "24    0.469416\n",
       "25    0.628777\n",
       "26    0.560615\n",
       "27    0.888787\n",
       "28    0.158440\n",
       "29    0.517619\n",
       "dtype: float64"
      ]
     },
     "execution_count": 15,
     "metadata": {},
     "output_type": "execute_result"
    }
   ],
   "source": [
    "s = pd.Series(np.random.rand(30))\n",
    "s\n"
   ]
  },
  {
   "cell_type": "markdown",
   "metadata": {},
   "source": [
    "Imaginons que l'on désire multiplier par 10 l'ensemble des valeurs. On peut faire une boucle et mettre à jour chaque éléments"
   ]
  },
  {
   "cell_type": "code",
   "execution_count": 16,
   "metadata": {
    "pycharm": {
     "name": "#%%\n"
    }
   },
   "outputs": [
    {
     "name": "stdout",
     "output_type": "stream",
     "text": [
      "8.672014862228307\n",
      "3.365881158491868\n",
      "3.7408809438783672\n",
      "9.696362897288948\n",
      "8.983876151198475\n",
      "2.2329978119839646\n",
      "7.104316807999899\n",
      "4.296738420074179\n",
      "7.863147460570296\n",
      "3.2595602869173934\n",
      "7.986569645666308\n",
      "3.664705089304412\n",
      "6.543261386368239\n",
      "2.8996724719176017\n",
      "4.58358223794499\n",
      "5.448356769946903\n",
      "5.975313149558657\n",
      "8.217187909947516\n",
      "5.983783246419422\n",
      "9.977414504660127\n",
      "2.1754006321044104\n",
      "2.2661099712135213\n",
      "7.14696599437516\n",
      "0.9448610106904631\n",
      "4.694163156751413\n",
      "6.287767308227917\n",
      "5.606146860446549\n",
      "8.887867926413271\n",
      "1.5844029632127354\n",
      "5.1761906858486375\n"
     ]
    }
   ],
   "source": [
    "for i, v in s.items():\n",
    "    s[i]=s[i]*10\n",
    "    print(s[i])"
   ]
  },
  {
   "cell_type": "markdown",
   "metadata": {},
   "source": [
    "pandas nous permet de faire la même chose mais de manière plus élégante."
   ]
  },
  {
   "cell_type": "code",
   "execution_count": 28,
   "metadata": {
    "pycharm": {
     "name": "#%%\n"
    }
   },
   "outputs": [],
   "source": [
    "#Réinitialisation notre série\n",
    "s = pd.Series([0.2,20.,0.3])"
   ]
  },
  {
   "cell_type": "code",
   "execution_count": 18,
   "metadata": {},
   "outputs": [],
   "source": [
    "v = lambda x : x * 10"
   ]
  },
  {
   "cell_type": "code",
   "execution_count": 19,
   "metadata": {},
   "outputs": [
    {
     "data": {
      "text/plain": [
       "20"
      ]
     },
     "execution_count": 19,
     "metadata": {},
     "output_type": "execute_result"
    }
   ],
   "source": [
    "v(2)"
   ]
  },
  {
   "cell_type": "code",
   "execution_count": 22,
   "metadata": {
    "pycharm": {
     "name": "#%%\n"
    }
   },
   "outputs": [
    {
     "data": {
      "text/plain": [
       "0    100\n",
       "1    200\n",
       "2    300\n",
       "dtype: int64"
      ]
     },
     "execution_count": 22,
     "metadata": {},
     "output_type": "execute_result"
    }
   ],
   "source": [
    "s.apply(lambda x : x * 10)"
   ]
  },
  {
   "cell_type": "markdown",
   "metadata": {},
   "source": [
    "Vous pouvez remarquer qu'il n'y a pas de commande inPlace. Donc la serie s n'est pas modifiée directement.\n",
    "\n",
    "Par contre, elle retourne une nouvelle serie.\n",
    "\n",
    "On peut également s'en servir de filtre pour retourner des booleens.\n",
    "\n",
    "On veut savoir si la valeur est supérieure à 0.5"
   ]
  },
  {
   "cell_type": "code",
   "execution_count": 31,
   "metadata": {},
   "outputs": [
    {
     "data": {
      "text/plain": [
       "True"
      ]
     },
     "execution_count": 31,
     "metadata": {},
     "output_type": "execute_result"
    }
   ],
   "source": [
    "val = lambda x : True if x>0.5 else False\n",
    "val(1)"
   ]
  },
  {
   "cell_type": "code",
   "execution_count": 33,
   "metadata": {
    "pycharm": {
     "name": "#%%\n"
    }
   },
   "outputs": [
    {
     "data": {
      "text/plain": [
       "0    False\n",
       "1     True\n",
       "2    False\n",
       "dtype: bool"
      ]
     },
     "execution_count": 33,
     "metadata": {},
     "output_type": "execute_result"
    }
   ],
   "source": [
    "s.apply(lambda x : True if x>0.5 else False)"
   ]
  },
  {
   "cell_type": "markdown",
   "metadata": {},
   "source": [
    "Mais comment faire si notre condition demande plusierus lignes de codes.\n",
    "\n",
    "Nous allons devoir dans ce cas créer une fonction qui sera appellée dans apply."
   ]
  },
  {
   "cell_type": "code",
   "execution_count": 34,
   "metadata": {
    "pycharm": {
     "name": "#%%\n"
    }
   },
   "outputs": [],
   "source": [
    "def affectation(valeur):\n",
    "    if valeur<0.3:\n",
    "        return \"Classe 1\"\n",
    "    elif valeur>=0.3 and valeur <=0.8:\n",
    "        return \"Classe 2\"\n",
    "    else:\n",
    "        return \"Classe 3\"\n"
   ]
  },
  {
   "cell_type": "code",
   "execution_count": 40,
   "metadata": {},
   "outputs": [
    {
     "data": {
      "text/plain": [
       "'Classe 1'"
      ]
     },
     "execution_count": 40,
     "metadata": {},
     "output_type": "execute_result"
    }
   ],
   "source": [
    "affectation(0.2)"
   ]
  },
  {
   "cell_type": "code",
   "execution_count": 35,
   "metadata": {
    "pycharm": {
     "name": "#%%\n"
    }
   },
   "outputs": [
    {
     "data": {
      "text/plain": [
       "0    Classe 1\n",
       "1    Classe 3\n",
       "2    Classe 2\n",
       "dtype: object"
      ]
     },
     "execution_count": 35,
     "metadata": {},
     "output_type": "execute_result"
    }
   ],
   "source": [
    "s.apply(affectation)"
   ]
  },
  {
   "cell_type": "markdown",
   "metadata": {},
   "source": [
    "Maintenant, nous voulons pouvoir passer des paramètres à notre fonction"
   ]
  },
  {
   "cell_type": "code",
   "execution_count": 41,
   "metadata": {
    "pycharm": {
     "name": "#%%\n"
    }
   },
   "outputs": [],
   "source": [
    "def affectation(valeur, minVal, maxVal):\n",
    "    if valeur<minVal:\n",
    "        return \"Classe 1\"\n",
    "    elif valeur>=minVal and valeur <=maxVal:\n",
    "        return \"Classe 2\"\n",
    "    else:\n",
    "        return \"Classe 3\""
   ]
  },
  {
   "cell_type": "code",
   "execution_count": 42,
   "metadata": {
    "pycharm": {
     "name": "#%%\n"
    }
   },
   "outputs": [
    {
     "data": {
      "text/plain": [
       "0    Classe 1\n",
       "1    Classe 3\n",
       "2    Classe 2\n",
       "dtype: object"
      ]
     },
     "execution_count": 42,
     "metadata": {},
     "output_type": "execute_result"
    }
   ],
   "source": [
    "s.apply(affectation, args=(0.3,0.8))"
   ]
  },
  {
   "cell_type": "code",
   "execution_count": 43,
   "metadata": {
    "pycharm": {
     "name": "#%%\n"
    }
   },
   "outputs": [
    {
     "data": {
      "text/plain": [
       "0    Classe 1\n",
       "1    Classe 3\n",
       "2    Classe 2\n",
       "dtype: object"
      ]
     },
     "execution_count": 43,
     "metadata": {},
     "output_type": "execute_result"
    }
   ],
   "source": [
    "# Autre forme d'écriture\n",
    "s.apply(affectation, minVal=0.3, maxVal=0.8)"
   ]
  },
  {
   "cell_type": "markdown",
   "metadata": {},
   "source": [
    "C'est bien gentil tout ça mais que faire quand j'ai du texte ?"
   ]
  },
  {
   "cell_type": "code",
   "execution_count": 44,
   "metadata": {
    "pycharm": {
     "name": "#%%\n"
    }
   },
   "outputs": [],
   "source": [
    "s1=pd.read_csv('chien.csv', header=None, squeeze=True)"
   ]
  },
  {
   "cell_type": "code",
   "execution_count": 45,
   "metadata": {
    "pycharm": {
     "name": "#%%\n"
    }
   },
   "outputs": [
    {
     "data": {
      "text/plain": [
       "0                           BEAGLE-HARRIER\n",
       "1                          AKITA AMÉRICAIN\n",
       "2                                CA DE BOU\n",
       "3                            CAIRN TERRIER\n",
       "4                               CANAAN DOG\n",
       "5                           ALANGU MASTIFF\n",
       "6                         ABERDEEN TERRIER\n",
       "7                        AIREDALE TERRIER \n",
       "8                           BEARDED COLLIE\n",
       "9               ALAPAHA BLUE BLOOD BULLDOG\n",
       "10                              CANE CORSO\n",
       "11    CANE DA PASTORE MAREMMANO-ABRUZZESE \n",
       "12                        ALASKAN KLEE KAI\n",
       "13                      BEDLINGTON TERRIER\n",
       "14                        ALASKAN MALAMUTE\n",
       "15              ALPENDÄNDISCHE DACHSBRACKE\n",
       "16                        BERGER ALLEMAND \n",
       "17                         AMERICAN AKITA \n",
       "18                        AMERICAN BULLDOG\n",
       "19             AFFENPINSCHER AFGHAN HOUND \n",
       "20                BERGER ANGLAIS ANCESTRAL\n",
       "21                 AMERICAN COCKER SPANIEL\n",
       "22              CANE DE PASTORE BERGAMASCO\n",
       "23                                 CANICHE\n",
       "24              AMERICAN ENGLISH COONHOUND\n",
       "25                       BERGER AUSTRALIEN\n",
       "26                    AMERICAN ESKIMO DOG \n",
       "27                       AMERICAN FOXHOUND\n",
       "28                  CANICHE ROYAL BICOLORE\n",
       "29                            CANIS PUGNAX\n",
       "30               AMERICAN HAIRLESS TERRIER\n",
       "Name: 0, dtype: object"
      ]
     },
     "execution_count": 45,
     "metadata": {},
     "output_type": "execute_result"
    }
   ],
   "source": [
    "s1.apply(lambda x : x.upper())"
   ]
  },
  {
   "cell_type": "markdown",
   "metadata": {},
   "source": [
    "La méthode apply couplée avec une fonction vous permet virtuellement de modifiertout ce que vous voulez. Cela sera très pratique dans la partie mise en forme de vos données avant de commencer une analyse."
   ]
  },
  {
   "cell_type": "markdown",
   "metadata": {},
   "source": [
    "# map"
   ]
  },
  {
   "cell_type": "code",
   "execution_count": 47,
   "metadata": {
    "pycharm": {
     "name": "#%%\n"
    }
   },
   "outputs": [],
   "source": [
    "import pandas as pd\n",
    "import numpy as np"
   ]
  },
  {
   "cell_type": "code",
   "execution_count": 48,
   "metadata": {
    "pycharm": {
     "name": "#%%\n"
    }
   },
   "outputs": [],
   "source": [
    "def ajout1(x):\n",
    "    return x+1"
   ]
  },
  {
   "cell_type": "code",
   "execution_count": null,
   "metadata": {
    "pycharm": {
     "name": "#%%\n"
    }
   },
   "outputs": [],
   "source": [
    "ajout1(5)"
   ]
  },
  {
   "cell_type": "code",
   "execution_count": 49,
   "metadata": {
    "pycharm": {
     "name": "#%%\n"
    }
   },
   "outputs": [
    {
     "data": {
      "text/plain": [
       "0    100.0\n",
       "1    200.0\n",
       "2    300.0\n",
       "3    400.0\n",
       "4    500.0\n",
       "5    600.0\n",
       "6    700.0\n",
       "7    800.0\n",
       "8    900.0\n",
       "9      NaN\n",
       "dtype: float64"
      ]
     },
     "execution_count": 49,
     "metadata": {},
     "output_type": "execute_result"
    }
   ],
   "source": [
    "maseries=pd.Series([100,200,300,400,500,600,700,800,900,np.nan])\n",
    "maseries"
   ]
  },
  {
   "cell_type": "code",
   "execution_count": 50,
   "metadata": {
    "pycharm": {
     "name": "#%%\n"
    }
   },
   "outputs": [
    {
     "data": {
      "text/plain": [
       "0    101.0\n",
       "1    201.0\n",
       "2    301.0\n",
       "3    401.0\n",
       "4    501.0\n",
       "5    601.0\n",
       "6    701.0\n",
       "7    801.0\n",
       "8    901.0\n",
       "9      NaN\n",
       "dtype: float64"
      ]
     },
     "execution_count": 50,
     "metadata": {},
     "output_type": "execute_result"
    }
   ],
   "source": [
    "maseries.map(ajout1)"
   ]
  },
  {
   "cell_type": "code",
   "execution_count": 53,
   "metadata": {
    "pycharm": {
     "name": "#%%\n"
    }
   },
   "outputs": [
    {
     "data": {
      "text/plain": [
       "0    La valeur est 100.0\n",
       "1    La valeur est 200.0\n",
       "2    La valeur est 300.0\n",
       "3    La valeur est 400.0\n",
       "4    La valeur est 500.0\n",
       "5    La valeur est 600.0\n",
       "6    La valeur est 700.0\n",
       "7    La valeur est 800.0\n",
       "8    La valeur est 900.0\n",
       "9      La valeur est nan\n",
       "dtype: object"
      ]
     },
     "execution_count": 53,
     "metadata": {},
     "output_type": "execute_result"
    }
   ],
   "source": [
    "maseries.map(lambda x: 'La valeur est {}'.format(x) )"
   ]
  },
  {
   "cell_type": "code",
   "execution_count": 54,
   "metadata": {
    "pycharm": {
     "name": "#%%\n"
    }
   },
   "outputs": [
    {
     "data": {
      "text/plain": [
       "0    La valeur est 100.0\n",
       "1    La valeur est 200.0\n",
       "2    La valeur est 300.0\n",
       "3    La valeur est 400.0\n",
       "4    La valeur est 500.0\n",
       "5    La valeur est 600.0\n",
       "6    La valeur est 700.0\n",
       "7    La valeur est 800.0\n",
       "8    La valeur est 900.0\n",
       "9                    NaN\n",
       "dtype: object"
      ]
     },
     "execution_count": 54,
     "metadata": {},
     "output_type": "execute_result"
    }
   ],
   "source": [
    "maseries.map(lambda x: 'La valeur est {}'.format(x), na_action='ignore' )"
   ]
  },
  {
   "cell_type": "code",
   "execution_count": 55,
   "metadata": {
    "pycharm": {
     "name": "#%%\n"
    }
   },
   "outputs": [
    {
     "data": {
      "text/plain": [
       "0    H\n",
       "1    F\n",
       "2    F\n",
       "3    H\n",
       "4    F\n",
       "5    H\n",
       "6    H\n",
       "7    F\n",
       "8    F\n",
       "9    H\n",
       "dtype: object"
      ]
     },
     "execution_count": 55,
     "metadata": {},
     "output_type": "execute_result"
    }
   ],
   "source": [
    "mesinfos=pd.Series([\"H\",\"F\",\"F\",\"H\",\"F\",\"H\",\"H\",\"F\",\"F\",\"H\"])\n",
    "mesinfos\n"
   ]
  },
  {
   "cell_type": "markdown",
   "metadata": {},
   "source": [
    "Utilisation d'un dictionnaire"
   ]
  },
  {
   "cell_type": "code",
   "execution_count": 56,
   "metadata": {
    "pycharm": {
     "name": "#%%\n"
    }
   },
   "outputs": [
    {
     "data": {
      "text/plain": [
       "0    0\n",
       "1    1\n",
       "2    1\n",
       "3    0\n",
       "4    1\n",
       "5    0\n",
       "6    0\n",
       "7    1\n",
       "8    1\n",
       "9    0\n",
       "dtype: int64"
      ]
     },
     "execution_count": 56,
     "metadata": {},
     "output_type": "execute_result"
    }
   ],
   "source": [
    "mesinfos.map({'H':0,\"F\":1})"
   ]
  },
  {
   "cell_type": "markdown",
   "metadata": {},
   "source": [
    "Exemple pour fusionner deux series"
   ]
  },
  {
   "cell_type": "code",
   "execution_count": 57,
   "metadata": {
    "pycharm": {
     "name": "#%%\n"
    }
   },
   "outputs": [
    {
     "data": {
      "text/plain": [
       "one      1\n",
       "two      2\n",
       "three    3\n",
       "dtype: int64"
      ]
     },
     "execution_count": 57,
     "metadata": {},
     "output_type": "execute_result"
    }
   ],
   "source": [
    "x = pd.Series([1,2,3], index=['one', 'two', 'three'])\n",
    "x"
   ]
  },
  {
   "cell_type": "code",
   "execution_count": 58,
   "metadata": {
    "pycharm": {
     "name": "#%%\n"
    }
   },
   "outputs": [
    {
     "data": {
      "text/plain": [
       "1    foo\n",
       "2    bar\n",
       "3    baz\n",
       "dtype: object"
      ]
     },
     "execution_count": 58,
     "metadata": {},
     "output_type": "execute_result"
    }
   ],
   "source": [
    "y = pd.Series(['foo', 'bar', 'baz'], index=[1,2,3])\n",
    "y"
   ]
  },
  {
   "cell_type": "code",
   "execution_count": 59,
   "metadata": {
    "pycharm": {
     "name": "#%%\n"
    }
   },
   "outputs": [
    {
     "data": {
      "text/plain": [
       "one      foo\n",
       "two      bar\n",
       "three    baz\n",
       "dtype: object"
      ]
     },
     "execution_count": 59,
     "metadata": {},
     "output_type": "execute_result"
    }
   ],
   "source": [
    "x.map(y)"
   ]
  },
  {
   "cell_type": "code",
   "execution_count": null,
   "metadata": {
    "pycharm": {
     "name": "#%%\n"
    }
   },
   "outputs": [],
   "source": []
  }
 ],
 "metadata": {
  "kernelspec": {
   "display_name": "Python 3",
   "language": "python",
   "name": "python3"
  },
  "language_info": {
   "codemirror_mode": {
    "name": "ipython",
    "version": 3
   },
   "file_extension": ".py",
   "mimetype": "text/x-python",
   "name": "python",
   "nbconvert_exporter": "python",
   "pygments_lexer": "ipython3",
   "version": "3.9.5"
  }
 },
 "nbformat": 4,
 "nbformat_minor": 1
}
